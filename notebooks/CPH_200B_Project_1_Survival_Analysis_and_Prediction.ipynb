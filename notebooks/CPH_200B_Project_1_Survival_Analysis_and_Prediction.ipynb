{
 "cells": [
  {
   "cell_type": "markdown",
   "id": "27cc5509-75ad-4148-93b8-088b97ad1b17",
   "metadata": {
    "id": "27cc5509-75ad-4148-93b8-088b97ad1b17"
   },
   "source": [
    "<p align=center>\n",
    "<img src=\"assets/cphbanner.png\" width=1280>\n",
    "</p>"
   ]
  },
  {
   "cell_type": "code",
   "execution_count": 1,
   "id": "014c2e32-3dfb-418a-b462-43537d11fa2d",
   "metadata": {},
   "outputs": [],
   "source": [
    "%reload_ext autoreload\n",
    "%autoreload 2\n",
    "\n",
    "import sys\n",
    "import os\n",
    "\n",
    "path_to_project = os.path.abspath(os.path.join(os.getcwd(), '../'))    \n",
    "sys.path.insert(1, os.path.join(path_to_project))"
   ]
  },
  {
   "cell_type": "markdown",
   "id": "2c79aea8-f578-4310-9e04-46fed86f21f1",
   "metadata": {
    "id": "2c79aea8-f578-4310-9e04-46fed86f21f1"
   },
   "source": [
    "# **Project 1: Survival Analysis and Prediction [30 points]**"
   ]
  },
  {
   "cell_type": "markdown",
   "id": "a9f62d3c-682e-44df-bda2-c04125cdb7a8",
   "metadata": {
    "id": "a9f62d3c-682e-44df-bda2-c04125cdb7a8"
   },
   "source": [
    "Many clinical trials and observational studies involve following patients for a long time. The primary event of\n",
    "interest in those studies may include death, relapse, or the onset of a new disease. The follow-up time for a trial\n",
    "or a study may range from few weeks to many years. To analyze this data, we typically conduct time-to-event\n",
    "analysis and build predictive models that learn time-to-event distributions. The goal of this project is to test\n",
    "your ability to conduct basic survival analyses as well as develop ML models for survival prediction."
   ]
  },
  {
   "cell_type": "markdown",
   "id": "345becba-b634-48c3-9130-b7071af5e878",
   "metadata": {
    "id": "345becba-b634-48c3-9130-b7071af5e878"
   },
   "source": [
    "**Please submit your report and code by <u> Tuesday 2/4 11:59 PST </u>.**"
   ]
  },
  {
   "cell_type": "markdown",
   "id": "03ac5b5a-a269-46be-bf9a-a300b535809f",
   "metadata": {
    "id": "03ac5b5a-a269-46be-bf9a-a300b535809f"
   },
   "source": [
    "## Task 1.1: Nonparametric Survival Analysis in Heart Failure [7 pts]\n",
    "\n",
    "Nonparametric models of survival data do not make parametric assumptions on the distribution of timeto-event outcomes. They are widely used in clinical studies to derive descriptive statistics of survival in a population. In this task, we will apply standard nonparametric estimators to analyze survival of heart failure patients in a recent, widely-recognized study [1]."
   ]
  },
  {
   "cell_type": "markdown",
   "id": "c0fdb3da-c55d-46a3-a277-82260a5b8298",
   "metadata": {
    "id": "c0fdb3da-c55d-46a3-a277-82260a5b8298"
   },
   "source": [
    "####  Setup and Dataset\n",
    "\n",
    "The dataset we will use in this task was extracted from the electronic health records (EHRs) of 299 heart failure patients from the Faisalabad Institute of Cardiology and at the Allied Hospital in Faisalabad (Punjab, Pakistan), during April–December 2015. The cohort included 105 women and 194 men, and their ages range between 40 and 95 years old. All 299 patients had left ventricular systolic dysfunction and had previous heart failures (HF) that put them in classes III or IV of New York Heart Association (NYHA) classification of the stages of heart failure. The dataset contains 13 features, which report clinical, body, and lifestyle information. The patients were followed up for 130 days on average (maximum follow-up period was 285 days). The event of interest was death during the follow-up period."
   ]
  },
  {
   "cell_type": "markdown",
   "id": "f1e3b06b-9959-4feb-8700-e22e2cee7918",
   "metadata": {
    "id": "f1e3b06b-9959-4feb-8700-e22e2cee7918"
   },
   "source": [
    "The dataset is publicly accessible and was shared with the class through UCSF Box. You can load the dataset in the directory \"./data\" and inspect all the features/outcomes using pandas as follows:"
   ]
  },
  {
   "cell_type": "code",
   "execution_count": 2,
   "id": "bc2e885c-2106-49c8-9bd9-979919e5efa6",
   "metadata": {
    "ExecuteTime": {
     "end_time": "2025-01-17T23:21:26.386831Z",
     "start_time": "2025-01-17T23:21:26.384336Z"
    },
    "id": "bc2e885c-2106-49c8-9bd9-979919e5efa6"
   },
   "outputs": [],
   "source": [
    "import os\n",
    "import pandas as pd\n",
    "from src.directory import csv_paths"
   ]
  },
  {
   "cell_type": "code",
   "execution_count": 3,
   "id": "228683f099a2712",
   "metadata": {
    "ExecuteTime": {
     "end_time": "2025-01-17T23:21:26.626657Z",
     "start_time": "2025-01-17T23:21:26.621803Z"
    }
   },
   "outputs": [],
   "source": [
    "# read data\n",
    "dataset = pd.read_csv(csv_paths['faisalabad'])"
   ]
  },
  {
   "cell_type": "code",
   "execution_count": 4,
   "id": "e169f044fb712899",
   "metadata": {
    "ExecuteTime": {
     "end_time": "2025-01-17T23:21:26.676897Z",
     "start_time": "2025-01-17T23:21:26.666305Z"
    }
   },
   "outputs": [
    {
     "data": {
      "text/html": [
       "<div>\n",
       "<style scoped>\n",
       "    .dataframe tbody tr th:only-of-type {\n",
       "        vertical-align: middle;\n",
       "    }\n",
       "\n",
       "    .dataframe tbody tr th {\n",
       "        vertical-align: top;\n",
       "    }\n",
       "\n",
       "    .dataframe thead th {\n",
       "        text-align: right;\n",
       "    }\n",
       "</style>\n",
       "<table border=\"1\" class=\"dataframe\">\n",
       "  <thead>\n",
       "    <tr style=\"text-align: right;\">\n",
       "      <th></th>\n",
       "      <th>age</th>\n",
       "      <th>anaemia</th>\n",
       "      <th>creatinine_phosphokinase</th>\n",
       "      <th>diabetes</th>\n",
       "      <th>ejection_fraction</th>\n",
       "      <th>high_blood_pressure</th>\n",
       "      <th>platelets</th>\n",
       "      <th>serum_creatinine</th>\n",
       "      <th>serum_sodium</th>\n",
       "      <th>sex</th>\n",
       "      <th>smoking</th>\n",
       "      <th>time</th>\n",
       "      <th>DEATH_EVENT</th>\n",
       "    </tr>\n",
       "  </thead>\n",
       "  <tbody>\n",
       "    <tr>\n",
       "      <th>0</th>\n",
       "      <td>75.0</td>\n",
       "      <td>0</td>\n",
       "      <td>582</td>\n",
       "      <td>0</td>\n",
       "      <td>20</td>\n",
       "      <td>1</td>\n",
       "      <td>265000.00</td>\n",
       "      <td>1.9</td>\n",
       "      <td>130</td>\n",
       "      <td>1</td>\n",
       "      <td>0</td>\n",
       "      <td>4</td>\n",
       "      <td>1</td>\n",
       "    </tr>\n",
       "    <tr>\n",
       "      <th>1</th>\n",
       "      <td>55.0</td>\n",
       "      <td>0</td>\n",
       "      <td>7861</td>\n",
       "      <td>0</td>\n",
       "      <td>38</td>\n",
       "      <td>0</td>\n",
       "      <td>263358.03</td>\n",
       "      <td>1.1</td>\n",
       "      <td>136</td>\n",
       "      <td>1</td>\n",
       "      <td>0</td>\n",
       "      <td>6</td>\n",
       "      <td>1</td>\n",
       "    </tr>\n",
       "    <tr>\n",
       "      <th>2</th>\n",
       "      <td>65.0</td>\n",
       "      <td>0</td>\n",
       "      <td>146</td>\n",
       "      <td>0</td>\n",
       "      <td>20</td>\n",
       "      <td>0</td>\n",
       "      <td>162000.00</td>\n",
       "      <td>1.3</td>\n",
       "      <td>129</td>\n",
       "      <td>1</td>\n",
       "      <td>1</td>\n",
       "      <td>7</td>\n",
       "      <td>1</td>\n",
       "    </tr>\n",
       "    <tr>\n",
       "      <th>3</th>\n",
       "      <td>50.0</td>\n",
       "      <td>1</td>\n",
       "      <td>111</td>\n",
       "      <td>0</td>\n",
       "      <td>20</td>\n",
       "      <td>0</td>\n",
       "      <td>210000.00</td>\n",
       "      <td>1.9</td>\n",
       "      <td>137</td>\n",
       "      <td>1</td>\n",
       "      <td>0</td>\n",
       "      <td>7</td>\n",
       "      <td>1</td>\n",
       "    </tr>\n",
       "    <tr>\n",
       "      <th>4</th>\n",
       "      <td>65.0</td>\n",
       "      <td>1</td>\n",
       "      <td>160</td>\n",
       "      <td>1</td>\n",
       "      <td>20</td>\n",
       "      <td>0</td>\n",
       "      <td>327000.00</td>\n",
       "      <td>2.7</td>\n",
       "      <td>116</td>\n",
       "      <td>0</td>\n",
       "      <td>0</td>\n",
       "      <td>8</td>\n",
       "      <td>1</td>\n",
       "    </tr>\n",
       "    <tr>\n",
       "      <th>...</th>\n",
       "      <td>...</td>\n",
       "      <td>...</td>\n",
       "      <td>...</td>\n",
       "      <td>...</td>\n",
       "      <td>...</td>\n",
       "      <td>...</td>\n",
       "      <td>...</td>\n",
       "      <td>...</td>\n",
       "      <td>...</td>\n",
       "      <td>...</td>\n",
       "      <td>...</td>\n",
       "      <td>...</td>\n",
       "      <td>...</td>\n",
       "    </tr>\n",
       "    <tr>\n",
       "      <th>294</th>\n",
       "      <td>62.0</td>\n",
       "      <td>0</td>\n",
       "      <td>61</td>\n",
       "      <td>1</td>\n",
       "      <td>38</td>\n",
       "      <td>1</td>\n",
       "      <td>155000.00</td>\n",
       "      <td>1.1</td>\n",
       "      <td>143</td>\n",
       "      <td>1</td>\n",
       "      <td>1</td>\n",
       "      <td>270</td>\n",
       "      <td>0</td>\n",
       "    </tr>\n",
       "    <tr>\n",
       "      <th>295</th>\n",
       "      <td>55.0</td>\n",
       "      <td>0</td>\n",
       "      <td>1820</td>\n",
       "      <td>0</td>\n",
       "      <td>38</td>\n",
       "      <td>0</td>\n",
       "      <td>270000.00</td>\n",
       "      <td>1.2</td>\n",
       "      <td>139</td>\n",
       "      <td>0</td>\n",
       "      <td>0</td>\n",
       "      <td>271</td>\n",
       "      <td>0</td>\n",
       "    </tr>\n",
       "    <tr>\n",
       "      <th>296</th>\n",
       "      <td>45.0</td>\n",
       "      <td>0</td>\n",
       "      <td>2060</td>\n",
       "      <td>1</td>\n",
       "      <td>60</td>\n",
       "      <td>0</td>\n",
       "      <td>742000.00</td>\n",
       "      <td>0.8</td>\n",
       "      <td>138</td>\n",
       "      <td>0</td>\n",
       "      <td>0</td>\n",
       "      <td>278</td>\n",
       "      <td>0</td>\n",
       "    </tr>\n",
       "    <tr>\n",
       "      <th>297</th>\n",
       "      <td>45.0</td>\n",
       "      <td>0</td>\n",
       "      <td>2413</td>\n",
       "      <td>0</td>\n",
       "      <td>38</td>\n",
       "      <td>0</td>\n",
       "      <td>140000.00</td>\n",
       "      <td>1.4</td>\n",
       "      <td>140</td>\n",
       "      <td>1</td>\n",
       "      <td>1</td>\n",
       "      <td>280</td>\n",
       "      <td>0</td>\n",
       "    </tr>\n",
       "    <tr>\n",
       "      <th>298</th>\n",
       "      <td>50.0</td>\n",
       "      <td>0</td>\n",
       "      <td>196</td>\n",
       "      <td>0</td>\n",
       "      <td>45</td>\n",
       "      <td>0</td>\n",
       "      <td>395000.00</td>\n",
       "      <td>1.6</td>\n",
       "      <td>136</td>\n",
       "      <td>1</td>\n",
       "      <td>1</td>\n",
       "      <td>285</td>\n",
       "      <td>0</td>\n",
       "    </tr>\n",
       "  </tbody>\n",
       "</table>\n",
       "<p>299 rows × 13 columns</p>\n",
       "</div>"
      ],
      "text/plain": [
       "      age  anaemia  creatinine_phosphokinase  diabetes  ejection_fraction  \\\n",
       "0    75.0        0                       582         0                 20   \n",
       "1    55.0        0                      7861         0                 38   \n",
       "2    65.0        0                       146         0                 20   \n",
       "3    50.0        1                       111         0                 20   \n",
       "4    65.0        1                       160         1                 20   \n",
       "..    ...      ...                       ...       ...                ...   \n",
       "294  62.0        0                        61         1                 38   \n",
       "295  55.0        0                      1820         0                 38   \n",
       "296  45.0        0                      2060         1                 60   \n",
       "297  45.0        0                      2413         0                 38   \n",
       "298  50.0        0                       196         0                 45   \n",
       "\n",
       "     high_blood_pressure  platelets  serum_creatinine  serum_sodium  sex  \\\n",
       "0                      1  265000.00               1.9           130    1   \n",
       "1                      0  263358.03               1.1           136    1   \n",
       "2                      0  162000.00               1.3           129    1   \n",
       "3                      0  210000.00               1.9           137    1   \n",
       "4                      0  327000.00               2.7           116    0   \n",
       "..                   ...        ...               ...           ...  ...   \n",
       "294                    1  155000.00               1.1           143    1   \n",
       "295                    0  270000.00               1.2           139    0   \n",
       "296                    0  742000.00               0.8           138    0   \n",
       "297                    0  140000.00               1.4           140    1   \n",
       "298                    0  395000.00               1.6           136    1   \n",
       "\n",
       "     smoking  time  DEATH_EVENT  \n",
       "0          0     4            1  \n",
       "1          0     6            1  \n",
       "2          1     7            1  \n",
       "3          0     7            1  \n",
       "4          0     8            1  \n",
       "..       ...   ...          ...  \n",
       "294        1   270            0  \n",
       "295        0   271            0  \n",
       "296        0   278            0  \n",
       "297        1   280            0  \n",
       "298        1   285            0  \n",
       "\n",
       "[299 rows x 13 columns]"
      ]
     },
     "execution_count": 4,
     "metadata": {},
     "output_type": "execute_result"
    }
   ],
   "source": [
    "dataset"
   ]
  },
  {
   "cell_type": "code",
   "execution_count": 5,
   "id": "c75d4409-6dc3-412d-b931-f4544b0353ce",
   "metadata": {
    "ExecuteTime": {
     "end_time": "2025-01-17T23:21:26.742009Z",
     "start_time": "2025-01-17T23:21:26.707998Z"
    },
    "id": "c75d4409-6dc3-412d-b931-f4544b0353ce",
    "outputId": "9ab13dd2-b6e3-4968-e9f5-c60615d3bf31"
   },
   "outputs": [
    {
     "data": {
      "text/html": [
       "<div>\n",
       "<style scoped>\n",
       "    .dataframe tbody tr th:only-of-type {\n",
       "        vertical-align: middle;\n",
       "    }\n",
       "\n",
       "    .dataframe tbody tr th {\n",
       "        vertical-align: top;\n",
       "    }\n",
       "\n",
       "    .dataframe thead th {\n",
       "        text-align: right;\n",
       "    }\n",
       "</style>\n",
       "<table border=\"1\" class=\"dataframe\">\n",
       "  <thead>\n",
       "    <tr style=\"text-align: right;\">\n",
       "      <th></th>\n",
       "      <th>age</th>\n",
       "      <th>anaemia</th>\n",
       "      <th>creatinine_phosphokinase</th>\n",
       "      <th>diabetes</th>\n",
       "      <th>ejection_fraction</th>\n",
       "      <th>high_blood_pressure</th>\n",
       "      <th>platelets</th>\n",
       "      <th>serum_creatinine</th>\n",
       "      <th>serum_sodium</th>\n",
       "      <th>sex</th>\n",
       "      <th>smoking</th>\n",
       "      <th>time</th>\n",
       "      <th>DEATH_EVENT</th>\n",
       "    </tr>\n",
       "  </thead>\n",
       "  <tbody>\n",
       "    <tr>\n",
       "      <th>count</th>\n",
       "      <td>299.000000</td>\n",
       "      <td>299.000000</td>\n",
       "      <td>299.000000</td>\n",
       "      <td>299.000000</td>\n",
       "      <td>299.000000</td>\n",
       "      <td>299.000000</td>\n",
       "      <td>299.000000</td>\n",
       "      <td>299.00000</td>\n",
       "      <td>299.000000</td>\n",
       "      <td>299.000000</td>\n",
       "      <td>299.00000</td>\n",
       "      <td>299.000000</td>\n",
       "      <td>299.00000</td>\n",
       "    </tr>\n",
       "    <tr>\n",
       "      <th>mean</th>\n",
       "      <td>60.833893</td>\n",
       "      <td>0.431438</td>\n",
       "      <td>581.839465</td>\n",
       "      <td>0.418060</td>\n",
       "      <td>38.083612</td>\n",
       "      <td>0.351171</td>\n",
       "      <td>263358.029264</td>\n",
       "      <td>1.39388</td>\n",
       "      <td>136.625418</td>\n",
       "      <td>0.648829</td>\n",
       "      <td>0.32107</td>\n",
       "      <td>130.260870</td>\n",
       "      <td>0.32107</td>\n",
       "    </tr>\n",
       "    <tr>\n",
       "      <th>std</th>\n",
       "      <td>11.894809</td>\n",
       "      <td>0.496107</td>\n",
       "      <td>970.287881</td>\n",
       "      <td>0.494067</td>\n",
       "      <td>11.834841</td>\n",
       "      <td>0.478136</td>\n",
       "      <td>97804.236869</td>\n",
       "      <td>1.03451</td>\n",
       "      <td>4.412477</td>\n",
       "      <td>0.478136</td>\n",
       "      <td>0.46767</td>\n",
       "      <td>77.614208</td>\n",
       "      <td>0.46767</td>\n",
       "    </tr>\n",
       "    <tr>\n",
       "      <th>min</th>\n",
       "      <td>40.000000</td>\n",
       "      <td>0.000000</td>\n",
       "      <td>23.000000</td>\n",
       "      <td>0.000000</td>\n",
       "      <td>14.000000</td>\n",
       "      <td>0.000000</td>\n",
       "      <td>25100.000000</td>\n",
       "      <td>0.50000</td>\n",
       "      <td>113.000000</td>\n",
       "      <td>0.000000</td>\n",
       "      <td>0.00000</td>\n",
       "      <td>4.000000</td>\n",
       "      <td>0.00000</td>\n",
       "    </tr>\n",
       "    <tr>\n",
       "      <th>25%</th>\n",
       "      <td>51.000000</td>\n",
       "      <td>0.000000</td>\n",
       "      <td>116.500000</td>\n",
       "      <td>0.000000</td>\n",
       "      <td>30.000000</td>\n",
       "      <td>0.000000</td>\n",
       "      <td>212500.000000</td>\n",
       "      <td>0.90000</td>\n",
       "      <td>134.000000</td>\n",
       "      <td>0.000000</td>\n",
       "      <td>0.00000</td>\n",
       "      <td>73.000000</td>\n",
       "      <td>0.00000</td>\n",
       "    </tr>\n",
       "    <tr>\n",
       "      <th>50%</th>\n",
       "      <td>60.000000</td>\n",
       "      <td>0.000000</td>\n",
       "      <td>250.000000</td>\n",
       "      <td>0.000000</td>\n",
       "      <td>38.000000</td>\n",
       "      <td>0.000000</td>\n",
       "      <td>262000.000000</td>\n",
       "      <td>1.10000</td>\n",
       "      <td>137.000000</td>\n",
       "      <td>1.000000</td>\n",
       "      <td>0.00000</td>\n",
       "      <td>115.000000</td>\n",
       "      <td>0.00000</td>\n",
       "    </tr>\n",
       "    <tr>\n",
       "      <th>75%</th>\n",
       "      <td>70.000000</td>\n",
       "      <td>1.000000</td>\n",
       "      <td>582.000000</td>\n",
       "      <td>1.000000</td>\n",
       "      <td>45.000000</td>\n",
       "      <td>1.000000</td>\n",
       "      <td>303500.000000</td>\n",
       "      <td>1.40000</td>\n",
       "      <td>140.000000</td>\n",
       "      <td>1.000000</td>\n",
       "      <td>1.00000</td>\n",
       "      <td>203.000000</td>\n",
       "      <td>1.00000</td>\n",
       "    </tr>\n",
       "    <tr>\n",
       "      <th>max</th>\n",
       "      <td>95.000000</td>\n",
       "      <td>1.000000</td>\n",
       "      <td>7861.000000</td>\n",
       "      <td>1.000000</td>\n",
       "      <td>80.000000</td>\n",
       "      <td>1.000000</td>\n",
       "      <td>850000.000000</td>\n",
       "      <td>9.40000</td>\n",
       "      <td>148.000000</td>\n",
       "      <td>1.000000</td>\n",
       "      <td>1.00000</td>\n",
       "      <td>285.000000</td>\n",
       "      <td>1.00000</td>\n",
       "    </tr>\n",
       "  </tbody>\n",
       "</table>\n",
       "</div>"
      ],
      "text/plain": [
       "              age     anaemia  creatinine_phosphokinase    diabetes  \\\n",
       "count  299.000000  299.000000                299.000000  299.000000   \n",
       "mean    60.833893    0.431438                581.839465    0.418060   \n",
       "std     11.894809    0.496107                970.287881    0.494067   \n",
       "min     40.000000    0.000000                 23.000000    0.000000   \n",
       "25%     51.000000    0.000000                116.500000    0.000000   \n",
       "50%     60.000000    0.000000                250.000000    0.000000   \n",
       "75%     70.000000    1.000000                582.000000    1.000000   \n",
       "max     95.000000    1.000000               7861.000000    1.000000   \n",
       "\n",
       "       ejection_fraction  high_blood_pressure      platelets  \\\n",
       "count         299.000000           299.000000     299.000000   \n",
       "mean           38.083612             0.351171  263358.029264   \n",
       "std            11.834841             0.478136   97804.236869   \n",
       "min            14.000000             0.000000   25100.000000   \n",
       "25%            30.000000             0.000000  212500.000000   \n",
       "50%            38.000000             0.000000  262000.000000   \n",
       "75%            45.000000             1.000000  303500.000000   \n",
       "max            80.000000             1.000000  850000.000000   \n",
       "\n",
       "       serum_creatinine  serum_sodium         sex    smoking        time  \\\n",
       "count         299.00000    299.000000  299.000000  299.00000  299.000000   \n",
       "mean            1.39388    136.625418    0.648829    0.32107  130.260870   \n",
       "std             1.03451      4.412477    0.478136    0.46767   77.614208   \n",
       "min             0.50000    113.000000    0.000000    0.00000    4.000000   \n",
       "25%             0.90000    134.000000    0.000000    0.00000   73.000000   \n",
       "50%             1.10000    137.000000    1.000000    0.00000  115.000000   \n",
       "75%             1.40000    140.000000    1.000000    1.00000  203.000000   \n",
       "max             9.40000    148.000000    1.000000    1.00000  285.000000   \n",
       "\n",
       "       DEATH_EVENT  \n",
       "count    299.00000  \n",
       "mean       0.32107  \n",
       "std        0.46767  \n",
       "min        0.00000  \n",
       "25%        0.00000  \n",
       "50%        0.00000  \n",
       "75%        1.00000  \n",
       "max        1.00000  "
      ]
     },
     "execution_count": 5,
     "metadata": {},
     "output_type": "execute_result"
    }
   ],
   "source": [
    "# descriptive statistics\n",
    "dataset.describe()"
   ]
  },
  {
   "cell_type": "code",
   "execution_count": 6,
   "id": "70539b63bd443d95",
   "metadata": {
    "ExecuteTime": {
     "end_time": "2025-01-17T23:21:26.747412Z",
     "start_time": "2025-01-17T23:21:26.743151Z"
    }
   },
   "outputs": [
    {
     "name": "stdout",
     "output_type": "stream",
     "text": [
      "NA Count by Variable : Series([], dtype: int64)\n"
     ]
    }
   ],
   "source": [
    "# check for NaN\n",
    "print(f'NA Count by Variable : {dataset.isna().sum(axis=0)[dataset.isna().sum(axis=0) > 0]}')"
   ]
  },
  {
   "cell_type": "markdown",
   "id": "d21442ab-caf2-4dae-acf9-ca225a272d9d",
   "metadata": {
    "id": "d21442ab-caf2-4dae-acf9-ca225a272d9d"
   },
   "source": [
    "## Solution"
   ]
  },
  {
   "cell_type": "markdown",
   "id": "820ca3a2ac060a6a",
   "metadata": {},
   "source": [
    "### Task 1.1.1"
   ]
  },
  {
   "cell_type": "code",
   "execution_count": 7,
   "id": "139f23307cc71027",
   "metadata": {
    "ExecuteTime": {
     "end_time": "2025-01-18T00:12:10.954120Z",
     "start_time": "2025-01-18T00:12:10.951393Z"
    }
   },
   "outputs": [],
   "source": [
    "import pandas as pd\n",
    "import seaborn as sns\n",
    "from matplotlib import pyplot as plt\n",
    "from lifelines import KaplanMeierFitter\n",
    "from src.KM_estimator import kaplan_meier\n",
    "from src.directory import csv_paths\n",
    "import numpy as np"
   ]
  },
  {
   "cell_type": "code",
   "execution_count": 8,
   "id": "5d937e7f111fcc07",
   "metadata": {
    "ExecuteTime": {
     "end_time": "2025-01-18T00:12:11.166836Z",
     "start_time": "2025-01-18T00:12:11.160698Z"
    }
   },
   "outputs": [],
   "source": [
    "time_col = 'time'\n",
    "event_col = 'DEATH_EVENT'\n",
    "dataset = pd.read_csv(csv_paths['faisalabad'])\n",
    "\n",
    "# set alpha for confidence intervals\n",
    "alpha = 0.05"
   ]
  },
  {
   "cell_type": "code",
   "execution_count": 9,
   "id": "2536f4f0dd1ba42a",
   "metadata": {
    "ExecuteTime": {
     "end_time": "2025-01-18T00:12:11.486365Z",
     "start_time": "2025-01-18T00:12:11.480157Z"
    }
   },
   "outputs": [],
   "source": [
    "# get KM estimate from scratch\n",
    "km_df = kaplan_meier(dataset, time_col, event_col, alpha=alpha)"
   ]
  },
  {
   "cell_type": "code",
   "execution_count": 10,
   "id": "aec2d6b14fc67c5e",
   "metadata": {
    "ExecuteTime": {
     "end_time": "2025-01-18T00:12:11.864192Z",
     "start_time": "2025-01-18T00:12:11.847637Z"
    }
   },
   "outputs": [
    {
     "data": {
      "text/plain": [
       "<lifelines.KaplanMeierFitter:\"KM_estimate\", fitted with 299 total observations, 203 right-censored observations>"
      ]
     },
     "execution_count": 10,
     "metadata": {},
     "output_type": "execute_result"
    }
   ],
   "source": [
    "# get KM estimate from lifelines\n",
    "kmf = KaplanMeierFitter(alpha=alpha)\n",
    "kmf.fit(dataset['time'], event_observed=dataset['DEATH_EVENT'])"
   ]
  },
  {
   "cell_type": "code",
   "execution_count": 11,
   "id": "e885fa1cbe077b17",
   "metadata": {
    "ExecuteTime": {
     "end_time": "2025-01-18T00:12:12.521455Z",
     "start_time": "2025-01-18T00:12:12.420449Z"
    }
   },
   "outputs": [
    {
     "data": {
      "image/png": "[encoded data removed]",
      "text/plain": [
       "<Figure size 640x480 with 1 Axes>"
      ]
     },
     "metadata": {},
     "output_type": "display_data"
    }
   ],
   "source": [
    "# plot KM estimates from scratch and with lifelines\n",
    "fig, axs = plt.subplots()\n",
    "\n",
    "# plot from scratch KM\n",
    "sns.lineplot(data=km_df, x='time', y='survival_prob', \n",
    "             drawstyle='steps-pre', ax=axs, label='From scratch', legend=True)\n",
    "plt.fill_between(km_df['time'], km_df['ci_lower'], km_df['ci_upper'], alpha=0.3)\n",
    "\n",
    "# plot lifelines KM\n",
    "kmf.plot_survival_function(label='Lifelines')\n",
    "\n",
    "plt.ylim(.45, 1.05)\n",
    "plt.title(fr'Kaplan-Meier Estimates, CI $\\alpha$ ={alpha}')\n",
    "plt.show()\n",
    "\n",
    "# check survival function equality\n",
    "assert all(np.isclose(km_df['survival_prob'].values.ravel(),\n",
    "                      kmf.survival_function_.reindex(range(km_df['time'].max() +1)).ffill().values.ravel())), 'Survival functions don\\'t match!'"
   ]
  },
  {
   "cell_type": "markdown",
   "id": "6e80f62a34462af5",
   "metadata": {},
   "source": [
    "### Task 1.1.2"
   ]
  },
  {
   "cell_type": "code",
   "execution_count": 12,
   "id": "f90026a63b692998",
   "metadata": {
    "ExecuteTime": {
     "end_time": "2025-01-17T23:21:27.319184Z",
     "start_time": "2025-01-17T23:21:27.317080Z"
    }
   },
   "outputs": [],
   "source": [
    "from scipy.optimize import curve_fit"
   ]
  },
  {
   "cell_type": "code",
   "execution_count": 13,
   "id": "d626c9d13141757a",
   "metadata": {
    "ExecuteTime": {
     "end_time": "2025-01-17T23:21:27.330499Z",
     "start_time": "2025-01-17T23:21:27.320125Z"
    }
   },
   "outputs": [],
   "source": [
    "eps = 1e-8\n",
    "\n",
    "def exp_model(x, a, b, c):\n",
    "    return a * np.exp(-b * x) + c\n",
    "\n",
    "popt, pcov = curve_fit(f=exp_model, xdata=km_df.index, ydata=km_df['survival_prob'])\n",
    "S_t = exp_model(km_df.index, *popt)"
   ]
  },
  {
   "cell_type": "code",
   "execution_count": 14,
   "id": "f8ffd8224f9e2523",
   "metadata": {
    "ExecuteTime": {
     "end_time": "2025-01-17T23:21:27.404546Z",
     "start_time": "2025-01-17T23:21:27.331485Z"
    }
   },
   "outputs": [
    {
     "data": {
      "image/png": "[encoded data removed]",
      "text/plain": [
       "<Figure size 640x480 with 1 Axes>"
      ]
     },
     "metadata": {},
     "output_type": "display_data"
    }
   ],
   "source": [
    "# plot KM estimates from scratch and with lifelines\n",
    "fig2, axs2 = plt.subplots()\n",
    "\n",
    "# plot from scratch KM\n",
    "sns.lineplot(data=km_df, x='time', y='survival_prob', \n",
    "             drawstyle='steps-pre', ax=axs2, label='Empirical curve', legend=True)\n",
    "plt.fill_between(km_df['time'], km_df['ci_lower'], km_df['ci_upper'], alpha=0.3)\n",
    "\n",
    "axs2.plot(S_t, label='Exponential Curve')\n",
    "plt.legend()\n",
    "plt.show()\n",
    "\n",
    "# Limitation: no guaranteed y==0 at x==0"
   ]
  },
  {
   "cell_type": "markdown",
   "id": "2af77fc875718dd",
   "metadata": {},
   "source": [
    "### Task 1.1.3"
   ]
  },
  {
   "cell_type": "code",
   "execution_count": 15,
   "id": "bc15a246b6797b59",
   "metadata": {
    "ExecuteTime": {
     "end_time": "2025-01-17T23:21:29.264585Z",
     "start_time": "2025-01-17T23:21:27.405185Z"
    }
   },
   "outputs": [
    {
     "name": "stdout",
     "output_type": "stream",
     "text": [
      "C-index: 0.5302506482281764\n"
     ]
    },
    {
     "data": {
      "image/png": "[encoded data removed]",
      "text/plain": [
       "<Figure size 640x480 with 1 Axes>"
      ]
     },
     "metadata": {},
     "output_type": "display_data"
    }
   ],
   "source": [
    "from src.data_dict import feature_config\n",
    "from src.KM_estimator import nearest_neighbor_km, evaluate_c_index\n",
    "\n",
    "dataset_name = 'faisalabad'\n",
    "patient_features = feature_config[dataset_name]\n",
    "time_col = 'time'\n",
    "event_col = 'DEATH_EVENT'\n",
    "max_time = dataset[time_col].max()\n",
    "\n",
    "patient_km_fits = nearest_neighbor_km(dataset, patient_features, time_col, event_col, n_neighbors=20)\n",
    "\n",
    "c_index = evaluate_c_index(dataset, patient_km_fits, time_col, event_col)\n",
    "print(f\"C-index: {c_index}\")\n",
    "\n",
    "#Example of getting survival probabilites for a specific patient\n",
    "fig, axs = plt.subplots()\n",
    "for patient_index in range(5):\n",
    "    time_points = np.arange(max_time)\n",
    "    patient_survival_prob = patient_km_fits[patient_index].survival_function_at_times(time_points)\n",
    "    patient_survival_prob.index.name = time_col\n",
    "    \n",
    "    sns.lineplot(data=patient_survival_prob.reset_index(), x='time', y='KM_estimate', \n",
    "                 drawstyle='steps-pre', ax=axs, label=f'Patient {patient_index}', legend=True)"
   ]
  },
  {
   "cell_type": "markdown",
   "id": "1b0f0da4e0b0e337",
   "metadata": {},
   "source": [
    "## Task 1.2: Survival Prediction in HF patients using the Cox Model [7 pts]"
   ]
  },
  {
   "cell_type": "markdown",
   "id": "105bbc1730cc22ca",
   "metadata": {},
   "source": [
    "### Task 1.2.1"
   ]
  },
  {
   "cell_type": "code",
   "execution_count": 16,
   "id": "ab011fa6bdd0dc5",
   "metadata": {
    "ExecuteTime": {
     "end_time": "2025-01-17T23:21:30.895790Z",
     "start_time": "2025-01-17T23:21:29.265822Z"
    }
   },
   "outputs": [
    {
     "name": "stderr",
     "output_type": "stream",
     "text": [
      "Seed set to 40\n"
     ]
    }
   ],
   "source": [
    "import numpy as np\n",
    "import pandas as pd\n",
    "from src.data_dict import feature_config\n",
    "from src.lightning import CoxRiskLightning, get_trainer, get_checkpoint_callback, get_log_dir_path\n",
    "from src.dataset import SurvivalDataModule"
   ]
  },
  {
   "cell_type": "code",
   "execution_count": 17,
   "id": "36e69d3cd8b73653",
   "metadata": {
    "ExecuteTime": {
     "end_time": "2025-01-17T23:21:31.877658Z",
     "start_time": "2025-01-17T23:21:30.896893Z"
    }
   },
   "outputs": [
    {
     "name": "stderr",
     "output_type": "stream",
     "text": [
      "Using bfloat16 Automatic Mixed Precision (AMP)\n",
      "GPU available: False, used: False\n",
      "TPU available: False, using: 0 TPU cores\n",
      "HPU available: False, using: 0 HPUs\n"
     ]
    },
    {
     "name": "stdout",
     "output_type": "stream",
     "text": [
      "Training model\n"
     ]
    },
    {
     "name": "stderr",
     "output_type": "stream",
     "text": [
      "Processing faisalabad Dataset: 299it [00:00, 10816.87it/s]\n",
      "\n",
      "  | Name  | Type         | Params | Mode \n",
      "-----------------------------------------------\n",
      "0 | model | CoxRiskTorch | 12     | train\n",
      "-----------------------------------------------\n",
      "12        Trainable params\n",
      "0         Non-trainable params\n",
      "12        Total params\n",
      "0.000     Total estimated model params size (MB)\n",
      "2         Modules in train mode\n",
      "0         Modules in eval mode\n"
     ]
    },
    {
     "data": {
      "application/vnd.jupyter.widget-view+json": {
       "model_id": "42f46c7973064cd5b6bf36b079f2e66b",
       "version_major": 2,
       "version_minor": 0
      },
      "text/plain": [
       "Sanity Checking: |          | 0/? [00:00<?, ?it/s]"
      ]
     },
     "metadata": {},
     "output_type": "display_data"
    },
    {
     "data": {
      "application/vnd.jupyter.widget-view+json": {
       "model_id": "027e3b1aab7a49748fb6a704cd171037",
       "version_major": 2,
       "version_minor": 0
      },
      "text/plain": [
       "Training: |          | 0/? [00:00<?, ?it/s]"
      ]
     },
     "metadata": {},
     "output_type": "display_data"
    },
    {
     "data": {
      "application/vnd.jupyter.widget-view+json": {
       "model_id": "a06e64db595d4216ba9a153bafc518e5",
       "version_major": 2,
       "version_minor": 0
      },
      "text/plain": [
       "Validation: |          | 0/? [00:00<?, ?it/s]"
      ]
     },
     "metadata": {},
     "output_type": "display_data"
    },
    {
     "data": {
      "application/vnd.jupyter.widget-view+json": {
       "model_id": "a4fe682c08a648b69a56fba50a4ac08b",
       "version_major": 2,
       "version_minor": 0
      },
      "text/plain": [
       "Validation: |          | 0/? [00:00<?, ?it/s]"
      ]
     },
     "metadata": {},
     "output_type": "display_data"
    },
    {
     "data": {
      "application/vnd.jupyter.widget-view+json": {
       "model_id": "3d5d9ce6434f422e8ba6b50fe0358980",
       "version_major": 2,
       "version_minor": 0
      },
      "text/plain": [
       "Validation: |          | 0/? [00:00<?, ?it/s]"
      ]
     },
     "metadata": {},
     "output_type": "display_data"
    },
    {
     "data": {
      "application/vnd.jupyter.widget-view+json": {
       "model_id": "9778a2cfd84b4050bda271f707810bed",
       "version_major": 2,
       "version_minor": 0
      },
      "text/plain": [
       "Validation: |          | 0/? [00:00<?, ?it/s]"
      ]
     },
     "metadata": {},
     "output_type": "display_data"
    },
    {
     "data": {
      "application/vnd.jupyter.widget-view+json": {
       "model_id": "3ebcd45d3f33400fb27735cd868f3b2e",
       "version_major": 2,
       "version_minor": 0
      },
      "text/plain": [
       "Validation: |          | 0/? [00:00<?, ?it/s]"
      ]
     },
     "metadata": {},
     "output_type": "display_data"
    },
    {
     "data": {
      "application/vnd.jupyter.widget-view+json": {
       "model_id": "1ba2b1835f09412fb50efa99c0046ef5",
       "version_major": 2,
       "version_minor": 0
      },
      "text/plain": [
       "Validation: |          | 0/? [00:00<?, ?it/s]"
      ]
     },
     "metadata": {},
     "output_type": "display_data"
    },
    {
     "data": {
      "application/vnd.jupyter.widget-view+json": {
       "model_id": "28585bf72c2f44e1bcd90ca2c1280f3b",
       "version_major": 2,
       "version_minor": 0
      },
      "text/plain": [
       "Validation: |          | 0/? [00:00<?, ?it/s]"
      ]
     },
     "metadata": {},
     "output_type": "display_data"
    },
    {
     "data": {
      "application/vnd.jupyter.widget-view+json": {
       "model_id": "f845e5cdc5a64f6ea139dafbb51ecc8e",
       "version_major": 2,
       "version_minor": 0
      },
      "text/plain": [
       "Validation: |          | 0/? [00:00<?, ?it/s]"
      ]
     },
     "metadata": {},
     "output_type": "display_data"
    },
    {
     "data": {
      "application/vnd.jupyter.widget-view+json": {
       "model_id": "c30af39d4a024fef8810f01b5e26a96b",
       "version_major": 2,
       "version_minor": 0
      },
      "text/plain": [
       "Validation: |          | 0/? [00:00<?, ?it/s]"
      ]
     },
     "metadata": {},
     "output_type": "display_data"
    },
    {
     "data": {
      "application/vnd.jupyter.widget-view+json": {
       "model_id": "12032071b7b14a0fa6c834d42c5ddd73",
       "version_major": 2,
       "version_minor": 0
      },
      "text/plain": [
       "Validation: |          | 0/? [00:00<?, ?it/s]"
      ]
     },
     "metadata": {},
     "output_type": "display_data"
    },
    {
     "data": {
      "application/vnd.jupyter.widget-view+json": {
       "model_id": "5271f2dec45d46fa9d97a9c23c359d09",
       "version_major": 2,
       "version_minor": 0
      },
      "text/plain": [
       "Validation: |          | 0/? [00:00<?, ?it/s]"
      ]
     },
     "metadata": {},
     "output_type": "display_data"
    },
    {
     "data": {
      "application/vnd.jupyter.widget-view+json": {
       "model_id": "bf7d93e8e36f411e9988de91d1fb99af",
       "version_major": 2,
       "version_minor": 0
      },
      "text/plain": [
       "Validation: |          | 0/? [00:00<?, ?it/s]"
      ]
     },
     "metadata": {},
     "output_type": "display_data"
    },
    {
     "data": {
      "application/vnd.jupyter.widget-view+json": {
       "model_id": "16012569478741d4bd63b29812b537df",
       "version_major": 2,
       "version_minor": 0
      },
      "text/plain": [
       "Validation: |          | 0/? [00:00<?, ?it/s]"
      ]
     },
     "metadata": {},
     "output_type": "display_data"
    },
    {
     "data": {
      "application/vnd.jupyter.widget-view+json": {
       "model_id": "3c5d22791b8742b0922984a5c4a365fb",
       "version_major": 2,
       "version_minor": 0
      },
      "text/plain": [
       "Validation: |          | 0/? [00:00<?, ?it/s]"
      ]
     },
     "metadata": {},
     "output_type": "display_data"
    },
    {
     "data": {
      "application/vnd.jupyter.widget-view+json": {
       "model_id": "43edaac3f34c40398b5d2a1990131f71",
       "version_major": 2,
       "version_minor": 0
      },
      "text/plain": [
       "Validation: |          | 0/? [00:00<?, ?it/s]"
      ]
     },
     "metadata": {},
     "output_type": "display_data"
    },
    {
     "data": {
      "application/vnd.jupyter.widget-view+json": {
       "model_id": "c3f4c996c4b64947975057767f5d35e9",
       "version_major": 2,
       "version_minor": 0
      },
      "text/plain": [
       "Validation: |          | 0/? [00:00<?, ?it/s]"
      ]
     },
     "metadata": {},
     "output_type": "display_data"
    },
    {
     "data": {
      "application/vnd.jupyter.widget-view+json": {
       "model_id": "e8e36feedb5d40eba18d1f929abb21ef",
       "version_major": 2,
       "version_minor": 0
      },
      "text/plain": [
       "Validation: |          | 0/? [00:00<?, ?it/s]"
      ]
     },
     "metadata": {},
     "output_type": "display_data"
    },
    {
     "data": {
      "application/vnd.jupyter.widget-view+json": {
       "model_id": "ae28da4cfcec4a4eb404c376cf46e844",
       "version_major": 2,
       "version_minor": 0
      },
      "text/plain": [
       "Validation: |          | 0/? [00:00<?, ?it/s]"
      ]
     },
     "metadata": {},
     "output_type": "display_data"
    },
    {
     "data": {
      "application/vnd.jupyter.widget-view+json": {
       "model_id": "2797378db8dc4626ab558a01f46157f3",
       "version_major": 2,
       "version_minor": 0
      },
      "text/plain": [
       "Validation: |          | 0/? [00:00<?, ?it/s]"
      ]
     },
     "metadata": {},
     "output_type": "display_data"
    },
    {
     "data": {
      "application/vnd.jupyter.widget-view+json": {
       "model_id": "233cceb9f96948cc8e690e628962b73a",
       "version_major": 2,
       "version_minor": 0
      },
      "text/plain": [
       "Validation: |          | 0/? [00:00<?, ?it/s]"
      ]
     },
     "metadata": {},
     "output_type": "display_data"
    },
    {
     "data": {
      "application/vnd.jupyter.widget-view+json": {
       "model_id": "ee55b7d2dfe1433caa82bbaa7f71d765",
       "version_major": 2,
       "version_minor": 0
      },
      "text/plain": [
       "Validation: |          | 0/? [00:00<?, ?it/s]"
      ]
     },
     "metadata": {},
     "output_type": "display_data"
    },
    {
     "data": {
      "application/vnd.jupyter.widget-view+json": {
       "model_id": "4cd897871d904a95b22b726d8b90bf11",
       "version_major": 2,
       "version_minor": 0
      },
      "text/plain": [
       "Validation: |          | 0/? [00:00<?, ?it/s]"
      ]
     },
     "metadata": {},
     "output_type": "display_data"
    },
    {
     "data": {
      "application/vnd.jupyter.widget-view+json": {
       "model_id": "b2565577ff1342b3a3879263b4950360",
       "version_major": 2,
       "version_minor": 0
      },
      "text/plain": [
       "Validation: |          | 0/? [00:00<?, ?it/s]"
      ]
     },
     "metadata": {},
     "output_type": "display_data"
    },
    {
     "data": {
      "application/vnd.jupyter.widget-view+json": {
       "model_id": "881b2928906943e2adba2236d98b2e03",
       "version_major": 2,
       "version_minor": 0
      },
      "text/plain": [
       "Validation: |          | 0/? [00:00<?, ?it/s]"
      ]
     },
     "metadata": {},
     "output_type": "display_data"
    },
    {
     "data": {
      "application/vnd.jupyter.widget-view+json": {
       "model_id": "baf8f71cdaa5407d95556216a062c06a",
       "version_major": 2,
       "version_minor": 0
      },
      "text/plain": [
       "Validation: |          | 0/? [00:00<?, ?it/s]"
      ]
     },
     "metadata": {},
     "output_type": "display_data"
    },
    {
     "data": {
      "application/vnd.jupyter.widget-view+json": {
       "model_id": "5902c5f2c2944481b5d5a4a6fc46357d",
       "version_major": 2,
       "version_minor": 0
      },
      "text/plain": [
       "Validation: |          | 0/? [00:00<?, ?it/s]"
      ]
     },
     "metadata": {},
     "output_type": "display_data"
    },
    {
     "data": {
      "application/vnd.jupyter.widget-view+json": {
       "model_id": "bd608d44306a4eb9820367b4413a73f2",
       "version_major": 2,
       "version_minor": 0
      },
      "text/plain": [
       "Validation: |          | 0/? [00:00<?, ?it/s]"
      ]
     },
     "metadata": {},
     "output_type": "display_data"
    },
    {
     "data": {
      "application/vnd.jupyter.widget-view+json": {
       "model_id": "f421ffab11b04c3dac9e36a2342b7c9e",
       "version_major": 2,
       "version_minor": 0
      },
      "text/plain": [
       "Validation: |          | 0/? [00:00<?, ?it/s]"
      ]
     },
     "metadata": {},
     "output_type": "display_data"
    },
    {
     "data": {
      "application/vnd.jupyter.widget-view+json": {
       "model_id": "5b0d342112774f16a083954c23e2dafb",
       "version_major": 2,
       "version_minor": 0
      },
      "text/plain": [
       "Validation: |          | 0/? [00:00<?, ?it/s]"
      ]
     },
     "metadata": {},
     "output_type": "display_data"
    },
    {
     "data": {
      "application/vnd.jupyter.widget-view+json": {
       "model_id": "9bf69bfc433b43318b2549d3f2a10677",
       "version_major": 2,
       "version_minor": 0
      },
      "text/plain": [
       "Validation: |          | 0/? [00:00<?, ?it/s]"
      ]
     },
     "metadata": {},
     "output_type": "display_data"
    },
    {
     "data": {
      "application/vnd.jupyter.widget-view+json": {
       "model_id": "c4e61dab3f4441eda06e26e546855268",
       "version_major": 2,
       "version_minor": 0
      },
      "text/plain": [
       "Validation: |          | 0/? [00:00<?, ?it/s]"
      ]
     },
     "metadata": {},
     "output_type": "display_data"
    },
    {
     "data": {
      "application/vnd.jupyter.widget-view+json": {
       "model_id": "5eae9643016a4b8d88410e737c66e540",
       "version_major": 2,
       "version_minor": 0
      },
      "text/plain": [
       "Validation: |          | 0/? [00:00<?, ?it/s]"
      ]
     },
     "metadata": {},
     "output_type": "display_data"
    },
    {
     "data": {
      "application/vnd.jupyter.widget-view+json": {
       "model_id": "ba9f4299457248799fdbaa64519f1659",
       "version_major": 2,
       "version_minor": 0
      },
      "text/plain": [
       "Validation: |          | 0/? [00:00<?, ?it/s]"
      ]
     },
     "metadata": {},
     "output_type": "display_data"
    },
    {
     "data": {
      "application/vnd.jupyter.widget-view+json": {
       "model_id": "aa41a49895b1489ebf3cc10269cce0f5",
       "version_major": 2,
       "version_minor": 0
      },
      "text/plain": [
       "Validation: |          | 0/? [00:00<?, ?it/s]"
      ]
     },
     "metadata": {},
     "output_type": "display_data"
    },
    {
     "data": {
      "application/vnd.jupyter.widget-view+json": {
       "model_id": "c0e4ccd1d36d478a9f9d20baacba1a6c",
       "version_major": 2,
       "version_minor": 0
      },
      "text/plain": [
       "Validation: |          | 0/? [00:00<?, ?it/s]"
      ]
     },
     "metadata": {},
     "output_type": "display_data"
    }
   ],
   "source": [
    "time_col = 'time'\n",
    "event_col = 'DEATH_EVENT'\n",
    "dataset_name = 'faisalabad'\n",
    "\n",
    "# set up datamodule\n",
    "datamodule = SurvivalDataModule(\n",
    "    dataset_name=dataset_name,\n",
    "    input_features=feature_config[dataset_name],\n",
    "    time_col=time_col,\n",
    "    event_col=event_col\n",
    ")\n",
    "\n",
    "# set up model \n",
    "model = CoxRiskLightning(\n",
    "    dataset_name=dataset_name,\n",
    "    clinical_features=feature_config[dataset_name],\n",
    "    time_col=time_col,\n",
    "    event_col=event_col\n",
    ")\n",
    "\n",
    "# set log dir\n",
    "model_name = 'cox'\n",
    "log_dir_path = get_log_dir_path(model_name)\n",
    "\n",
    "# get checkpoint callback\n",
    "checkpoint_callback = get_checkpoint_callback(model_name, log_dir_path)\n",
    "\n",
    "# get trainer\n",
    "trainer = get_trainer(model_name, checkpoint_callback)\n",
    "\n",
    "print(\"Training model\")\n",
    "trainer.fit(model, datamodule)"
   ]
  },
  {
   "cell_type": "code",
   "execution_count": 18,
   "id": "bda30a89a2b03722",
   "metadata": {},
   "outputs": [
    {
     "name": "stdout",
     "output_type": "stream",
     "text": [
      "\n",
      "Hazard Ratio of 1-year increment of age on risk: 1.5197906\n"
     ]
    }
   ],
   "source": [
    "model_coefficients = model.model.risk.weight.squeeze().detach().numpy()\n",
    "# print(pd.DataFrame(model_coefficients, index=feature_config[dataset_name], columns=['Model coefficients']))\n",
    "\n",
    "feature_of_interest = 'age'\n",
    "idx = model.feature_names.index(feature_of_interest)\n",
    "effect_of_increment = np.exp(model_coefficients[idx])\n",
    "print(f'\\nHazard Ratio of 1-year increment of {feature_of_interest} on risk:', effect_of_increment)"
   ]
  },
  {
   "cell_type": "markdown",
   "id": "5ebf42d758c600a7",
   "metadata": {},
   "source": [
    "### Task 1.2.2"
   ]
  },
  {
   "cell_type": "code",
   "execution_count": 19,
   "id": "c5745795cf5936cd",
   "metadata": {},
   "outputs": [
    {
     "name": "stderr",
     "output_type": "stream",
     "text": [
      "Using bfloat16 Automatic Mixed Precision (AMP)\n",
      "GPU available: False, used: False\n",
      "TPU available: False, using: 0 TPU cores\n",
      "HPU available: False, using: 0 HPUs\n",
      "Processing faisalabad Dataset: 299it [00:00, 29203.08it/s]\n",
      "/home/hentipapai/miniconda3/envs/cph-200b/lib/python3.11/site-packages/pytorch_lightning/trainer/connectors/data_connector.py:425: The 'predict_dataloader' does not have many workers which may be a bottleneck. Consider increasing the value of the `num_workers` argument` to `num_workers=11` in the `DataLoader` to improve performance.\n"
     ]
    },
    {
     "data": {
      "application/vnd.jupyter.widget-view+json": {
       "model_id": "9dda97f4c66140af96b9d096e3533f0b",
       "version_major": 2,
       "version_minor": 0
      },
      "text/plain": [
       "Predicting: |          | 0/? [00:00<?, ?it/s]"
      ]
     },
     "metadata": {},
     "output_type": "display_data"
    },
    {
     "name": "stdout",
     "output_type": "stream",
     "text": [
      "C-index on train set: 0.7424431287005298\n"
     ]
    }
   ],
   "source": [
    "# run train set through model\n",
    "predict_trainer = get_trainer(model_name, checkpoint_callback)\n",
    "_ = predict_trainer.predict(model, datamodule)\n",
    "metrics = model.metric_dict\n",
    "print('C-index on train set:', metrics['predict']['predict_cindex'])"
   ]
  },
  {
   "cell_type": "markdown",
   "id": "68490f1247a3e468",
   "metadata": {},
   "source": [
    "### Task 1.2.3"
   ]
  },
  {
   "cell_type": "code",
   "execution_count": 20,
   "id": "77d5b77aa9232ec5",
   "metadata": {
    "ExecuteTime": {
     "end_time": "2025-01-17T23:51:54.975447Z",
     "start_time": "2025-01-17T23:51:54.889331Z"
    }
   },
   "outputs": [],
   "source": [
    "from src.dataset import merge_batches\n",
    "from src.data_dict import feature_config\n",
    "from src.lightning import CoxRiskLightning, get_trainer, get_checkpoint_callback, get_log_dir_path\n",
    "from src.dataset import SurvivalDataModule"
   ]
  },
  {
   "cell_type": "code",
   "execution_count": 21,
   "id": "3ff1506d7af866bd",
   "metadata": {
    "ExecuteTime": {
     "end_time": "2025-01-17T23:51:56.259359Z",
     "start_time": "2025-01-17T23:51:55.222648Z"
    }
   },
   "outputs": [
    {
     "name": "stderr",
     "output_type": "stream",
     "text": [
      "Using bfloat16 Automatic Mixed Precision (AMP)\n",
      "GPU available: False, used: False\n",
      "TPU available: False, using: 0 TPU cores\n",
      "HPU available: False, using: 0 HPUs\n"
     ]
    },
    {
     "name": "stdout",
     "output_type": "stream",
     "text": [
      "Training model\n"
     ]
    },
    {
     "name": "stderr",
     "output_type": "stream",
     "text": [
      "Processing faisalabad Dataset: 299it [00:00, 28539.82it/s]\n",
      "\n",
      "  | Name  | Type         | Params | Mode \n",
      "-----------------------------------------------\n",
      "0 | model | CoxRiskTorch | 13     | train\n",
      "-----------------------------------------------\n",
      "13        Trainable params\n",
      "0         Non-trainable params\n",
      "13        Total params\n",
      "0.000     Total estimated model params size (MB)\n",
      "2         Modules in train mode\n",
      "0         Modules in eval mode\n"
     ]
    },
    {
     "data": {
      "application/vnd.jupyter.widget-view+json": {
       "model_id": "2a45101bc74d4eefa17f903c89e51052",
       "version_major": 2,
       "version_minor": 0
      },
      "text/plain": [
       "Sanity Checking: |          | 0/? [00:00<?, ?it/s]"
      ]
     },
     "metadata": {},
     "output_type": "display_data"
    },
    {
     "data": {
      "application/vnd.jupyter.widget-view+json": {
       "model_id": "acaf152b09b544c1adc00fb02196bf8d",
       "version_major": 2,
       "version_minor": 0
      },
      "text/plain": [
       "Training: |          | 0/? [00:00<?, ?it/s]"
      ]
     },
     "metadata": {},
     "output_type": "display_data"
    },
    {
     "data": {
      "application/vnd.jupyter.widget-view+json": {
       "model_id": "b837f90a13d1425a9ec8fa823de9c9ac",
       "version_major": 2,
       "version_minor": 0
      },
      "text/plain": [
       "Validation: |          | 0/? [00:00<?, ?it/s]"
      ]
     },
     "metadata": {},
     "output_type": "display_data"
    },
    {
     "data": {
      "application/vnd.jupyter.widget-view+json": {
       "model_id": "cf253717978042bb8bbadf6362c16e32",
       "version_major": 2,
       "version_minor": 0
      },
      "text/plain": [
       "Validation: |          | 0/? [00:00<?, ?it/s]"
      ]
     },
     "metadata": {},
     "output_type": "display_data"
    },
    {
     "data": {
      "application/vnd.jupyter.widget-view+json": {
       "model_id": "988fb3e372854bad88be8f5738bbad02",
       "version_major": 2,
       "version_minor": 0
      },
      "text/plain": [
       "Validation: |          | 0/? [00:00<?, ?it/s]"
      ]
     },
     "metadata": {},
     "output_type": "display_data"
    },
    {
     "data": {
      "application/vnd.jupyter.widget-view+json": {
       "model_id": "7e16faa70df7429caa8bb22bdb9cb661",
       "version_major": 2,
       "version_minor": 0
      },
      "text/plain": [
       "Validation: |          | 0/? [00:00<?, ?it/s]"
      ]
     },
     "metadata": {},
     "output_type": "display_data"
    },
    {
     "data": {
      "application/vnd.jupyter.widget-view+json": {
       "model_id": "c5f9d9bd41834fb1906020aff704919a",
       "version_major": 2,
       "version_minor": 0
      },
      "text/plain": [
       "Validation: |          | 0/? [00:00<?, ?it/s]"
      ]
     },
     "metadata": {},
     "output_type": "display_data"
    },
    {
     "data": {
      "application/vnd.jupyter.widget-view+json": {
       "model_id": "86ba798d04444b7d98641f225eb45e55",
       "version_major": 2,
       "version_minor": 0
      },
      "text/plain": [
       "Validation: |          | 0/? [00:00<?, ?it/s]"
      ]
     },
     "metadata": {},
     "output_type": "display_data"
    },
    {
     "data": {
      "application/vnd.jupyter.widget-view+json": {
       "model_id": "062633c626944577bf84778380a02d92",
       "version_major": 2,
       "version_minor": 0
      },
      "text/plain": [
       "Validation: |          | 0/? [00:00<?, ?it/s]"
      ]
     },
     "metadata": {},
     "output_type": "display_data"
    },
    {
     "data": {
      "application/vnd.jupyter.widget-view+json": {
       "model_id": "2d84657d2a2e41e3ab6d6a4121ff35e5",
       "version_major": 2,
       "version_minor": 0
      },
      "text/plain": [
       "Validation: |          | 0/? [00:00<?, ?it/s]"
      ]
     },
     "metadata": {},
     "output_type": "display_data"
    },
    {
     "data": {
      "application/vnd.jupyter.widget-view+json": {
       "model_id": "d6542abd5d3f4df5a42c10acdc4741c1",
       "version_major": 2,
       "version_minor": 0
      },
      "text/plain": [
       "Validation: |          | 0/? [00:00<?, ?it/s]"
      ]
     },
     "metadata": {},
     "output_type": "display_data"
    },
    {
     "data": {
      "application/vnd.jupyter.widget-view+json": {
       "model_id": "926f1407d6f04b76a33c30dd5689247c",
       "version_major": 2,
       "version_minor": 0
      },
      "text/plain": [
       "Validation: |          | 0/? [00:00<?, ?it/s]"
      ]
     },
     "metadata": {},
     "output_type": "display_data"
    },
    {
     "data": {
      "application/vnd.jupyter.widget-view+json": {
       "model_id": "335ef47f3d6e466db05ebb6fff23faf2",
       "version_major": 2,
       "version_minor": 0
      },
      "text/plain": [
       "Validation: |          | 0/? [00:00<?, ?it/s]"
      ]
     },
     "metadata": {},
     "output_type": "display_data"
    },
    {
     "data": {
      "application/vnd.jupyter.widget-view+json": {
       "model_id": "5133fee7e3be4f25acbb17e3acdfad88",
       "version_major": 2,
       "version_minor": 0
      },
      "text/plain": [
       "Validation: |          | 0/? [00:00<?, ?it/s]"
      ]
     },
     "metadata": {},
     "output_type": "display_data"
    }
   ],
   "source": [
    "time_col = 'time'\n",
    "event_col = 'DEATH_EVENT'\n",
    "dataset_name = 'faisalabad'\n",
    "\n",
    "# set up datamodule\n",
    "datamodule = SurvivalDataModule(\n",
    "    dataset_name=dataset_name,\n",
    "    input_features=feature_config[dataset_name],\n",
    "    time_col=time_col,\n",
    "    event_col=event_col\n",
    ")\n",
    "\n",
    "# set up model \n",
    "model = CoxRiskLightning(\n",
    "    dataset_name=dataset_name,\n",
    "    clinical_features=feature_config[dataset_name],\n",
    "    interaction_features=[('age', 'sex')],\n",
    "    time_col=time_col,\n",
    "    event_col=event_col\n",
    ")\n",
    "\n",
    "# get log dir\n",
    "model_name = 'cox_age_sex'\n",
    "log_dir_path = get_log_dir_path(model_name)\n",
    "\n",
    "# get checkpoint callback\n",
    "checkpoint_callback = get_checkpoint_callback(model_name, log_dir_path)\n",
    "\n",
    "# get trainer\n",
    "trainer = get_trainer(model_name, checkpoint_callback)\n",
    "\n",
    "print(\"Training model\")\n",
    "trainer.fit(model, datamodule)"
   ]
  },
  {
   "cell_type": "code",
   "execution_count": 22,
   "id": "f266ed6b2cc93bcb",
   "metadata": {
    "ExecuteTime": {
     "end_time": "2025-01-17T23:52:27.519003Z",
     "start_time": "2025-01-17T23:52:27.212391Z"
    }
   },
   "outputs": [],
   "source": [
    "X = merge_batches(datamodule.train_dataloader())\n",
    "X, _, _ = model.get_xtc(X)"
   ]
  },
  {
   "cell_type": "code",
   "execution_count": 23,
   "id": "54a85b3ecaa3cac6",
   "metadata": {
    "ExecuteTime": {
     "end_time": "2025-01-17T23:53:33.332990Z",
     "start_time": "2025-01-17T23:52:32.543019Z"
    }
   },
   "outputs": [
    {
     "data": {
      "text/plain": [
       "{'pval_age': 0.7532665816223898,\n",
       " 'pval_anaemia': 0.8700404623471534,\n",
       " 'pval_creatinine_phosphokinase': 0.9387867020419305,\n",
       " 'pval_diabetes': 0.5102732864679984,\n",
       " 'pval_ejection_fraction': 0.534337884413755,\n",
       " 'pval_high_blood_pressure': 0.9442999638843415,\n",
       " 'pval_platelets': 0.9247167957113667,\n",
       " 'pval_serum_creatinine': 0.7048116176801236,\n",
       " 'pval_serum_sodium': 0.9121651373650836,\n",
       " 'pval_sex': 0.5184208595952133,\n",
       " 'pval_smoking': 0.7323185454885612,\n",
       " \"pval_('age', 'sex')\": 0.8076853114712716}"
      ]
     },
     "execution_count": 23,
     "metadata": {},
     "output_type": "execute_result"
    }
   ],
   "source": [
    "# get model coefficient pvalues\n",
    "model.get_coefficient_pvals(X)"
   ]
  },
  {
   "cell_type": "markdown",
   "id": "0cc70b2d-cc66-42d0-8b37-8251f9e66636",
   "metadata": {
    "id": "0cc70b2d-cc66-42d0-8b37-8251f9e66636"
   },
   "source": [
    "## Task 1.3: Deep Survival Prediction for Heart Transplantation [8 pts]"
   ]
  },
  {
   "cell_type": "markdown",
   "id": "36d97445-e2aa-4429-9655-5c25041b2c67",
   "metadata": {
    "id": "36d97445-e2aa-4429-9655-5c25041b2c67"
   },
   "source": [
    "####  Setup and Dataset\n",
    "\n",
    "For this task, we will use data collected by the United Network for Organ Sharing (UNOS) [2], a non-profit organization that administers the only Organ Procurement and Transplantation Network (OPTN) in the US. UNOS is involved in many aspects of the organ transplant and donation process in the US, including data collection and maintenance, providing assitance to patients and care takers, and informing policy makers on the best use of the limited supply of organs and give all patients a fair chance at receiving the organ they need. UNOS manages the heart transplant waiting list, i.e., the list of terminally-ill patients waiting for donor heart. In order to determine the order of priority for receipt of a donor heart, individuals are classified by degrees of severity for a donor heart, blood type, body weight, and geographic location.\n",
    "\n",
    "This Task will focus on the cohort of terminally-ill patients who are enrolled in the wait-list for heart transplantation. In this setup, our goal is to predict the patients who are less likely to survive in order to prioritize them for receiving donated organs. The UNOS data covers 30 years of heart transplantation data in the US, spanning the years from 1985 to 2015. We will use data for patients who were on the wait-list for heart transplantation in the US from 1985 to 2010 (27,926 patients) to train an ML-based model for predicting individual-level survival. A held-out test set of 8,403 patients enrolled in the wait-list between 2010 and 2015 will be used by the instructor to evaluate your model. You can load the UNOS data in pandas as follows."
   ]
  },
  {
   "cell_type": "code",
   "execution_count": 24,
   "id": "a8ba14399b5fda90",
   "metadata": {},
   "outputs": [],
   "source": [
    "import pandas as pd\n",
    "from src.directory import csv_paths"
   ]
  },
  {
   "cell_type": "code",
   "execution_count": 25,
   "id": "e147b2a3-26d5-4bbc-8266-61f71ca8be9d",
   "metadata": {
    "id": "e147b2a3-26d5-4bbc-8266-61f71ca8be9d"
   },
   "outputs": [],
   "source": [
    "UNOS_data = pd.read_csv(csv_paths['unos'])"
   ]
  },
  {
   "cell_type": "code",
   "execution_count": 26,
   "id": "4a3188984f40bca7",
   "metadata": {},
   "outputs": [
    {
     "data": {
      "text/html": [
       "<div>\n",
       "<style scoped>\n",
       "    .dataframe tbody tr th:only-of-type {\n",
       "        vertical-align: middle;\n",
       "    }\n",
       "\n",
       "    .dataframe tbody tr th {\n",
       "        vertical-align: top;\n",
       "    }\n",
       "\n",
       "    .dataframe thead th {\n",
       "        text-align: right;\n",
       "    }\n",
       "</style>\n",
       "<table border=\"1\" class=\"dataframe\">\n",
       "  <thead>\n",
       "    <tr style=\"text-align: right;\">\n",
       "      <th></th>\n",
       "      <th>Unnamed: 0</th>\n",
       "      <th>wl_id_code</th>\n",
       "      <th>init_age</th>\n",
       "      <th>gender</th>\n",
       "      <th>hgt_cm_tcr</th>\n",
       "      <th>wgt_kg_tcr</th>\n",
       "      <th>diab</th>\n",
       "      <th>prev_tx</th>\n",
       "      <th>num_prev_tx</th>\n",
       "      <th>ventilator_tcr</th>\n",
       "      <th>...</th>\n",
       "      <th>days_stat2</th>\n",
       "      <th>days_stat1b</th>\n",
       "      <th>init_bmi_calc</th>\n",
       "      <th>vad_while_listed</th>\n",
       "      <th>tah</th>\n",
       "      <th>inotropic</th>\n",
       "      <th>init_date</th>\n",
       "      <th>end_date</th>\n",
       "      <th>Censor (Censor = 1)</th>\n",
       "      <th>Survival Time</th>\n",
       "    </tr>\n",
       "  </thead>\n",
       "  <tbody>\n",
       "    <tr>\n",
       "      <th>0</th>\n",
       "      <td>0</td>\n",
       "      <td>190772</td>\n",
       "      <td>58</td>\n",
       "      <td>1</td>\n",
       "      <td>168.00</td>\n",
       "      <td>70.0000</td>\n",
       "      <td>0</td>\n",
       "      <td>0</td>\n",
       "      <td>0</td>\n",
       "      <td>0</td>\n",
       "      <td>...</td>\n",
       "      <td>0</td>\n",
       "      <td>0</td>\n",
       "      <td>24.801587</td>\n",
       "      <td>0</td>\n",
       "      <td>0</td>\n",
       "      <td>0</td>\n",
       "      <td>2/28/1994</td>\n",
       "      <td>3/25/1994</td>\n",
       "      <td>0</td>\n",
       "      <td>25</td>\n",
       "    </tr>\n",
       "    <tr>\n",
       "      <th>1</th>\n",
       "      <td>1</td>\n",
       "      <td>763510</td>\n",
       "      <td>0</td>\n",
       "      <td>1</td>\n",
       "      <td>53.00</td>\n",
       "      <td>3.7000</td>\n",
       "      <td>0</td>\n",
       "      <td>1</td>\n",
       "      <td>1</td>\n",
       "      <td>0</td>\n",
       "      <td>...</td>\n",
       "      <td>0</td>\n",
       "      <td>0</td>\n",
       "      <td>13.171947</td>\n",
       "      <td>0</td>\n",
       "      <td>0</td>\n",
       "      <td>0</td>\n",
       "      <td>2/28/1994</td>\n",
       "      <td>3/2/1994</td>\n",
       "      <td>1</td>\n",
       "      <td>2</td>\n",
       "    </tr>\n",
       "    <tr>\n",
       "      <th>2</th>\n",
       "      <td>2</td>\n",
       "      <td>39269</td>\n",
       "      <td>39</td>\n",
       "      <td>1</td>\n",
       "      <td>160.00</td>\n",
       "      <td>80.0000</td>\n",
       "      <td>0</td>\n",
       "      <td>0</td>\n",
       "      <td>0</td>\n",
       "      <td>0</td>\n",
       "      <td>...</td>\n",
       "      <td>112</td>\n",
       "      <td>0</td>\n",
       "      <td>31.250000</td>\n",
       "      <td>0</td>\n",
       "      <td>0</td>\n",
       "      <td>0</td>\n",
       "      <td>3/2/1994</td>\n",
       "      <td>6/18/1999</td>\n",
       "      <td>0</td>\n",
       "      <td>1934</td>\n",
       "    </tr>\n",
       "    <tr>\n",
       "      <th>3</th>\n",
       "      <td>3</td>\n",
       "      <td>656721</td>\n",
       "      <td>41</td>\n",
       "      <td>1</td>\n",
       "      <td>170.18</td>\n",
       "      <td>63.9600</td>\n",
       "      <td>0</td>\n",
       "      <td>0</td>\n",
       "      <td>0</td>\n",
       "      <td>0</td>\n",
       "      <td>...</td>\n",
       "      <td>428</td>\n",
       "      <td>0</td>\n",
       "      <td>22.084696</td>\n",
       "      <td>0</td>\n",
       "      <td>0</td>\n",
       "      <td>0</td>\n",
       "      <td>1/23/1991</td>\n",
       "      <td>7/25/1997</td>\n",
       "      <td>0</td>\n",
       "      <td>2375</td>\n",
       "    </tr>\n",
       "    <tr>\n",
       "      <th>4</th>\n",
       "      <td>4</td>\n",
       "      <td>196059</td>\n",
       "      <td>22</td>\n",
       "      <td>1</td>\n",
       "      <td>165.00</td>\n",
       "      <td>61.0000</td>\n",
       "      <td>0</td>\n",
       "      <td>0</td>\n",
       "      <td>0</td>\n",
       "      <td>0</td>\n",
       "      <td>...</td>\n",
       "      <td>536</td>\n",
       "      <td>0</td>\n",
       "      <td>22.405877</td>\n",
       "      <td>0</td>\n",
       "      <td>0</td>\n",
       "      <td>0</td>\n",
       "      <td>11/11/1992</td>\n",
       "      <td>5/20/1994</td>\n",
       "      <td>0</td>\n",
       "      <td>555</td>\n",
       "    </tr>\n",
       "    <tr>\n",
       "      <th>...</th>\n",
       "      <td>...</td>\n",
       "      <td>...</td>\n",
       "      <td>...</td>\n",
       "      <td>...</td>\n",
       "      <td>...</td>\n",
       "      <td>...</td>\n",
       "      <td>...</td>\n",
       "      <td>...</td>\n",
       "      <td>...</td>\n",
       "      <td>...</td>\n",
       "      <td>...</td>\n",
       "      <td>...</td>\n",
       "      <td>...</td>\n",
       "      <td>...</td>\n",
       "      <td>...</td>\n",
       "      <td>...</td>\n",
       "      <td>...</td>\n",
       "      <td>...</td>\n",
       "      <td>...</td>\n",
       "      <td>...</td>\n",
       "      <td>...</td>\n",
       "    </tr>\n",
       "    <tr>\n",
       "      <th>27921</th>\n",
       "      <td>36295</td>\n",
       "      <td>90064</td>\n",
       "      <td>58</td>\n",
       "      <td>0</td>\n",
       "      <td>165.00</td>\n",
       "      <td>64.0000</td>\n",
       "      <td>0</td>\n",
       "      <td>0</td>\n",
       "      <td>0</td>\n",
       "      <td>0</td>\n",
       "      <td>...</td>\n",
       "      <td>0</td>\n",
       "      <td>0</td>\n",
       "      <td>23.507805</td>\n",
       "      <td>0</td>\n",
       "      <td>0</td>\n",
       "      <td>0</td>\n",
       "      <td>1/19/2008</td>\n",
       "      <td>1/21/2008</td>\n",
       "      <td>1</td>\n",
       "      <td>2</td>\n",
       "    </tr>\n",
       "    <tr>\n",
       "      <th>27922</th>\n",
       "      <td>36296</td>\n",
       "      <td>579733</td>\n",
       "      <td>64</td>\n",
       "      <td>1</td>\n",
       "      <td>175.26</td>\n",
       "      <td>112.0373</td>\n",
       "      <td>1</td>\n",
       "      <td>0</td>\n",
       "      <td>0</td>\n",
       "      <td>0</td>\n",
       "      <td>...</td>\n",
       "      <td>0</td>\n",
       "      <td>137</td>\n",
       "      <td>36.475144</td>\n",
       "      <td>0</td>\n",
       "      <td>0</td>\n",
       "      <td>0</td>\n",
       "      <td>3/3/2009</td>\n",
       "      <td>11/23/2009</td>\n",
       "      <td>0</td>\n",
       "      <td>265</td>\n",
       "    </tr>\n",
       "    <tr>\n",
       "      <th>27923</th>\n",
       "      <td>36300</td>\n",
       "      <td>769462</td>\n",
       "      <td>66</td>\n",
       "      <td>0</td>\n",
       "      <td>172.72</td>\n",
       "      <td>63.5030</td>\n",
       "      <td>0</td>\n",
       "      <td>0</td>\n",
       "      <td>0</td>\n",
       "      <td>0</td>\n",
       "      <td>...</td>\n",
       "      <td>421</td>\n",
       "      <td>0</td>\n",
       "      <td>21.286732</td>\n",
       "      <td>0</td>\n",
       "      <td>0</td>\n",
       "      <td>0</td>\n",
       "      <td>3/3/2009</td>\n",
       "      <td>5/11/2010</td>\n",
       "      <td>1</td>\n",
       "      <td>434</td>\n",
       "    </tr>\n",
       "    <tr>\n",
       "      <th>27924</th>\n",
       "      <td>36303</td>\n",
       "      <td>208288</td>\n",
       "      <td>45</td>\n",
       "      <td>1</td>\n",
       "      <td>175.26</td>\n",
       "      <td>79.8322</td>\n",
       "      <td>1</td>\n",
       "      <td>0</td>\n",
       "      <td>0</td>\n",
       "      <td>0</td>\n",
       "      <td>...</td>\n",
       "      <td>61</td>\n",
       "      <td>0</td>\n",
       "      <td>25.990371</td>\n",
       "      <td>0</td>\n",
       "      <td>0</td>\n",
       "      <td>0</td>\n",
       "      <td>3/3/2009</td>\n",
       "      <td>5/3/2009</td>\n",
       "      <td>0</td>\n",
       "      <td>61</td>\n",
       "    </tr>\n",
       "    <tr>\n",
       "      <th>27925</th>\n",
       "      <td>36308</td>\n",
       "      <td>704235</td>\n",
       "      <td>62</td>\n",
       "      <td>1</td>\n",
       "      <td>175.26</td>\n",
       "      <td>130.1810</td>\n",
       "      <td>1</td>\n",
       "      <td>0</td>\n",
       "      <td>0</td>\n",
       "      <td>0</td>\n",
       "      <td>...</td>\n",
       "      <td>2</td>\n",
       "      <td>0</td>\n",
       "      <td>42.382053</td>\n",
       "      <td>0</td>\n",
       "      <td>0</td>\n",
       "      <td>0</td>\n",
       "      <td>3/3/2009</td>\n",
       "      <td>11/6/2009</td>\n",
       "      <td>1</td>\n",
       "      <td>248</td>\n",
       "    </tr>\n",
       "  </tbody>\n",
       "</table>\n",
       "<p>27926 rows × 29 columns</p>\n",
       "</div>"
      ],
      "text/plain": [
       "       Unnamed: 0  wl_id_code  init_age  gender  hgt_cm_tcr  wgt_kg_tcr  diab  \\\n",
       "0               0      190772        58       1      168.00     70.0000     0   \n",
       "1               1      763510         0       1       53.00      3.7000     0   \n",
       "2               2       39269        39       1      160.00     80.0000     0   \n",
       "3               3      656721        41       1      170.18     63.9600     0   \n",
       "4               4      196059        22       1      165.00     61.0000     0   \n",
       "...           ...         ...       ...     ...         ...         ...   ...   \n",
       "27921       36295       90064        58       0      165.00     64.0000     0   \n",
       "27922       36296      579733        64       1      175.26    112.0373     1   \n",
       "27923       36300      769462        66       0      172.72     63.5030     0   \n",
       "27924       36303      208288        45       1      175.26     79.8322     1   \n",
       "27925       36308      704235        62       1      175.26    130.1810     1   \n",
       "\n",
       "       prev_tx  num_prev_tx  ventilator_tcr  ...  days_stat2  days_stat1b  \\\n",
       "0            0            0               0  ...           0            0   \n",
       "1            1            1               0  ...           0            0   \n",
       "2            0            0               0  ...         112            0   \n",
       "3            0            0               0  ...         428            0   \n",
       "4            0            0               0  ...         536            0   \n",
       "...        ...          ...             ...  ...         ...          ...   \n",
       "27921        0            0               0  ...           0            0   \n",
       "27922        0            0               0  ...           0          137   \n",
       "27923        0            0               0  ...         421            0   \n",
       "27924        0            0               0  ...          61            0   \n",
       "27925        0            0               0  ...           2            0   \n",
       "\n",
       "       init_bmi_calc  vad_while_listed  tah  inotropic   init_date  \\\n",
       "0          24.801587                 0    0          0   2/28/1994   \n",
       "1          13.171947                 0    0          0   2/28/1994   \n",
       "2          31.250000                 0    0          0    3/2/1994   \n",
       "3          22.084696                 0    0          0   1/23/1991   \n",
       "4          22.405877                 0    0          0  11/11/1992   \n",
       "...              ...               ...  ...        ...         ...   \n",
       "27921      23.507805                 0    0          0   1/19/2008   \n",
       "27922      36.475144                 0    0          0    3/3/2009   \n",
       "27923      21.286732                 0    0          0    3/3/2009   \n",
       "27924      25.990371                 0    0          0    3/3/2009   \n",
       "27925      42.382053                 0    0          0    3/3/2009   \n",
       "\n",
       "         end_date  Censor (Censor = 1)  Survival Time  \n",
       "0       3/25/1994                    0             25  \n",
       "1        3/2/1994                    1              2  \n",
       "2       6/18/1999                    0           1934  \n",
       "3       7/25/1997                    0           2375  \n",
       "4       5/20/1994                    0            555  \n",
       "...           ...                  ...            ...  \n",
       "27921   1/21/2008                    1              2  \n",
       "27922  11/23/2009                    0            265  \n",
       "27923   5/11/2010                    1            434  \n",
       "27924    5/3/2009                    0             61  \n",
       "27925   11/6/2009                    1            248  \n",
       "\n",
       "[27926 rows x 29 columns]"
      ]
     },
     "execution_count": 26,
     "metadata": {},
     "output_type": "execute_result"
    }
   ],
   "source": [
    "UNOS_data"
   ]
  },
  {
   "cell_type": "code",
   "execution_count": 27,
   "id": "69f65a78610cfb8b",
   "metadata": {},
   "outputs": [
    {
     "data": {
      "text/html": [
       "<div>\n",
       "<style scoped>\n",
       "    .dataframe tbody tr th:only-of-type {\n",
       "        vertical-align: middle;\n",
       "    }\n",
       "\n",
       "    .dataframe tbody tr th {\n",
       "        vertical-align: top;\n",
       "    }\n",
       "\n",
       "    .dataframe thead th {\n",
       "        text-align: right;\n",
       "    }\n",
       "</style>\n",
       "<table border=\"1\" class=\"dataframe\">\n",
       "  <thead>\n",
       "    <tr style=\"text-align: right;\">\n",
       "      <th></th>\n",
       "      <th>Unnamed: 0</th>\n",
       "      <th>wl_id_code</th>\n",
       "      <th>init_age</th>\n",
       "      <th>gender</th>\n",
       "      <th>hgt_cm_tcr</th>\n",
       "      <th>wgt_kg_tcr</th>\n",
       "      <th>diab</th>\n",
       "      <th>prev_tx</th>\n",
       "      <th>num_prev_tx</th>\n",
       "      <th>ventilator_tcr</th>\n",
       "      <th>...</th>\n",
       "      <th>days_stat1</th>\n",
       "      <th>days_stat1a</th>\n",
       "      <th>days_stat2</th>\n",
       "      <th>days_stat1b</th>\n",
       "      <th>init_bmi_calc</th>\n",
       "      <th>vad_while_listed</th>\n",
       "      <th>tah</th>\n",
       "      <th>inotropic</th>\n",
       "      <th>Censor (Censor = 1)</th>\n",
       "      <th>Survival Time</th>\n",
       "    </tr>\n",
       "  </thead>\n",
       "  <tbody>\n",
       "    <tr>\n",
       "      <th>count</th>\n",
       "      <td>27926.000000</td>\n",
       "      <td>27926.000000</td>\n",
       "      <td>27926.000000</td>\n",
       "      <td>27926.000000</td>\n",
       "      <td>27926.000000</td>\n",
       "      <td>27926.000000</td>\n",
       "      <td>27926.000000</td>\n",
       "      <td>27926.000000</td>\n",
       "      <td>27926.000000</td>\n",
       "      <td>27926.000000</td>\n",
       "      <td>...</td>\n",
       "      <td>27926.000000</td>\n",
       "      <td>27926.000000</td>\n",
       "      <td>27926.000000</td>\n",
       "      <td>27926.000000</td>\n",
       "      <td>27926.000000</td>\n",
       "      <td>27926.000000</td>\n",
       "      <td>27926.000000</td>\n",
       "      <td>27926.000000</td>\n",
       "      <td>27926.000000</td>\n",
       "      <td>27926.000000</td>\n",
       "    </tr>\n",
       "    <tr>\n",
       "      <th>mean</th>\n",
       "      <td>14331.355368</td>\n",
       "      <td>446173.839719</td>\n",
       "      <td>44.312182</td>\n",
       "      <td>0.761835</td>\n",
       "      <td>164.429012</td>\n",
       "      <td>75.524876</td>\n",
       "      <td>0.220511</td>\n",
       "      <td>0.057151</td>\n",
       "      <td>0.059443</td>\n",
       "      <td>0.086371</td>\n",
       "      <td>...</td>\n",
       "      <td>31.443923</td>\n",
       "      <td>4.534377</td>\n",
       "      <td>230.429958</td>\n",
       "      <td>20.754458</td>\n",
       "      <td>26.068502</td>\n",
       "      <td>0.022058</td>\n",
       "      <td>0.002149</td>\n",
       "      <td>0.084079</td>\n",
       "      <td>0.407899</td>\n",
       "      <td>580.340614</td>\n",
       "    </tr>\n",
       "    <tr>\n",
       "      <th>std</th>\n",
       "      <td>8728.196818</td>\n",
       "      <td>255814.003693</td>\n",
       "      <td>19.009698</td>\n",
       "      <td>0.425968</td>\n",
       "      <td>32.519173</td>\n",
       "      <td>28.273276</td>\n",
       "      <td>0.414599</td>\n",
       "      <td>0.232135</td>\n",
       "      <td>0.252424</td>\n",
       "      <td>0.280916</td>\n",
       "      <td>...</td>\n",
       "      <td>120.339654</td>\n",
       "      <td>23.287038</td>\n",
       "      <td>446.038718</td>\n",
       "      <td>111.115910</td>\n",
       "      <td>8.497129</td>\n",
       "      <td>0.146876</td>\n",
       "      <td>0.046303</td>\n",
       "      <td>0.277512</td>\n",
       "      <td>0.491453</td>\n",
       "      <td>927.873549</td>\n",
       "    </tr>\n",
       "    <tr>\n",
       "      <th>min</th>\n",
       "      <td>0.000000</td>\n",
       "      <td>8.000000</td>\n",
       "      <td>0.000000</td>\n",
       "      <td>0.000000</td>\n",
       "      <td>15.000000</td>\n",
       "      <td>1.000000</td>\n",
       "      <td>0.000000</td>\n",
       "      <td>0.000000</td>\n",
       "      <td>0.000000</td>\n",
       "      <td>0.000000</td>\n",
       "      <td>...</td>\n",
       "      <td>0.000000</td>\n",
       "      <td>0.000000</td>\n",
       "      <td>0.000000</td>\n",
       "      <td>0.000000</td>\n",
       "      <td>0.907029</td>\n",
       "      <td>0.000000</td>\n",
       "      <td>0.000000</td>\n",
       "      <td>0.000000</td>\n",
       "      <td>0.000000</td>\n",
       "      <td>-2063.000000</td>\n",
       "    </tr>\n",
       "    <tr>\n",
       "      <th>25%</th>\n",
       "      <td>6981.250000</td>\n",
       "      <td>226129.500000</td>\n",
       "      <td>37.000000</td>\n",
       "      <td>1.000000</td>\n",
       "      <td>165.000000</td>\n",
       "      <td>65.000000</td>\n",
       "      <td>0.000000</td>\n",
       "      <td>0.000000</td>\n",
       "      <td>0.000000</td>\n",
       "      <td>0.000000</td>\n",
       "      <td>...</td>\n",
       "      <td>0.000000</td>\n",
       "      <td>0.000000</td>\n",
       "      <td>0.000000</td>\n",
       "      <td>0.000000</td>\n",
       "      <td>22.215556</td>\n",
       "      <td>0.000000</td>\n",
       "      <td>0.000000</td>\n",
       "      <td>0.000000</td>\n",
       "      <td>0.000000</td>\n",
       "      <td>34.000000</td>\n",
       "    </tr>\n",
       "    <tr>\n",
       "      <th>50%</th>\n",
       "      <td>13962.500000</td>\n",
       "      <td>447742.500000</td>\n",
       "      <td>50.000000</td>\n",
       "      <td>1.000000</td>\n",
       "      <td>173.000000</td>\n",
       "      <td>79.830000</td>\n",
       "      <td>0.000000</td>\n",
       "      <td>0.000000</td>\n",
       "      <td>0.000000</td>\n",
       "      <td>0.000000</td>\n",
       "      <td>...</td>\n",
       "      <td>0.000000</td>\n",
       "      <td>0.000000</td>\n",
       "      <td>29.000000</td>\n",
       "      <td>0.000000</td>\n",
       "      <td>26.054160</td>\n",
       "      <td>0.000000</td>\n",
       "      <td>0.000000</td>\n",
       "      <td>0.000000</td>\n",
       "      <td>0.000000</td>\n",
       "      <td>193.000000</td>\n",
       "    </tr>\n",
       "    <tr>\n",
       "      <th>75%</th>\n",
       "      <td>20943.750000</td>\n",
       "      <td>665696.750000</td>\n",
       "      <td>58.000000</td>\n",
       "      <td>1.000000</td>\n",
       "      <td>180.340000</td>\n",
       "      <td>92.986400</td>\n",
       "      <td>0.000000</td>\n",
       "      <td>0.000000</td>\n",
       "      <td>0.000000</td>\n",
       "      <td>0.000000</td>\n",
       "      <td>...</td>\n",
       "      <td>16.000000</td>\n",
       "      <td>0.000000</td>\n",
       "      <td>276.000000</td>\n",
       "      <td>0.000000</td>\n",
       "      <td>29.971368</td>\n",
       "      <td>0.000000</td>\n",
       "      <td>0.000000</td>\n",
       "      <td>0.000000</td>\n",
       "      <td>1.000000</td>\n",
       "      <td>709.750000</td>\n",
       "    </tr>\n",
       "    <tr>\n",
       "      <th>max</th>\n",
       "      <td>36308.000000</td>\n",
       "      <td>897359.000000</td>\n",
       "      <td>87.000000</td>\n",
       "      <td>1.000000</td>\n",
       "      <td>218.440000</td>\n",
       "      <td>343.000000</td>\n",
       "      <td>1.000000</td>\n",
       "      <td>1.000000</td>\n",
       "      <td>9.000000</td>\n",
       "      <td>1.000000</td>\n",
       "      <td>...</td>\n",
       "      <td>2663.000000</td>\n",
       "      <td>891.000000</td>\n",
       "      <td>6571.000000</td>\n",
       "      <td>2663.000000</td>\n",
       "      <td>755.363907</td>\n",
       "      <td>1.000000</td>\n",
       "      <td>1.000000</td>\n",
       "      <td>1.000000</td>\n",
       "      <td>1.000000</td>\n",
       "      <td>9614.000000</td>\n",
       "    </tr>\n",
       "  </tbody>\n",
       "</table>\n",
       "<p>8 rows × 27 columns</p>\n",
       "</div>"
      ],
      "text/plain": [
       "         Unnamed: 0     wl_id_code      init_age        gender    hgt_cm_tcr  \\\n",
       "count  27926.000000   27926.000000  27926.000000  27926.000000  27926.000000   \n",
       "mean   14331.355368  446173.839719     44.312182      0.761835    164.429012   \n",
       "std     8728.196818  255814.003693     19.009698      0.425968     32.519173   \n",
       "min        0.000000       8.000000      0.000000      0.000000     15.000000   \n",
       "25%     6981.250000  226129.500000     37.000000      1.000000    165.000000   \n",
       "50%    13962.500000  447742.500000     50.000000      1.000000    173.000000   \n",
       "75%    20943.750000  665696.750000     58.000000      1.000000    180.340000   \n",
       "max    36308.000000  897359.000000     87.000000      1.000000    218.440000   \n",
       "\n",
       "         wgt_kg_tcr          diab       prev_tx   num_prev_tx  ventilator_tcr  \\\n",
       "count  27926.000000  27926.000000  27926.000000  27926.000000    27926.000000   \n",
       "mean      75.524876      0.220511      0.057151      0.059443        0.086371   \n",
       "std       28.273276      0.414599      0.232135      0.252424        0.280916   \n",
       "min        1.000000      0.000000      0.000000      0.000000        0.000000   \n",
       "25%       65.000000      0.000000      0.000000      0.000000        0.000000   \n",
       "50%       79.830000      0.000000      0.000000      0.000000        0.000000   \n",
       "75%       92.986400      0.000000      0.000000      0.000000        0.000000   \n",
       "max      343.000000      1.000000      1.000000      9.000000        1.000000   \n",
       "\n",
       "       ...    days_stat1   days_stat1a    days_stat2   days_stat1b  \\\n",
       "count  ...  27926.000000  27926.000000  27926.000000  27926.000000   \n",
       "mean   ...     31.443923      4.534377    230.429958     20.754458   \n",
       "std    ...    120.339654     23.287038    446.038718    111.115910   \n",
       "min    ...      0.000000      0.000000      0.000000      0.000000   \n",
       "25%    ...      0.000000      0.000000      0.000000      0.000000   \n",
       "50%    ...      0.000000      0.000000     29.000000      0.000000   \n",
       "75%    ...     16.000000      0.000000    276.000000      0.000000   \n",
       "max    ...   2663.000000    891.000000   6571.000000   2663.000000   \n",
       "\n",
       "       init_bmi_calc  vad_while_listed           tah     inotropic  \\\n",
       "count   27926.000000      27926.000000  27926.000000  27926.000000   \n",
       "mean       26.068502          0.022058      0.002149      0.084079   \n",
       "std         8.497129          0.146876      0.046303      0.277512   \n",
       "min         0.907029          0.000000      0.000000      0.000000   \n",
       "25%        22.215556          0.000000      0.000000      0.000000   \n",
       "50%        26.054160          0.000000      0.000000      0.000000   \n",
       "75%        29.971368          0.000000      0.000000      0.000000   \n",
       "max       755.363907          1.000000      1.000000      1.000000   \n",
       "\n",
       "       Censor (Censor = 1)  Survival Time  \n",
       "count         27926.000000   27926.000000  \n",
       "mean              0.407899     580.340614  \n",
       "std               0.491453     927.873549  \n",
       "min               0.000000   -2063.000000  \n",
       "25%               0.000000      34.000000  \n",
       "50%               0.000000     193.000000  \n",
       "75%               1.000000     709.750000  \n",
       "max               1.000000    9614.000000  \n",
       "\n",
       "[8 rows x 27 columns]"
      ]
     },
     "execution_count": 27,
     "metadata": {},
     "output_type": "execute_result"
    }
   ],
   "source": [
    "UNOS_data.describe()"
   ]
  },
  {
   "cell_type": "code",
   "execution_count": 28,
   "id": "52750ffcdc41b64a",
   "metadata": {},
   "outputs": [
    {
     "name": "stdout",
     "output_type": "stream",
     "text": [
      "NA Count by Variable : Series([], dtype: int64)\n"
     ]
    }
   ],
   "source": [
    "print(f'NA Count by Variable : {UNOS_data.isna().sum(axis=0)[UNOS_data.isna().sum(axis=0) > 0]}')"
   ]
  },
  {
   "cell_type": "markdown",
   "id": "a2c649f9-08b6-4496-8bf3-31ae2106c0fd",
   "metadata": {
    "id": "a2c649f9-08b6-4496-8bf3-31ae2106c0fd"
   },
   "source": [
    "#### Feature Dictionary\n",
    "\n",
    "Each patient's record in the UNOS database is associated with the following variables:"
   ]
  },
  {
   "cell_type": "code",
   "execution_count": 29,
   "id": "21caaba9-5f43-4c70-8265-afce7e77782d",
   "metadata": {
    "id": "21caaba9-5f43-4c70-8265-afce7e77782d"
   },
   "outputs": [],
   "source": [
    "patient_variables   = [\"init_age\", \"gender\", \"hgt_cm_tcr\", \"wgt_kg_tcr\", \"diab\", \"ventilator_tcr\",\n",
    "                       \"ecmo_tcr\", \"most_rcnt_creat\", \"abo_A\", \"abo_B\", \"abo_O\", \"vad_while_listed\",\n",
    "                       \"days_stat1\", \"days_stat1a\", \"days_stat2\", \"days_stat1b\", \"iabp_tcr\",\n",
    "                       \"init_bmi_calc\", \"tah\", \"inotropic\", \"Censor (Censor = 1)\", \"Survival Time\"]"
   ]
  },
  {
   "cell_type": "markdown",
   "id": "224d7db7-36fa-4285-8dc1-fb202b608f7a",
   "metadata": {
    "id": "224d7db7-36fa-4285-8dc1-fb202b608f7a"
   },
   "source": [
    "The interpretation of each variable is provided below:\n",
    "\n",
    "- \"init_age\": Patient's age at time of enrolling in the wait-list\n",
    "- \"gender\": Patient's biological sex\n",
    "- \"hgt_cm_tcr\": Patient's height in cm\n",
    "- \"wgt_kg_tcr\": Patient's weight in kgs\n",
    "- \"diab\": Indication on whether or not the patient is diabetic\n",
    "- \"abo_A\": Indication on whether patient's blood type is A\n",
    "- \"abo_B\": Indication on whether patient's blood type is B\n",
    "- \"abo_O\": Indication on whether patient's blood type is O\n",
    "- \"ventilator_tcr\": Indication on whether the patient was dependent on a ventilator at time of enrollment in the wait-list\n",
    "- \"ecmo_tcr\": Indication on whether the patient was treated with ECMO (extracorporeal membrane oxygenation) by the time they where enrolled in the wait-list. ECMO is an artificial life support that continuously pumps blood out of the patient's body and sends it through a series of devices that add oxygen and remove carbon dioxide, pumping the blood back to the patient. It is used for a patient whose heart and lungs are not functioning properly.  \n",
    "- \"most_rcnt_creat\": Creatinine level in the patient's most recent blood test before enrolling in wait-list.\n",
    "- \"vad_while_listed\": Whether the patient was on ventricular assist device (VAD) support when listed for a heart transplant. VAD is a mechanical pump used to restore cardiac function by pumping blood from the lower chambers of the heart to the rest of the body.\n",
    "- \"iabp_tcr\": Whether the patient was on Intra-Aortic Balloon Pump (IABP) Therapy. This is a therapeutic device used to improve blood flow when the heart is unable to pump enough blood for your body.\n",
    "- \"init_bmi_calc\": Patient's Body Mass Index at time of enrollment in the wait-list.\n",
    "- \"tah\": Whether the patient underwent a total artificial heart (TAH) surgery. This is a mechanical pump that replaces the heart when it is not working as it should.\n",
    "- \"inotropic\": Whether the patient was on an Inotropic drug at time of enrollment in wait-list. These are medicines that change the force of the heart's contractions.\n",
    "- \"days_stat1\", \"days_stat1a\", \"days_stat1b\", \"days_stat2\": UNOS has an internal system for classifying the priority of patients for receiving a heart transplant. Individuals classified as Status 1A have the highest priority on the heart transplant waiting list. Status 1A are individuals who must stay in the hospital as in-patients and require high doses of intravenous drugs, require a VAD for survival, are dependent on a ventilator or have a life expectancy of a week or less without a transplant. Individuals classified as Status 1B are generally not required to stay in the hospital as in-patients. All other candidates for the transplant are listed under Status 2. These variables indicate the number of days a patient spends in each status during the time between their enrollment in the wait-list and death or reception of a transplant.\n",
    "- \"Censor (Censor = 1)\": Indication of censoring\n",
    "- \"Survival Time\": Time between enrollment in wait-list and death"
   ]
  },
  {
   "cell_type": "markdown",
   "id": "481eae55-45ef-46b9-9d45-a0a63f1da3d8",
   "metadata": {
    "id": "481eae55-45ef-46b9-9d45-a0a63f1da3d8"
   },
   "source": [
    "### Task 1.3.2"
   ]
  },
  {
   "cell_type": "code",
   "execution_count": 30,
   "id": "392a9b1f33fdadc4",
   "metadata": {
    "ExecuteTime": {
     "end_time": "2025-01-17T23:44:27.850737Z",
     "start_time": "2025-01-17T23:44:26.592201Z"
    }
   },
   "outputs": [],
   "source": [
    "import numpy as np\n",
    "import pandas as pd\n",
    "from src.data_dict import feature_config\n",
    "from src.directory import csv_paths, deep_survival_model_path\n",
    "from src._torch import DeepSurvival\n",
    "from lifelines import KaplanMeierFitter\n",
    "import matplotlib.pyplot as plt\n",
    "from sklearn.model_selection import train_test_split\n",
    "import torch"
   ]
  },
  {
   "cell_type": "code",
   "execution_count": 31,
   "id": "e1b0a28238dbcecf",
   "metadata": {
    "ExecuteTime": {
     "end_time": "2025-01-17T23:50:23.746826Z",
     "start_time": "2025-01-17T23:50:23.691724Z"
    }
   },
   "outputs": [],
   "source": [
    "event_col = \"Censor (Censor = 1)\"\n",
    "time_col = \"Survival Time\"\n",
    "\n",
    "UNOS_data = pd.read_csv(csv_paths['unos'])\n",
    "X = UNOS_data[feature_config['unos']].to_numpy()\n",
    "T = UNOS_data[time_col].to_numpy()\n",
    "C = UNOS_data[event_col].to_numpy()\n",
    "n_features = X.shape[1]\n",
    "\n",
    "X_train, X_test, T_train, T_test, C_train, C_test = train_test_split(X, T, C, test_size=.2, random_state=40)"
   ]
  },
  {
   "cell_type": "code",
   "execution_count": 32,
   "id": "afa53cdd-d1af-4c4e-99ad-cea20184c547",
   "metadata": {
    "ExecuteTime": {
     "end_time": "2025-01-17T23:50:36.915697Z",
     "start_time": "2025-01-17T23:50:24.232193Z"
    },
    "id": "afa53cdd-d1af-4c4e-99ad-cea20184c547"
   },
   "outputs": [
    {
     "name": "stdout",
     "output_type": "stream",
     "text": [
      "11 negative time samples found. Adjusting by setting t == 0.\n"
     ]
    },
    {
     "name": "stderr",
     "output_type": "stream",
     "text": [
      "Training DeepSurvival, epoch 8/1000, val_loss:5.593338895540544, train_loss:5.646255886971487:   1%|          | 8/1000 [00:13<27:42,  1.68s/it]  "
     ]
    },
    {
     "name": "stdout",
     "output_type": "stream",
     "text": [
      "Early stopping triggered at epoch 9\n"
     ]
    },
    {
     "name": "stderr",
     "output_type": "stream",
     "text": [
      "\n"
     ]
    }
   ],
   "source": [
    "torch.manual_seed(40)\n",
    "model = DeepSurvival(save_path=deep_survival_model_path)\n",
    "model.fit(X_train, T_train, C_train, lr=3e-2)"
   ]
  },
  {
   "cell_type": "code",
   "execution_count": 33,
   "id": "6ef333a0a87585be",
   "metadata": {
    "ExecuteTime": {
     "end_time": "2025-01-17T23:50:40.688244Z",
     "start_time": "2025-01-17T23:50:40.102916Z"
    }
   },
   "outputs": [
    {
     "name": "stdout",
     "output_type": "stream",
     "text": [
      "C-index on test set: 0.6838601794569438\n"
     ]
    }
   ],
   "source": [
    "# check test c_index\n",
    "cindex = model.get_cindex(X_test, T_test, C_test)\n",
    "print('C-index on test set:', cindex.item())"
   ]
  },
  {
   "cell_type": "code",
   "execution_count": 34,
   "id": "8e2bc4a61ed30ce3",
   "metadata": {
    "ExecuteTime": {
     "end_time": "2025-01-17T23:50:41.841257Z",
     "start_time": "2025-01-17T23:50:41.820567Z"
    }
   },
   "outputs": [],
   "source": [
    "predictions = model.predict(X, max_years=10)"
   ]
  },
  {
   "cell_type": "code",
   "execution_count": 35,
   "id": "270bab68b937ea8a",
   "metadata": {
    "ExecuteTime": {
     "end_time": "2025-01-17T23:50:49.372050Z",
     "start_time": "2025-01-17T23:50:49.285784Z"
    }
   },
   "outputs": [
    {
     "data": {
      "image/png": "[encoded data removed]",
      "text/plain": [
       "<Figure size 640x480 with 1 Axes>"
      ]
     },
     "metadata": {},
     "output_type": "display_data"
    }
   ],
   "source": [
    "# plot mean survival curve\n",
    "plt.plot(predictions.mean(axis=0), label='DeepSurvival')\n",
    "\n",
    "# plot KM survival curve\n",
    "kmf = KaplanMeierFitter()\n",
    "kmf.fit(UNOS_data[time_col]/365, event_observed=UNOS_data[event_col])\n",
    "kmf.plot_survival_function(label='Lifelines KM')\n",
    "\n",
    "# adjust plot\n",
    "plt.xlim((-0.5, 10))\n",
    "plt.ylim((0,1.05))\n",
    "plt.xlabel(\"Years\")\n",
    "plt.ylabel(\"Survival Probability\")\n",
    "plt.legend()\n",
    "plt.show()"
   ]
  },
  {
   "cell_type": "markdown",
   "id": "34zzM6FhbUud",
   "metadata": {
    "id": "34zzM6FhbUud"
   },
   "source": [
    "## Task 1.4: Handling Informative Censoring via Domain Adaptation [8 pts]"
   ]
  },
  {
   "cell_type": "markdown",
   "id": "4e80edc3",
   "metadata": {},
   "source": [
    "### Task 1.4.1"
   ]
  },
  {
   "cell_type": "code",
   "execution_count": 36,
   "id": "XuwUXwAEbPSN",
   "metadata": {
    "id": "XuwUXwAEbPSN"
   },
   "outputs": [],
   "source": [
    "from pycox import datasets\n",
    "import seaborn as sns\n",
    "import matplotlib.pyplot as plt\n",
    "from src.informative_censoring import check_informative_censoring, generate_semi_synthetic_dataset"
   ]
  },
  {
   "cell_type": "code",
   "execution_count": 37,
   "id": "3899f108-00e5-467e-b49d-56919be68144",
   "metadata": {
    "scrolled": true
   },
   "outputs": [],
   "source": [
    "# Note: \"['Unnamed: 0'] not found in axis\" error received reading in flchain & nwtco:\n",
    "# To fix error: replace the following lines pycox/datasets/from_rdatasets.py:\n",
    "# line 78: .drop(['chapter', 'Unnamed: 0', 'rownames'], axis=1, errors='ignore')\n",
    "# line 146: .drop(['Unnamed: 0', 'seqno', 'instit', 'histol', 'study', 'rownames'], axis=1, errors='ignore'))\n",
    "\n",
    "dataset_dict = dict(zip(['flchain', 'gbsg', 'metabric', 'nwtco'], \n",
    "                         [datasets.flchain.read_df(), \n",
    "                          datasets.gbsg.read_df(), \n",
    "                          datasets.metabric.read_df(), \n",
    "                          datasets.nwtco.read_df()]))\n",
    "\n",
    "for name, dataset in dataset_dict.items():\n",
    "    dataset.name = name\n",
    "    \n",
    "\n",
    "time_col_dict = dict(zip(dataset_dict.keys(),\n",
    "                         ['futime',\n",
    "                          'duration',\n",
    "                          'duration',\n",
    "                          'edrel']))\n",
    "\n",
    "event_col_dict = dict(zip(dataset_dict.keys(),\n",
    "                         ['death',\n",
    "                          'event',\n",
    "                          'event',\n",
    "                          'rel']))"
   ]
  },
  {
   "cell_type": "code",
   "execution_count": 38,
   "id": "1cecef8a-6275-4256-b6cc-6405951d2443",
   "metadata": {},
   "outputs": [
    {
     "name": "stdout",
     "output_type": "stream",
     "text": [
      "flchain \n",
      " feature           informative_censoring\n",
      "spearmanr_results                  True\n",
      "mgus                               True\n",
      "creatinine                         True\n",
      "futime                             True\n",
      "sex                               False\n",
      "lambda                             True\n",
      "sample.yr                          True\n",
      "flc.grp                            True\n",
      "kappa                              True \n",
      "\n",
      "gbsg \n",
      " feature           informative_censoring\n",
      "spearmanr_results                  True\n",
      "x3                                 True\n",
      "x0                                 True\n",
      "x2                                 True\n",
      "duration                           True\n",
      "x6                                False\n",
      "x5                                 True\n",
      "x1                                 True \n",
      "\n",
      "metabric \n",
      " feature           informative_censoring\n",
      "spearmanr_results                 False\n",
      "x3                                 True\n",
      "x0                                 True\n",
      "x8                                 True\n",
      "x7                                False\n",
      "x2                                 True\n",
      "duration                           True\n",
      "x6                                 True\n",
      "x5                                 True\n",
      "x1                                 True \n",
      "\n",
      "nwtco \n",
      " feature           informative_censoring\n",
      "spearmanr_results                  True\n",
      "stage                              True\n",
      "edrel                              True\n",
      "instit_2                           True\n",
      "histol_2                           True\n",
      "study_4                           False\n",
      "in.subcohort                      False \n",
      "\n"
     ]
    }
   ],
   "source": [
    "# check for informative censoring\n",
    "results = {}\n",
    "for name, dataset in dataset_dict.items():\n",
    "    time_col, event_col = time_col_dict[name], event_col_dict[name]\n",
    "    results[name] = check_informative_censoring(dataset, time_col, event_col)\n",
    "\n",
    "# print results\n",
    "for name, r in results.items():\n",
    "    print(name, '\\n', r.loc[['informative_censoring']].T, '\\n')"
   ]
  },
  {
   "cell_type": "code",
   "execution_count": 39,
   "id": "f937a485",
   "metadata": {},
   "outputs": [
    {
     "data": {
      "image/png": "[encoded data removed]",
      "text/plain": [
       "<Figure size 640x480 with 4 Axes>"
      ]
     },
     "metadata": {},
     "output_type": "display_data"
    }
   ],
   "source": [
    "# visually inspect time-dependent censoring\n",
    "fig, axs = plt.subplots(2,2)\n",
    "axs = axs.ravel()\n",
    "for i, (name, dataset) in enumerate(dataset_dict.items()):\n",
    "    time_col, event_col = time_col_dict[name], event_col_dict[name]\n",
    "    sns.violinplot(dataset, x=time_col, hue=event_col, ax=axs[i], split=True, cut=0)\n",
    "    axs[i].set_title(name)\n",
    "\n",
    "plt.tight_layout()"
   ]
  },
  {
   "cell_type": "code",
   "execution_count": 40,
   "id": "b33c4c39-ab1a-4769-b0df-e0b58d1b25f1",
   "metadata": {},
   "outputs": [
    {
     "name": "stdout",
     "output_type": "stream",
     "text": [
      "Creating semi-synthetic dataset for flchain\n",
      "Fraction of original uncensored events censored: 0.906\n",
      "Spearman r correlation p-value between time_col and event_col: 0.051\n",
      "\n",
      "Creating semi-synthetic dataset for gbsg\n",
      "Fraction of original uncensored events censored: 0.656\n",
      "Spearman r correlation p-value between time_col and event_col: 0.056\n",
      "\n",
      "Creating semi-synthetic dataset for metabric\n",
      "Fraction of original uncensored events censored: 0.436\n",
      "Spearman r correlation p-value between time_col and event_col: 0.051\n",
      "\n",
      "Creating semi-synthetic dataset for nwtco\n",
      "Fraction of original uncensored events censored: 0.974\n",
      "Spearman r correlation p-value between time_col and event_col: 0.066\n",
      "\n"
     ]
    }
   ],
   "source": [
    "# generate semi synthetic data\n",
    "synthetic_data = {}\n",
    "for name, dataset in dataset_dict.items():\n",
    "    time_col, event_col = time_col_dict[name], event_col_dict[name]\n",
    "    synthetic_data[name] = generate_semi_synthetic_dataset(dataset, time_col, event_col, max_loops=10)\n",
    "    synthetic_data[name].name = name"
   ]
  },
  {
   "cell_type": "code",
   "execution_count": 41,
   "id": "1888dc6f",
   "metadata": {},
   "outputs": [
    {
     "data": {
      "image/png": "[encoded data removed]",
      "text/plain": [
       "<Figure size 640x480 with 4 Axes>"
      ]
     },
     "metadata": {},
     "output_type": "display_data"
    }
   ],
   "source": [
    "# visually inspect time-dependent censoring\n",
    "fig, axs = plt.subplots(2,2)\n",
    "axs = axs.ravel()\n",
    "for i, (name, dataset) in enumerate(synthetic_data.items()):\n",
    "    time_col, event_col = time_col_dict[name], event_col_dict[name]\n",
    "    sns.violinplot(dataset, x=time_col, hue=event_col, ax=axs[i], split=True, cut=0)\n",
    "    axs[i].set_title(f'{name}_synth')\n",
    "\n",
    "plt.tight_layout()"
   ]
  },
  {
   "cell_type": "code",
   "execution_count": 42,
   "id": "8ee05b02",
   "metadata": {},
   "outputs": [
    {
     "name": "stdout",
     "output_type": "stream",
     "text": [
      "flchain_synth \n",
      " feature           informative_censoring\n",
      "spearmanr_results                  True\n",
      "mgus                              False\n",
      "creatinine                        False\n",
      "futime                            False\n",
      "sex                                True\n",
      "lambda                            False\n",
      "sample.yr                          True\n",
      "flc.grp                           False\n",
      "kappa                             False \n",
      "\n",
      "gbsg_synth \n",
      " feature           informative_censoring\n",
      "spearmanr_results                 False\n",
      "x3                                False\n",
      "x0                                False\n",
      "x2                                False\n",
      "duration                          False\n",
      "x6                                False\n",
      "x5                                False\n",
      "x1                                False \n",
      "\n",
      "metabric_synth \n",
      " feature           informative_censoring\n",
      "spearmanr_results                 False\n",
      "x3                                 True\n",
      "x0                                 True\n",
      "x8                                 True\n",
      "x7                                 True\n",
      "x2                                 True\n",
      "duration                          False\n",
      "x6                                 True\n",
      "x5                                 True\n",
      "x1                                False \n",
      "\n",
      "nwtco_synth \n",
      " feature           informative_censoring\n",
      "spearmanr_results                 False\n",
      "stage                             False\n",
      "edrel                             False\n",
      "instit_2                          False\n",
      "histol_2                          False\n",
      "study_4                           False\n",
      "in.subcohort                      False \n",
      "\n"
     ]
    }
   ],
   "source": [
    "# check for informative censoring\n",
    "results = {}\n",
    "for name, dataset in synthetic_data.items():\n",
    "    time_col, event_col = time_col_dict[name], event_col_dict[name]\n",
    "    results[name] = check_informative_censoring(dataset, time_col, event_col)\n",
    "\n",
    "# print results\n",
    "for name, r in results.items():\n",
    "    time_col = time_col_dict[name]\n",
    "    print(f'{name}_synth', '\\n', r.loc[['informative_censoring']].T, '\\n')"
   ]
  },
  {
   "cell_type": "markdown",
   "id": "aa0984f2",
   "metadata": {},
   "source": [
    "### Task 1.4.2"
   ]
  },
  {
   "cell_type": "code",
   "execution_count": 43,
   "id": "8eae22aa",
   "metadata": {},
   "outputs": [],
   "source": [
    "import torch\n",
    "from src._torch import DeepSurvival\n",
    "from src.directory import deep_survival_model_path\n",
    "from sklearn.model_selection import train_test_split"
   ]
  },
  {
   "cell_type": "code",
   "execution_count": 44,
   "id": "8dd55574",
   "metadata": {},
   "outputs": [
    {
     "name": "stderr",
     "output_type": "stream",
     "text": [
      "Training DeepSurvival, epoch 11/1000, val_loss:5.219508240607915, train_loss:5.258990948844884:   1%|          | 11/1000 [00:00<01:16, 12.87it/s] \n"
     ]
    },
    {
     "name": "stdout",
     "output_type": "stream",
     "text": [
      "Early stopping triggered at epoch 12\n",
      "C-index on flchain_synth test set: 0.693749737295616 \n",
      "\n"
     ]
    },
    {
     "name": "stderr",
     "output_type": "stream",
     "text": [
      "Training DeepSurvival, epoch 7/1000, val_loss:5.221155983094774, train_loss:6.01134874950787:   1%|          | 7/1000 [00:00<01:19, 12.56it/s] \n"
     ]
    },
    {
     "name": "stdout",
     "output_type": "stream",
     "text": [
      "Early stopping triggered at epoch 8\n",
      "C-index on gbsg_synth test set: 0.6010731295592934 \n",
      "\n"
     ]
    },
    {
     "name": "stderr",
     "output_type": "stream",
     "text": [
      "Training DeepSurvival, epoch 54/1000, val_loss:4.698391103313605, train_loss:5.28123012233431:   5%|▌         | 54/1000 [00:04<01:26, 10.92it/s]  \n"
     ]
    },
    {
     "name": "stdout",
     "output_type": "stream",
     "text": [
      "Early stopping triggered at epoch 55\n",
      "C-index on metabric_synth test set: 0.6740543969550392 \n",
      "\n"
     ]
    },
    {
     "name": "stderr",
     "output_type": "stream",
     "text": [
      "Training DeepSurvival, epoch 9/1000, val_loss:6.910130288745114, train_loss:4.4237865710220206:   1%|          | 9/1000 [00:00<00:28, 34.47it/s]\n"
     ]
    },
    {
     "name": "stdout",
     "output_type": "stream",
     "text": [
      "Early stopping triggered at epoch 10\n",
      "C-index on nwtco_synth test set: 0.4182076813655761 \n",
      "\n"
     ]
    }
   ],
   "source": [
    "# modified modal with importance weighting ERM\n",
    "for name, dataset in synthetic_data.items():\n",
    "\n",
    "    # set up data\n",
    "    time_col, event_col = time_col_dict[name], event_col_dict[name]\n",
    "    feature_cols = list(set(dataset.columns) - set([time_col, event_col]))\n",
    "\n",
    "    X = dataset[feature_cols].to_numpy()\n",
    "    T = dataset[time_col].to_numpy()\n",
    "    C = dataset[event_col].to_numpy()\n",
    "    n_features = X.shape[1]\n",
    "\n",
    "    # split data\n",
    "    X_train, X_test, T_train, T_test, C_train, C_test = train_test_split(X, T, C, test_size=.2, random_state=40)\n",
    "\n",
    "    # get save path\n",
    "    save_path = os.path.join(os.path.dirname(deep_survival_model_path), f'best_model_DA_{name}.pth')\n",
    "\n",
    "    # init and train model\n",
    "    torch.manual_seed(40)\n",
    "    model = DeepSurvival(dataset_name=name,\n",
    "                         save_path=save_path,\n",
    "                         clinical_features=feature_cols,\n",
    "                         importance_weighting=True)\n",
    "    model.fit(X_train, T_train, C_train)\n",
    "\n",
    "    # check test c_index\n",
    "    cindex = model.get_cindex(X_test, T_test, C_test)\n",
    "    print(f'C-index on {name}_synth test set:', cindex.item(), '\\n')"
   ]
  },
  {
   "cell_type": "code",
   "execution_count": 45,
   "id": "e75a4cc4",
   "metadata": {},
   "outputs": [
    {
     "name": "stderr",
     "output_type": "stream",
     "text": [
      "Training DeepSurvival, epoch 15/1000, val_loss:5.294374988646802, train_loss:5.188808263947586:   2%|▏         | 15/1000 [00:00<00:57, 17.11it/s]\n"
     ]
    },
    {
     "name": "stdout",
     "output_type": "stream",
     "text": [
      "Early stopping triggered at epoch 16\n",
      "C-index on flchain_synth test set: 0.7174982136101887 \n",
      "\n"
     ]
    },
    {
     "name": "stderr",
     "output_type": "stream",
     "text": [
      "Training DeepSurvival, epoch 7/1000, val_loss:5.076853608938227, train_loss:5.820817160406741:   1%|          | 7/1000 [00:00<01:13, 13.46it/s] \n"
     ]
    },
    {
     "name": "stdout",
     "output_type": "stream",
     "text": [
      "Early stopping triggered at epoch 8\n",
      "C-index on gbsg_synth test set: 0.6014348586242237 \n",
      "\n"
     ]
    },
    {
     "name": "stderr",
     "output_type": "stream",
     "text": [
      "Training DeepSurvival, epoch 46/1000, val_loss:4.649413982331081, train_loss:5.2285249231077175:   5%|▍         | 46/1000 [00:03<01:18, 12.14it/s] \n"
     ]
    },
    {
     "name": "stdout",
     "output_type": "stream",
     "text": [
      "Early stopping triggered at epoch 47\n",
      "C-index on metabric_synth test set: 0.6800015859170565 \n",
      "\n"
     ]
    },
    {
     "name": "stderr",
     "output_type": "stream",
     "text": [
      "Training DeepSurvival, epoch 7/1000, val_loss:5.90818110951235, train_loss:4.403073173499289:   1%|          | 7/1000 [00:00<00:31, 31.83it/s]  \n"
     ]
    },
    {
     "name": "stdout",
     "output_type": "stream",
     "text": [
      "Early stopping triggered at epoch 8\n",
      "C-index on nwtco_synth test set: 0.38975817923186346 \n",
      "\n"
     ]
    }
   ],
   "source": [
    "# original model\n",
    "for name, dataset in synthetic_data.items():\n",
    "\n",
    "    # set up data\n",
    "    time_col, event_col = time_col_dict[name], event_col_dict[name]\n",
    "    feature_cols = list(set(dataset.columns) - set([time_col, event_col]))\n",
    "\n",
    "    X = dataset[feature_cols].to_numpy()\n",
    "    T = dataset[time_col].to_numpy()\n",
    "    C = dataset[event_col].to_numpy()\n",
    "    n_features = X.shape[1]\n",
    "\n",
    "    # split data\n",
    "    X_train, X_test, T_train, T_test, C_train, C_test = train_test_split(X, T, C, test_size=.2, random_state=40)\n",
    "\n",
    "    # get save path\n",
    "    save_path = os.path.join(os.path.dirname(deep_survival_model_path), f'best_model_{name}.pth')\n",
    "\n",
    "    # init and train model\n",
    "    torch.manual_seed(40)\n",
    "    model = DeepSurvival(dataset_name=name,\n",
    "                         save_path=save_path,\n",
    "                         clinical_features=feature_cols,\n",
    "                         importance_weighting=False)\n",
    "    model.fit(X_train, T_train, C_train)\n",
    "\n",
    "    # check test c_index\n",
    "    cindex = model.get_cindex(X_test, T_test, C_test)\n",
    "    print(f'C-index on {name}_synth test set:', cindex.item(), '\\n')"
   ]
  },
  {
   "cell_type": "markdown",
   "id": "cdafc12b-0755-4289-aa17-6fe5e254df45",
   "metadata": {
    "id": "cdafc12b-0755-4289-aa17-6fe5e254df45",
    "jp-MarkdownHeadingCollapsed": true
   },
   "source": [
    "## References\n",
    "\n",
    "[1] Chicco, Davide, and Giuseppe Jurman. “Machine learning can predict survival of patients with heart failure from serum creatinine and ejection fraction alone.” BMC Medical Informatics and Decision Making, vol.\n",
    "20, no. 1 (2020): 1-16.\n",
    "\n",
    "[2] Weiss, Eric S., Lois U. Nwakanma, Stuart B. Russell, John V. Conte, and Ashish S. Shah. “Outcomes in\n",
    "bicaval versus biatrial techniques in heart transplantation: an analysis of the UNOS database.” The Journal\n",
    "of heart and lung transplantation, vol. 27, no. 2 (2008): 178-183."
   ]
  },
  {
   "cell_type": "code",
   "execution_count": null,
   "id": "9ab66ef5-5fa5-40ca-a6ed-ecae8d985e8e",
   "metadata": {},
   "outputs": [],
   "source": []
  }
 ],
 "metadata": {
  "colab": {
   "provenance": []
  },
  "kernelspec": {
   "display_name": "cph-200b",
   "language": "python",
   "name": "python3"
  },
  "language_info": {
   "codemirror_mode": {
    "name": "ipython",
    "version": 3
   },
   "file_extension": ".py",
   "mimetype": "text/x-python",
   "name": "python",
   "nbconvert_exporter": "python",
   "pygments_lexer": "ipython3",
   "version": "3.11.11"
  }
 },
 "nbformat": 4,
 "nbformat_minor": 5
}
