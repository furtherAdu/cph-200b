{
 "cells": [
  {
   "cell_type": "markdown",
   "id": "27cc5509-75ad-4148-93b8-088b97ad1b17",
   "metadata": {
    "id": "27cc5509-75ad-4148-93b8-088b97ad1b17"
   },
   "source": [
    "<p align=center>\n",
    "<img src=\"assets/cphbanner.png\" width=1280>\n",
    "</p>"
   ]
  },
  {
   "cell_type": "markdown",
   "id": "2c79aea8-f578-4310-9e04-46fed86f21f1",
   "metadata": {
    "id": "2c79aea8-f578-4310-9e04-46fed86f21f1"
   },
   "source": [
    "# **Project 1: Survival Analysis and Prediction [30 points]**"
   ]
  },
  {
   "cell_type": "markdown",
   "id": "a9f62d3c-682e-44df-bda2-c04125cdb7a8",
   "metadata": {
    "id": "a9f62d3c-682e-44df-bda2-c04125cdb7a8"
   },
   "source": [
    "Many clinical trials and observational studies involve following patients for a long time. The primary event of\n",
    "interest in those studies may include death, relapse, or the onset of a new disease. The follow-up time for a trial\n",
    "or a study may range from few weeks to many years. To analyze this data, we typically conduct time-to-event\n",
    "analysis and build predictive models that learn time-to-event distributions. The goal of this project is to test\n",
    "your ability to conduct basic survival analyses as well as develop ML models for survival prediction."
   ]
  },
  {
   "cell_type": "markdown",
   "id": "345becba-b634-48c3-9130-b7071af5e878",
   "metadata": {
    "id": "345becba-b634-48c3-9130-b7071af5e878"
   },
   "source": [
    "**Please submit your report and code by <u> Tuesday 2/4 11:59 PST </u>.**"
   ]
  },
  {
   "cell_type": "markdown",
   "id": "03ac5b5a-a269-46be-bf9a-a300b535809f",
   "metadata": {
    "id": "03ac5b5a-a269-46be-bf9a-a300b535809f"
   },
   "source": [
    "## Task 1.1: Nonparametric Survival Analysis in Heart Failure [7 pts]\n",
    "\n",
    "Nonparametric models of survival data do not make parametric assumptions on the distribution of timeto-event outcomes. They are widely used in clinical studies to derive descriptive statistics of survival in a population. In this task, we will apply standard nonparametric estimators to analyze survival of heart failure patients in a recent, widely-recognized study [1]."
   ]
  },
  {
   "cell_type": "markdown",
   "id": "c0fdb3da-c55d-46a3-a277-82260a5b8298",
   "metadata": {
    "id": "c0fdb3da-c55d-46a3-a277-82260a5b8298"
   },
   "source": [
    "####  Setup and Dataset\n",
    "\n",
    "The dataset we will use in this task was extracted from the electronic health records (EHRs) of 299 heart failure patients from the Faisalabad Institute of Cardiology and at the Allied Hospital in Faisalabad (Punjab, Pakistan), during April–December 2015. The cohort included 105 women and 194 men, and their ages range between 40 and 95 years old. All 299 patients had left ventricular systolic dysfunction and had previous heart failures (HF) that put them in classes III or IV of New York Heart Association (NYHA) classification of the stages of heart failure. The dataset contains 13 features, which report clinical, body, and lifestyle information. The patients were followed up for 130 days on average (maximum follow-up period was 285 days). The event of interest was death during the follow-up period."
   ]
  },
  {
   "cell_type": "markdown",
   "id": "f1e3b06b-9959-4feb-8700-e22e2cee7918",
   "metadata": {
    "id": "f1e3b06b-9959-4feb-8700-e22e2cee7918"
   },
   "source": [
    "The dataset is publicly accessible and was shared with the class through UCSF Box. You can load the dataset in the directory \"./data\" and inspect all the features/outcomes using pandas as follows:"
   ]
  },
  {
   "cell_type": "code",
   "id": "bc2e885c-2106-49c8-9bd9-979919e5efa6",
   "metadata": {
    "id": "bc2e885c-2106-49c8-9bd9-979919e5efa6",
    "ExecuteTime": {
     "end_time": "2025-01-17T23:21:26.386831Z",
     "start_time": "2025-01-17T23:21:26.384336Z"
    }
   },
   "source": [
    "import os\n",
    "\n",
    "import pandas as pd\n",
    "from src.directory import csv_paths"
   ],
   "outputs": [],
   "execution_count": 1
  },
  {
   "metadata": {
    "ExecuteTime": {
     "end_time": "2025-01-17T23:21:26.626657Z",
     "start_time": "2025-01-17T23:21:26.621803Z"
    }
   },
   "cell_type": "code",
   "source": [
    "# read data\n",
    "dataset = pd.read_csv(csv_paths['faisalabad'])"
   ],
   "id": "228683f099a2712",
   "outputs": [],
   "execution_count": 2
  },
  {
   "metadata": {
    "ExecuteTime": {
     "end_time": "2025-01-17T23:21:26.676897Z",
     "start_time": "2025-01-17T23:21:26.666305Z"
    }
   },
   "cell_type": "code",
   "source": "dataset",
   "id": "e169f044fb712899",
   "outputs": [
    {
     "data": {
      "text/plain": [
       "      age  anaemia  creatinine_phosphokinase  diabetes  ejection_fraction  \\\n",
       "0    75.0        0                       582         0                 20   \n",
       "1    55.0        0                      7861         0                 38   \n",
       "2    65.0        0                       146         0                 20   \n",
       "3    50.0        1                       111         0                 20   \n",
       "4    65.0        1                       160         1                 20   \n",
       "..    ...      ...                       ...       ...                ...   \n",
       "294  62.0        0                        61         1                 38   \n",
       "295  55.0        0                      1820         0                 38   \n",
       "296  45.0        0                      2060         1                 60   \n",
       "297  45.0        0                      2413         0                 38   \n",
       "298  50.0        0                       196         0                 45   \n",
       "\n",
       "     high_blood_pressure  platelets  serum_creatinine  serum_sodium  sex  \\\n",
       "0                      1  265000.00               1.9           130    1   \n",
       "1                      0  263358.03               1.1           136    1   \n",
       "2                      0  162000.00               1.3           129    1   \n",
       "3                      0  210000.00               1.9           137    1   \n",
       "4                      0  327000.00               2.7           116    0   \n",
       "..                   ...        ...               ...           ...  ...   \n",
       "294                    1  155000.00               1.1           143    1   \n",
       "295                    0  270000.00               1.2           139    0   \n",
       "296                    0  742000.00               0.8           138    0   \n",
       "297                    0  140000.00               1.4           140    1   \n",
       "298                    0  395000.00               1.6           136    1   \n",
       "\n",
       "     smoking  time  DEATH_EVENT  \n",
       "0          0     4            1  \n",
       "1          0     6            1  \n",
       "2          1     7            1  \n",
       "3          0     7            1  \n",
       "4          0     8            1  \n",
       "..       ...   ...          ...  \n",
       "294        1   270            0  \n",
       "295        0   271            0  \n",
       "296        0   278            0  \n",
       "297        1   280            0  \n",
       "298        1   285            0  \n",
       "\n",
       "[299 rows x 13 columns]"
      ],
      "text/html": [
       "<div>\n",
       "<style scoped>\n",
       "    .dataframe tbody tr th:only-of-type {\n",
       "        vertical-align: middle;\n",
       "    }\n",
       "\n",
       "    .dataframe tbody tr th {\n",
       "        vertical-align: top;\n",
       "    }\n",
       "\n",
       "    .dataframe thead th {\n",
       "        text-align: right;\n",
       "    }\n",
       "</style>\n",
       "<table border=\"1\" class=\"dataframe\">\n",
       "  <thead>\n",
       "    <tr style=\"text-align: right;\">\n",
       "      <th></th>\n",
       "      <th>age</th>\n",
       "      <th>anaemia</th>\n",
       "      <th>creatinine_phosphokinase</th>\n",
       "      <th>diabetes</th>\n",
       "      <th>ejection_fraction</th>\n",
       "      <th>high_blood_pressure</th>\n",
       "      <th>platelets</th>\n",
       "      <th>serum_creatinine</th>\n",
       "      <th>serum_sodium</th>\n",
       "      <th>sex</th>\n",
       "      <th>smoking</th>\n",
       "      <th>time</th>\n",
       "      <th>DEATH_EVENT</th>\n",
       "    </tr>\n",
       "  </thead>\n",
       "  <tbody>\n",
       "    <tr>\n",
       "      <th>0</th>\n",
       "      <td>75.0</td>\n",
       "      <td>0</td>\n",
       "      <td>582</td>\n",
       "      <td>0</td>\n",
       "      <td>20</td>\n",
       "      <td>1</td>\n",
       "      <td>265000.00</td>\n",
       "      <td>1.9</td>\n",
       "      <td>130</td>\n",
       "      <td>1</td>\n",
       "      <td>0</td>\n",
       "      <td>4</td>\n",
       "      <td>1</td>\n",
       "    </tr>\n",
       "    <tr>\n",
       "      <th>1</th>\n",
       "      <td>55.0</td>\n",
       "      <td>0</td>\n",
       "      <td>7861</td>\n",
       "      <td>0</td>\n",
       "      <td>38</td>\n",
       "      <td>0</td>\n",
       "      <td>263358.03</td>\n",
       "      <td>1.1</td>\n",
       "      <td>136</td>\n",
       "      <td>1</td>\n",
       "      <td>0</td>\n",
       "      <td>6</td>\n",
       "      <td>1</td>\n",
       "    </tr>\n",
       "    <tr>\n",
       "      <th>2</th>\n",
       "      <td>65.0</td>\n",
       "      <td>0</td>\n",
       "      <td>146</td>\n",
       "      <td>0</td>\n",
       "      <td>20</td>\n",
       "      <td>0</td>\n",
       "      <td>162000.00</td>\n",
       "      <td>1.3</td>\n",
       "      <td>129</td>\n",
       "      <td>1</td>\n",
       "      <td>1</td>\n",
       "      <td>7</td>\n",
       "      <td>1</td>\n",
       "    </tr>\n",
       "    <tr>\n",
       "      <th>3</th>\n",
       "      <td>50.0</td>\n",
       "      <td>1</td>\n",
       "      <td>111</td>\n",
       "      <td>0</td>\n",
       "      <td>20</td>\n",
       "      <td>0</td>\n",
       "      <td>210000.00</td>\n",
       "      <td>1.9</td>\n",
       "      <td>137</td>\n",
       "      <td>1</td>\n",
       "      <td>0</td>\n",
       "      <td>7</td>\n",
       "      <td>1</td>\n",
       "    </tr>\n",
       "    <tr>\n",
       "      <th>4</th>\n",
       "      <td>65.0</td>\n",
       "      <td>1</td>\n",
       "      <td>160</td>\n",
       "      <td>1</td>\n",
       "      <td>20</td>\n",
       "      <td>0</td>\n",
       "      <td>327000.00</td>\n",
       "      <td>2.7</td>\n",
       "      <td>116</td>\n",
       "      <td>0</td>\n",
       "      <td>0</td>\n",
       "      <td>8</td>\n",
       "      <td>1</td>\n",
       "    </tr>\n",
       "    <tr>\n",
       "      <th>...</th>\n",
       "      <td>...</td>\n",
       "      <td>...</td>\n",
       "      <td>...</td>\n",
       "      <td>...</td>\n",
       "      <td>...</td>\n",
       "      <td>...</td>\n",
       "      <td>...</td>\n",
       "      <td>...</td>\n",
       "      <td>...</td>\n",
       "      <td>...</td>\n",
       "      <td>...</td>\n",
       "      <td>...</td>\n",
       "      <td>...</td>\n",
       "    </tr>\n",
       "    <tr>\n",
       "      <th>294</th>\n",
       "      <td>62.0</td>\n",
       "      <td>0</td>\n",
       "      <td>61</td>\n",
       "      <td>1</td>\n",
       "      <td>38</td>\n",
       "      <td>1</td>\n",
       "      <td>155000.00</td>\n",
       "      <td>1.1</td>\n",
       "      <td>143</td>\n",
       "      <td>1</td>\n",
       "      <td>1</td>\n",
       "      <td>270</td>\n",
       "      <td>0</td>\n",
       "    </tr>\n",
       "    <tr>\n",
       "      <th>295</th>\n",
       "      <td>55.0</td>\n",
       "      <td>0</td>\n",
       "      <td>1820</td>\n",
       "      <td>0</td>\n",
       "      <td>38</td>\n",
       "      <td>0</td>\n",
       "      <td>270000.00</td>\n",
       "      <td>1.2</td>\n",
       "      <td>139</td>\n",
       "      <td>0</td>\n",
       "      <td>0</td>\n",
       "      <td>271</td>\n",
       "      <td>0</td>\n",
       "    </tr>\n",
       "    <tr>\n",
       "      <th>296</th>\n",
       "      <td>45.0</td>\n",
       "      <td>0</td>\n",
       "      <td>2060</td>\n",
       "      <td>1</td>\n",
       "      <td>60</td>\n",
       "      <td>0</td>\n",
       "      <td>742000.00</td>\n",
       "      <td>0.8</td>\n",
       "      <td>138</td>\n",
       "      <td>0</td>\n",
       "      <td>0</td>\n",
       "      <td>278</td>\n",
       "      <td>0</td>\n",
       "    </tr>\n",
       "    <tr>\n",
       "      <th>297</th>\n",
       "      <td>45.0</td>\n",
       "      <td>0</td>\n",
       "      <td>2413</td>\n",
       "      <td>0</td>\n",
       "      <td>38</td>\n",
       "      <td>0</td>\n",
       "      <td>140000.00</td>\n",
       "      <td>1.4</td>\n",
       "      <td>140</td>\n",
       "      <td>1</td>\n",
       "      <td>1</td>\n",
       "      <td>280</td>\n",
       "      <td>0</td>\n",
       "    </tr>\n",
       "    <tr>\n",
       "      <th>298</th>\n",
       "      <td>50.0</td>\n",
       "      <td>0</td>\n",
       "      <td>196</td>\n",
       "      <td>0</td>\n",
       "      <td>45</td>\n",
       "      <td>0</td>\n",
       "      <td>395000.00</td>\n",
       "      <td>1.6</td>\n",
       "      <td>136</td>\n",
       "      <td>1</td>\n",
       "      <td>1</td>\n",
       "      <td>285</td>\n",
       "      <td>0</td>\n",
       "    </tr>\n",
       "  </tbody>\n",
       "</table>\n",
       "<p>299 rows × 13 columns</p>\n",
       "</div>"
      ]
     },
     "execution_count": 3,
     "metadata": {},
     "output_type": "execute_result"
    }
   ],
   "execution_count": 3
  },
  {
   "cell_type": "code",
   "id": "c75d4409-6dc3-412d-b931-f4544b0353ce",
   "metadata": {
    "id": "c75d4409-6dc3-412d-b931-f4544b0353ce",
    "outputId": "9ab13dd2-b6e3-4968-e9f5-c60615d3bf31",
    "ExecuteTime": {
     "end_time": "2025-01-17T23:21:26.742009Z",
     "start_time": "2025-01-17T23:21:26.707998Z"
    }
   },
   "source": [
    "# descriptive statistics\n",
    "dataset.describe()"
   ],
   "outputs": [
    {
     "data": {
      "text/plain": [
       "              age     anaemia  creatinine_phosphokinase    diabetes  \\\n",
       "count  299.000000  299.000000                299.000000  299.000000   \n",
       "mean    60.833893    0.431438                581.839465    0.418060   \n",
       "std     11.894809    0.496107                970.287881    0.494067   \n",
       "min     40.000000    0.000000                 23.000000    0.000000   \n",
       "25%     51.000000    0.000000                116.500000    0.000000   \n",
       "50%     60.000000    0.000000                250.000000    0.000000   \n",
       "75%     70.000000    1.000000                582.000000    1.000000   \n",
       "max     95.000000    1.000000               7861.000000    1.000000   \n",
       "\n",
       "       ejection_fraction  high_blood_pressure      platelets  \\\n",
       "count         299.000000           299.000000     299.000000   \n",
       "mean           38.083612             0.351171  263358.029264   \n",
       "std            11.834841             0.478136   97804.236869   \n",
       "min            14.000000             0.000000   25100.000000   \n",
       "25%            30.000000             0.000000  212500.000000   \n",
       "50%            38.000000             0.000000  262000.000000   \n",
       "75%            45.000000             1.000000  303500.000000   \n",
       "max            80.000000             1.000000  850000.000000   \n",
       "\n",
       "       serum_creatinine  serum_sodium         sex    smoking        time  \\\n",
       "count         299.00000    299.000000  299.000000  299.00000  299.000000   \n",
       "mean            1.39388    136.625418    0.648829    0.32107  130.260870   \n",
       "std             1.03451      4.412477    0.478136    0.46767   77.614208   \n",
       "min             0.50000    113.000000    0.000000    0.00000    4.000000   \n",
       "25%             0.90000    134.000000    0.000000    0.00000   73.000000   \n",
       "50%             1.10000    137.000000    1.000000    0.00000  115.000000   \n",
       "75%             1.40000    140.000000    1.000000    1.00000  203.000000   \n",
       "max             9.40000    148.000000    1.000000    1.00000  285.000000   \n",
       "\n",
       "       DEATH_EVENT  \n",
       "count    299.00000  \n",
       "mean       0.32107  \n",
       "std        0.46767  \n",
       "min        0.00000  \n",
       "25%        0.00000  \n",
       "50%        0.00000  \n",
       "75%        1.00000  \n",
       "max        1.00000  "
      ],
      "text/html": [
       "<div>\n",
       "<style scoped>\n",
       "    .dataframe tbody tr th:only-of-type {\n",
       "        vertical-align: middle;\n",
       "    }\n",
       "\n",
       "    .dataframe tbody tr th {\n",
       "        vertical-align: top;\n",
       "    }\n",
       "\n",
       "    .dataframe thead th {\n",
       "        text-align: right;\n",
       "    }\n",
       "</style>\n",
       "<table border=\"1\" class=\"dataframe\">\n",
       "  <thead>\n",
       "    <tr style=\"text-align: right;\">\n",
       "      <th></th>\n",
       "      <th>age</th>\n",
       "      <th>anaemia</th>\n",
       "      <th>creatinine_phosphokinase</th>\n",
       "      <th>diabetes</th>\n",
       "      <th>ejection_fraction</th>\n",
       "      <th>high_blood_pressure</th>\n",
       "      <th>platelets</th>\n",
       "      <th>serum_creatinine</th>\n",
       "      <th>serum_sodium</th>\n",
       "      <th>sex</th>\n",
       "      <th>smoking</th>\n",
       "      <th>time</th>\n",
       "      <th>DEATH_EVENT</th>\n",
       "    </tr>\n",
       "  </thead>\n",
       "  <tbody>\n",
       "    <tr>\n",
       "      <th>count</th>\n",
       "      <td>299.000000</td>\n",
       "      <td>299.000000</td>\n",
       "      <td>299.000000</td>\n",
       "      <td>299.000000</td>\n",
       "      <td>299.000000</td>\n",
       "      <td>299.000000</td>\n",
       "      <td>299.000000</td>\n",
       "      <td>299.00000</td>\n",
       "      <td>299.000000</td>\n",
       "      <td>299.000000</td>\n",
       "      <td>299.00000</td>\n",
       "      <td>299.000000</td>\n",
       "      <td>299.00000</td>\n",
       "    </tr>\n",
       "    <tr>\n",
       "      <th>mean</th>\n",
       "      <td>60.833893</td>\n",
       "      <td>0.431438</td>\n",
       "      <td>581.839465</td>\n",
       "      <td>0.418060</td>\n",
       "      <td>38.083612</td>\n",
       "      <td>0.351171</td>\n",
       "      <td>263358.029264</td>\n",
       "      <td>1.39388</td>\n",
       "      <td>136.625418</td>\n",
       "      <td>0.648829</td>\n",
       "      <td>0.32107</td>\n",
       "      <td>130.260870</td>\n",
       "      <td>0.32107</td>\n",
       "    </tr>\n",
       "    <tr>\n",
       "      <th>std</th>\n",
       "      <td>11.894809</td>\n",
       "      <td>0.496107</td>\n",
       "      <td>970.287881</td>\n",
       "      <td>0.494067</td>\n",
       "      <td>11.834841</td>\n",
       "      <td>0.478136</td>\n",
       "      <td>97804.236869</td>\n",
       "      <td>1.03451</td>\n",
       "      <td>4.412477</td>\n",
       "      <td>0.478136</td>\n",
       "      <td>0.46767</td>\n",
       "      <td>77.614208</td>\n",
       "      <td>0.46767</td>\n",
       "    </tr>\n",
       "    <tr>\n",
       "      <th>min</th>\n",
       "      <td>40.000000</td>\n",
       "      <td>0.000000</td>\n",
       "      <td>23.000000</td>\n",
       "      <td>0.000000</td>\n",
       "      <td>14.000000</td>\n",
       "      <td>0.000000</td>\n",
       "      <td>25100.000000</td>\n",
       "      <td>0.50000</td>\n",
       "      <td>113.000000</td>\n",
       "      <td>0.000000</td>\n",
       "      <td>0.00000</td>\n",
       "      <td>4.000000</td>\n",
       "      <td>0.00000</td>\n",
       "    </tr>\n",
       "    <tr>\n",
       "      <th>25%</th>\n",
       "      <td>51.000000</td>\n",
       "      <td>0.000000</td>\n",
       "      <td>116.500000</td>\n",
       "      <td>0.000000</td>\n",
       "      <td>30.000000</td>\n",
       "      <td>0.000000</td>\n",
       "      <td>212500.000000</td>\n",
       "      <td>0.90000</td>\n",
       "      <td>134.000000</td>\n",
       "      <td>0.000000</td>\n",
       "      <td>0.00000</td>\n",
       "      <td>73.000000</td>\n",
       "      <td>0.00000</td>\n",
       "    </tr>\n",
       "    <tr>\n",
       "      <th>50%</th>\n",
       "      <td>60.000000</td>\n",
       "      <td>0.000000</td>\n",
       "      <td>250.000000</td>\n",
       "      <td>0.000000</td>\n",
       "      <td>38.000000</td>\n",
       "      <td>0.000000</td>\n",
       "      <td>262000.000000</td>\n",
       "      <td>1.10000</td>\n",
       "      <td>137.000000</td>\n",
       "      <td>1.000000</td>\n",
       "      <td>0.00000</td>\n",
       "      <td>115.000000</td>\n",
       "      <td>0.00000</td>\n",
       "    </tr>\n",
       "    <tr>\n",
       "      <th>75%</th>\n",
       "      <td>70.000000</td>\n",
       "      <td>1.000000</td>\n",
       "      <td>582.000000</td>\n",
       "      <td>1.000000</td>\n",
       "      <td>45.000000</td>\n",
       "      <td>1.000000</td>\n",
       "      <td>303500.000000</td>\n",
       "      <td>1.40000</td>\n",
       "      <td>140.000000</td>\n",
       "      <td>1.000000</td>\n",
       "      <td>1.00000</td>\n",
       "      <td>203.000000</td>\n",
       "      <td>1.00000</td>\n",
       "    </tr>\n",
       "    <tr>\n",
       "      <th>max</th>\n",
       "      <td>95.000000</td>\n",
       "      <td>1.000000</td>\n",
       "      <td>7861.000000</td>\n",
       "      <td>1.000000</td>\n",
       "      <td>80.000000</td>\n",
       "      <td>1.000000</td>\n",
       "      <td>850000.000000</td>\n",
       "      <td>9.40000</td>\n",
       "      <td>148.000000</td>\n",
       "      <td>1.000000</td>\n",
       "      <td>1.00000</td>\n",
       "      <td>285.000000</td>\n",
       "      <td>1.00000</td>\n",
       "    </tr>\n",
       "  </tbody>\n",
       "</table>\n",
       "</div>"
      ]
     },
     "execution_count": 4,
     "metadata": {},
     "output_type": "execute_result"
    }
   ],
   "execution_count": 4
  },
  {
   "metadata": {
    "ExecuteTime": {
     "end_time": "2025-01-17T23:21:26.747412Z",
     "start_time": "2025-01-17T23:21:26.743151Z"
    }
   },
   "cell_type": "code",
   "source": [
    "# check for NaN\n",
    "print(f'NA Count by Variable : {dataset.isna().sum(axis=0)[dataset.isna().sum(axis=0) > 0]}')"
   ],
   "id": "70539b63bd443d95",
   "outputs": [
    {
     "name": "stdout",
     "output_type": "stream",
     "text": [
      "NA Count by Variable : Series([], dtype: int64)\n"
     ]
    }
   ],
   "execution_count": 5
  },
  {
   "cell_type": "markdown",
   "id": "d21442ab-caf2-4dae-acf9-ca225a272d9d",
   "metadata": {
    "id": "d21442ab-caf2-4dae-acf9-ca225a272d9d"
   },
   "source": [
    "## Solution"
   ]
  },
  {
   "metadata": {},
   "cell_type": "markdown",
   "source": "### Task 1.1.1",
   "id": "820ca3a2ac060a6a"
  },
  {
   "metadata": {
    "ExecuteTime": {
     "end_time": "2025-01-18T00:12:10.954120Z",
     "start_time": "2025-01-18T00:12:10.951393Z"
    }
   },
   "cell_type": "code",
   "source": [
    "import pandas as pd\n",
    "import seaborn as sns\n",
    "from matplotlib import pyplot as plt\n",
    "from lifelines import KaplanMeierFitter\n",
    "from src.KM_estimator import kaplan_meier\n",
    "from src.directory import csv_paths\n",
    "import numpy as np"
   ],
   "id": "139f23307cc71027",
   "outputs": [],
   "execution_count": 7
  },
  {
   "metadata": {
    "ExecuteTime": {
     "end_time": "2025-01-18T00:12:11.166836Z",
     "start_time": "2025-01-18T00:12:11.160698Z"
    }
   },
   "cell_type": "code",
   "source": [
    "time_col = 'time'\n",
    "event_col = 'DEATH_EVENT'\n",
    "dataset = pd.read_csv(csv_paths['faisalabad'])\n",
    "\n",
    "# set alpha for confidence intervals\n",
    "alpha = 0.05"
   ],
   "id": "5d937e7f111fcc07",
   "outputs": [],
   "execution_count": 8
  },
  {
   "metadata": {
    "ExecuteTime": {
     "end_time": "2025-01-18T00:12:11.486365Z",
     "start_time": "2025-01-18T00:12:11.480157Z"
    }
   },
   "cell_type": "code",
   "source": [
    "# get KM estimate from scratch\n",
    "km_df = kaplan_meier(dataset, time_col, event_col, alpha=alpha)"
   ],
   "id": "2536f4f0dd1ba42a",
   "outputs": [],
   "execution_count": 9
  },
  {
   "metadata": {
    "ExecuteTime": {
     "end_time": "2025-01-18T00:12:11.864192Z",
     "start_time": "2025-01-18T00:12:11.847637Z"
    }
   },
   "cell_type": "code",
   "source": [
    "# get KM estimate from lifelines\n",
    "kmf = KaplanMeierFitter(alpha=alpha)\n",
    "kmf.fit(dataset['time'], event_observed=dataset['DEATH_EVENT'])"
   ],
   "id": "aec2d6b14fc67c5e",
   "outputs": [
    {
     "data": {
      "text/plain": [
       "<lifelines.KaplanMeierFitter:\"KM_estimate\", fitted with 299 total observations, 203 right-censored observations>"
      ]
     },
     "execution_count": 10,
     "metadata": {},
     "output_type": "execute_result"
    }
   ],
   "execution_count": 10
  },
  {
   "metadata": {
    "ExecuteTime": {
     "end_time": "2025-01-18T00:12:12.521455Z",
     "start_time": "2025-01-18T00:12:12.420449Z"
    }
   },
   "cell_type": "code",
   "source": [
    "# plot KM estimates from scratch and with lifelines\n",
    "fig, axs = plt.subplots()\n",
    "\n",
    "# plot from scratch KM\n",
    "sns.lineplot(data=km_df, x='time', y='survival_prob', \n",
    "             drawstyle='steps-pre', ax=axs, label='From scratch', legend=True)\n",
    "plt.fill_between(km_df['time'], km_df['ci_lower'], km_df['ci_upper'], alpha=0.3)\n",
    "\n",
    "# plot lifelines KM\n",
    "kmf.plot_survival_function(label='Lifelines')\n",
    "\n",
    "plt.ylim(.45, 1.05)\n",
    "plt.title(fr'Kaplan-Meier Estimates, CI $\\alpha$ ={alpha}')\n",
    "plt.show()\n",
    "\n",
    "# check survival function equality\n",
    "assert all(np.isclose(km_df['survival_prob'].values.ravel(),\n",
    "                      kmf.survival_function_.reindex(range(km_df['time'].max() +1)).ffill().values.ravel())), 'Survival functions don\\'t match!'"
   ],
   "id": "e885fa1cbe077b17",
   "outputs": [
    {
     "data": {
      "text/plain": [
       "<Figure size 640x480 with 1 Axes>"
      ],
      "image/png": "[encoded data removed]"
     },
     "metadata": {},
     "output_type": "display_data"
    }
   ],
   "execution_count": 11
  },
  {
   "metadata": {},
   "cell_type": "markdown",
   "source": "### Task 1.1.2",
   "id": "6e80f62a34462af5"
  },
  {
   "metadata": {
    "ExecuteTime": {
     "end_time": "2025-01-17T23:21:27.319184Z",
     "start_time": "2025-01-17T23:21:27.317080Z"
    }
   },
   "cell_type": "code",
   "source": "from scipy.optimize import curve_fit",
   "id": "f90026a63b692998",
   "outputs": [],
   "execution_count": 11
  },
  {
   "metadata": {
    "ExecuteTime": {
     "end_time": "2025-01-17T23:21:27.330499Z",
     "start_time": "2025-01-17T23:21:27.320125Z"
    }
   },
   "cell_type": "code",
   "source": [
    "eps = 1e-8\n",
    "\n",
    "def exp_model(x, a, b, c):\n",
    "    return a * np.exp(-b * x) + c\n",
    "\n",
    "popt, pcov = curve_fit(f=exp_model, xdata=km_df.index, ydata=km_df['survival_prob'])\n",
    "S_t = exp_model(km_df.index, *popt)"
   ],
   "id": "d626c9d13141757a",
   "outputs": [],
   "execution_count": 12
  },
  {
   "metadata": {
    "ExecuteTime": {
     "end_time": "2025-01-17T23:21:27.404546Z",
     "start_time": "2025-01-17T23:21:27.331485Z"
    }
   },
   "cell_type": "code",
   "source": [
    "# plot KM estimates from scratch and with lifelines\n",
    "fig2, axs2 = plt.subplots()\n",
    "\n",
    "# plot from scratch KM\n",
    "sns.lineplot(data=km_df, x='time', y='survival_prob', \n",
    "             drawstyle='steps-pre', ax=axs2, label='Empirical curve', legend=True)\n",
    "plt.fill_between(km_df['time'], km_df['ci_lower'], km_df['ci_upper'], alpha=0.3)\n",
    "\n",
    "axs2.plot(S_t, label='Exponential Curve')\n",
    "plt.legend()\n",
    "plt.show()\n",
    "\n",
    "# Limitation: no guaranteed y==0 at x==0"
   ],
   "id": "f8ffd8224f9e2523",
   "outputs": [
    {
     "data": {
      "text/plain": [
       "<Figure size 640x480 with 1 Axes>"
      ],
      "image/png": "[encoded data removed]"
     },
     "metadata": {},
     "output_type": "display_data"
    }
   ],
   "execution_count": 13
  },
  {
   "metadata": {},
   "cell_type": "markdown",
   "source": "### Task 1.1.3",
   "id": "2af77fc875718dd"
  },
  {
   "metadata": {
    "ExecuteTime": {
     "end_time": "2025-01-17T23:21:29.264585Z",
     "start_time": "2025-01-17T23:21:27.405185Z"
    }
   },
   "cell_type": "code",
   "source": [
    "from src.data_dict import feature_config\n",
    "from src.KM_estimator import nearest_neighbor_km, evaluate_c_index\n",
    "\n",
    "dataset_name = 'faisalabad'\n",
    "patient_features = feature_config[dataset_name]\n",
    "time_col = 'time'\n",
    "event_col = 'DEATH_EVENT'\n",
    "max_time = dataset[time_col].max()\n",
    "\n",
    "patient_km_fits = nearest_neighbor_km(dataset, patient_features, time_col, event_col, n_neighbors=20)\n",
    "\n",
    "c_index = evaluate_c_index(dataset, patient_km_fits, time_col, event_col)\n",
    "print(f\"C-index: {c_index}\")\n",
    "\n",
    "#Example of getting survival probabilites for a specific patient\n",
    "fig, axs = plt.subplots()\n",
    "for patient_index in range(5):\n",
    "    time_points = np.arange(max_time)\n",
    "    patient_survival_prob = patient_km_fits[patient_index].survival_function_at_times(time_points)\n",
    "    patient_survival_prob.index.name = time_col\n",
    "    \n",
    "    sns.lineplot(data=patient_survival_prob.reset_index(), x='time', y='KM_estimate', \n",
    "                 drawstyle='steps-pre', ax=axs, label=f'Patient {patient_index}', legend=True)"
   ],
   "id": "bc15a246b6797b59",
   "outputs": [
    {
     "name": "stdout",
     "output_type": "stream",
     "text": [
      "C-index: 0.5302506482281764\n"
     ]
    },
    {
     "data": {
      "text/plain": [
       "<Figure size 640x480 with 1 Axes>"
      ],
      "image/png": "[encoded data removed]"
     },
     "metadata": {},
     "output_type": "display_data"
    }
   ],
   "execution_count": 14
  },
  {
   "metadata": {},
   "cell_type": "markdown",
   "source": "## Task 1.2: Survival Prediction in HF patients using the Cox Model [7 pts]",
   "id": "1b0f0da4e0b0e337"
  },
  {
   "metadata": {},
   "cell_type": "markdown",
   "source": "### Task 1.2.1",
   "id": "105bbc1730cc22ca"
  },
  {
   "metadata": {
    "ExecuteTime": {
     "end_time": "2025-01-17T23:21:30.895790Z",
     "start_time": "2025-01-17T23:21:29.265822Z"
    }
   },
   "cell_type": "code",
   "source": [
    "import numpy as np\n",
    "import pandas as pd\n",
    "from src.data_dict import feature_config\n",
    "from src.lightning import CoxRiskLightning, get_trainer, get_checkpoint_callback, get_log_dir_path\n",
    "from src.dataset import SurvivalDataModule"
   ],
   "id": "ab011fa6bdd0dc5",
   "outputs": [
    {
     "name": "stderr",
     "output_type": "stream",
     "text": [
      "Seed set to 40\n"
     ]
    }
   ],
   "execution_count": 15
  },
  {
   "metadata": {
    "ExecuteTime": {
     "end_time": "2025-01-17T23:21:31.877658Z",
     "start_time": "2025-01-17T23:21:30.896893Z"
    }
   },
   "cell_type": "code",
   "source": [
    "time_col = 'time'\n",
    "event_col = 'DEATH_EVENT'\n",
    "dataset_name = 'faisalabad'\n",
    "\n",
    "# set up datamodule\n",
    "datamodule = SurvivalDataModule(\n",
    "    dataset_name=dataset_name,\n",
    "    input_features=feature_config[dataset_name],\n",
    "    time_col=time_col,\n",
    "    event_col=event_col\n",
    ")\n",
    "\n",
    "# set up model \n",
    "model = CoxRiskLightning(\n",
    "    dataset_name=dataset_name,\n",
    "    clinical_features=feature_config[dataset_name],\n",
    "    time_col=time_col,\n",
    "    event_col=event_col\n",
    ")\n",
    "\n",
    "# set log dir\n",
    "model_name = 'cox'\n",
    "log_dir_path = get_log_dir_path(model_name)\n",
    "\n",
    "# get checkpoint callback\n",
    "checkpoint_callback = get_checkpoint_callback(model_name, log_dir_path)\n",
    "\n",
    "# get trainer\n",
    "trainer = get_trainer(model_name, checkpoint_callback)\n",
    "\n",
    "print(\"Training model\")\n",
    "trainer.fit(model, datamodule)"
   ],
   "id": "36e69d3cd8b73653",
   "outputs": [
    {
     "name": "stderr",
     "output_type": "stream",
     "text": [
      "Using bfloat16 Automatic Mixed Precision (AMP)\n",
      "GPU available: False, used: False\n",
      "TPU available: False, using: 0 TPU cores\n",
      "HPU available: False, using: 0 HPUs\n"
     ]
    },
    {
     "name": "stdout",
     "output_type": "stream",
     "text": [
      "Training model\n"
     ]
    },
    {
     "name": "stderr",
     "output_type": "stream",
     "text": [
      "Processing faisalabad Dataset: 299it [00:00, 30064.17it/s]\n",
      "/home/hentipapai/miniconda3/envs/cph-200b/lib/python3.11/site-packages/pytorch_lightning/callbacks/model_checkpoint.py:654: Checkpoint directory /home/hentipapai/PycharmProjects/cph-200b/logs/cox/version_10 exists and is not empty.\n",
      "\n",
      "  | Name  | Type         | Params | Mode \n",
      "-----------------------------------------------\n",
      "0 | model | CoxRiskTorch | 12     | train\n",
      "-----------------------------------------------\n",
      "12        Trainable params\n",
      "0         Non-trainable params\n",
      "12        Total params\n",
      "0.000     Total estimated model params size (MB)\n",
      "2         Modules in train mode\n",
      "0         Modules in eval mode\n"
     ]
    },
    {
     "data": {
      "text/plain": [
       "Sanity Checking: |          | 0/? [00:00<?, ?it/s]"
      ],
      "application/vnd.jupyter.widget-view+json": {
       "version_major": 2,
       "version_minor": 0,
       "model_id": "7ac4be67f5324f61a090bc0f5210a194"
      }
     },
     "metadata": {},
     "output_type": "display_data"
    },
    {
     "ename": "AttributeError",
     "evalue": "'CoxRiskLightning' object has no attribute 'on_epoch_start'",
     "output_type": "error",
     "traceback": [
      "\u001B[0;31m---------------------------------------------------------------------------\u001B[0m",
      "\u001B[0;31mAttributeError\u001B[0m                            Traceback (most recent call last)",
      "Cell \u001B[0;32mIn[16], line 32\u001B[0m\n\u001B[1;32m     29\u001B[0m trainer \u001B[38;5;241m=\u001B[39m get_trainer(model_name, checkpoint_callback)\n\u001B[1;32m     31\u001B[0m \u001B[38;5;28mprint\u001B[39m(\u001B[38;5;124m\"\u001B[39m\u001B[38;5;124mTraining model\u001B[39m\u001B[38;5;124m\"\u001B[39m)\n\u001B[0;32m---> 32\u001B[0m trainer\u001B[38;5;241m.\u001B[39mfit(model, datamodule)\n",
      "File \u001B[0;32m~/miniconda3/envs/cph-200b/lib/python3.11/site-packages/pytorch_lightning/trainer/trainer.py:539\u001B[0m, in \u001B[0;36mTrainer.fit\u001B[0;34m(self, model, train_dataloaders, val_dataloaders, datamodule, ckpt_path)\u001B[0m\n\u001B[1;32m    537\u001B[0m \u001B[38;5;28mself\u001B[39m\u001B[38;5;241m.\u001B[39mstate\u001B[38;5;241m.\u001B[39mstatus \u001B[38;5;241m=\u001B[39m TrainerStatus\u001B[38;5;241m.\u001B[39mRUNNING\n\u001B[1;32m    538\u001B[0m \u001B[38;5;28mself\u001B[39m\u001B[38;5;241m.\u001B[39mtraining \u001B[38;5;241m=\u001B[39m \u001B[38;5;28;01mTrue\u001B[39;00m\n\u001B[0;32m--> 539\u001B[0m call\u001B[38;5;241m.\u001B[39m_call_and_handle_interrupt(\n\u001B[1;32m    540\u001B[0m     \u001B[38;5;28mself\u001B[39m, \u001B[38;5;28mself\u001B[39m\u001B[38;5;241m.\u001B[39m_fit_impl, model, train_dataloaders, val_dataloaders, datamodule, ckpt_path\n\u001B[1;32m    541\u001B[0m )\n",
      "File \u001B[0;32m~/miniconda3/envs/cph-200b/lib/python3.11/site-packages/pytorch_lightning/trainer/call.py:47\u001B[0m, in \u001B[0;36m_call_and_handle_interrupt\u001B[0;34m(trainer, trainer_fn, *args, **kwargs)\u001B[0m\n\u001B[1;32m     45\u001B[0m     \u001B[38;5;28;01mif\u001B[39;00m trainer\u001B[38;5;241m.\u001B[39mstrategy\u001B[38;5;241m.\u001B[39mlauncher \u001B[38;5;129;01mis\u001B[39;00m \u001B[38;5;129;01mnot\u001B[39;00m \u001B[38;5;28;01mNone\u001B[39;00m:\n\u001B[1;32m     46\u001B[0m         \u001B[38;5;28;01mreturn\u001B[39;00m trainer\u001B[38;5;241m.\u001B[39mstrategy\u001B[38;5;241m.\u001B[39mlauncher\u001B[38;5;241m.\u001B[39mlaunch(trainer_fn, \u001B[38;5;241m*\u001B[39margs, trainer\u001B[38;5;241m=\u001B[39mtrainer, \u001B[38;5;241m*\u001B[39m\u001B[38;5;241m*\u001B[39mkwargs)\n\u001B[0;32m---> 47\u001B[0m     \u001B[38;5;28;01mreturn\u001B[39;00m trainer_fn(\u001B[38;5;241m*\u001B[39margs, \u001B[38;5;241m*\u001B[39m\u001B[38;5;241m*\u001B[39mkwargs)\n\u001B[1;32m     49\u001B[0m \u001B[38;5;28;01mexcept\u001B[39;00m _TunerExitException:\n\u001B[1;32m     50\u001B[0m     _call_teardown_hook(trainer)\n",
      "File \u001B[0;32m~/miniconda3/envs/cph-200b/lib/python3.11/site-packages/pytorch_lightning/trainer/trainer.py:575\u001B[0m, in \u001B[0;36mTrainer._fit_impl\u001B[0;34m(self, model, train_dataloaders, val_dataloaders, datamodule, ckpt_path)\u001B[0m\n\u001B[1;32m    568\u001B[0m \u001B[38;5;28;01massert\u001B[39;00m \u001B[38;5;28mself\u001B[39m\u001B[38;5;241m.\u001B[39mstate\u001B[38;5;241m.\u001B[39mfn \u001B[38;5;129;01mis\u001B[39;00m \u001B[38;5;129;01mnot\u001B[39;00m \u001B[38;5;28;01mNone\u001B[39;00m\n\u001B[1;32m    569\u001B[0m ckpt_path \u001B[38;5;241m=\u001B[39m \u001B[38;5;28mself\u001B[39m\u001B[38;5;241m.\u001B[39m_checkpoint_connector\u001B[38;5;241m.\u001B[39m_select_ckpt_path(\n\u001B[1;32m    570\u001B[0m     \u001B[38;5;28mself\u001B[39m\u001B[38;5;241m.\u001B[39mstate\u001B[38;5;241m.\u001B[39mfn,\n\u001B[1;32m    571\u001B[0m     ckpt_path,\n\u001B[1;32m    572\u001B[0m     model_provided\u001B[38;5;241m=\u001B[39m\u001B[38;5;28;01mTrue\u001B[39;00m,\n\u001B[1;32m    573\u001B[0m     model_connected\u001B[38;5;241m=\u001B[39m\u001B[38;5;28mself\u001B[39m\u001B[38;5;241m.\u001B[39mlightning_module \u001B[38;5;129;01mis\u001B[39;00m \u001B[38;5;129;01mnot\u001B[39;00m \u001B[38;5;28;01mNone\u001B[39;00m,\n\u001B[1;32m    574\u001B[0m )\n\u001B[0;32m--> 575\u001B[0m \u001B[38;5;28mself\u001B[39m\u001B[38;5;241m.\u001B[39m_run(model, ckpt_path\u001B[38;5;241m=\u001B[39mckpt_path)\n\u001B[1;32m    577\u001B[0m \u001B[38;5;28;01massert\u001B[39;00m \u001B[38;5;28mself\u001B[39m\u001B[38;5;241m.\u001B[39mstate\u001B[38;5;241m.\u001B[39mstopped\n\u001B[1;32m    578\u001B[0m \u001B[38;5;28mself\u001B[39m\u001B[38;5;241m.\u001B[39mtraining \u001B[38;5;241m=\u001B[39m \u001B[38;5;28;01mFalse\u001B[39;00m\n",
      "File \u001B[0;32m~/miniconda3/envs/cph-200b/lib/python3.11/site-packages/pytorch_lightning/trainer/trainer.py:982\u001B[0m, in \u001B[0;36mTrainer._run\u001B[0;34m(self, model, ckpt_path)\u001B[0m\n\u001B[1;32m    977\u001B[0m \u001B[38;5;28mself\u001B[39m\u001B[38;5;241m.\u001B[39m_signal_connector\u001B[38;5;241m.\u001B[39mregister_signal_handlers()\n\u001B[1;32m    979\u001B[0m \u001B[38;5;66;03m# ----------------------------\u001B[39;00m\n\u001B[1;32m    980\u001B[0m \u001B[38;5;66;03m# RUN THE TRAINER\u001B[39;00m\n\u001B[1;32m    981\u001B[0m \u001B[38;5;66;03m# ----------------------------\u001B[39;00m\n\u001B[0;32m--> 982\u001B[0m results \u001B[38;5;241m=\u001B[39m \u001B[38;5;28mself\u001B[39m\u001B[38;5;241m.\u001B[39m_run_stage()\n\u001B[1;32m    984\u001B[0m \u001B[38;5;66;03m# ----------------------------\u001B[39;00m\n\u001B[1;32m    985\u001B[0m \u001B[38;5;66;03m# POST-Training CLEAN UP\u001B[39;00m\n\u001B[1;32m    986\u001B[0m \u001B[38;5;66;03m# ----------------------------\u001B[39;00m\n\u001B[1;32m    987\u001B[0m log\u001B[38;5;241m.\u001B[39mdebug(\u001B[38;5;124mf\u001B[39m\u001B[38;5;124m\"\u001B[39m\u001B[38;5;132;01m{\u001B[39;00m\u001B[38;5;28mself\u001B[39m\u001B[38;5;241m.\u001B[39m\u001B[38;5;18m__class__\u001B[39m\u001B[38;5;241m.\u001B[39m\u001B[38;5;18m__name__\u001B[39m\u001B[38;5;132;01m}\u001B[39;00m\u001B[38;5;124m: trainer tearing down\u001B[39m\u001B[38;5;124m\"\u001B[39m)\n",
      "File \u001B[0;32m~/miniconda3/envs/cph-200b/lib/python3.11/site-packages/pytorch_lightning/trainer/trainer.py:1024\u001B[0m, in \u001B[0;36mTrainer._run_stage\u001B[0;34m(self)\u001B[0m\n\u001B[1;32m   1022\u001B[0m \u001B[38;5;28;01mif\u001B[39;00m \u001B[38;5;28mself\u001B[39m\u001B[38;5;241m.\u001B[39mtraining:\n\u001B[1;32m   1023\u001B[0m     \u001B[38;5;28;01mwith\u001B[39;00m isolate_rng():\n\u001B[0;32m-> 1024\u001B[0m         \u001B[38;5;28mself\u001B[39m\u001B[38;5;241m.\u001B[39m_run_sanity_check()\n\u001B[1;32m   1025\u001B[0m     \u001B[38;5;28;01mwith\u001B[39;00m torch\u001B[38;5;241m.\u001B[39mautograd\u001B[38;5;241m.\u001B[39mset_detect_anomaly(\u001B[38;5;28mself\u001B[39m\u001B[38;5;241m.\u001B[39m_detect_anomaly):\n\u001B[1;32m   1026\u001B[0m         \u001B[38;5;28mself\u001B[39m\u001B[38;5;241m.\u001B[39mfit_loop\u001B[38;5;241m.\u001B[39mrun()\n",
      "File \u001B[0;32m~/miniconda3/envs/cph-200b/lib/python3.11/site-packages/pytorch_lightning/trainer/trainer.py:1053\u001B[0m, in \u001B[0;36mTrainer._run_sanity_check\u001B[0;34m(self)\u001B[0m\n\u001B[1;32m   1050\u001B[0m call\u001B[38;5;241m.\u001B[39m_call_callback_hooks(\u001B[38;5;28mself\u001B[39m, \u001B[38;5;124m\"\u001B[39m\u001B[38;5;124mon_sanity_check_start\u001B[39m\u001B[38;5;124m\"\u001B[39m)\n\u001B[1;32m   1052\u001B[0m \u001B[38;5;66;03m# run eval step\u001B[39;00m\n\u001B[0;32m-> 1053\u001B[0m val_loop\u001B[38;5;241m.\u001B[39mrun()\n\u001B[1;32m   1055\u001B[0m call\u001B[38;5;241m.\u001B[39m_call_callback_hooks(\u001B[38;5;28mself\u001B[39m, \u001B[38;5;124m\"\u001B[39m\u001B[38;5;124mon_sanity_check_end\u001B[39m\u001B[38;5;124m\"\u001B[39m)\n\u001B[1;32m   1057\u001B[0m \u001B[38;5;66;03m# reset logger connector\u001B[39;00m\n",
      "File \u001B[0;32m~/miniconda3/envs/cph-200b/lib/python3.11/site-packages/pytorch_lightning/loops/utilities.py:179\u001B[0m, in \u001B[0;36m_no_grad_context.<locals>._decorator\u001B[0;34m(self, *args, **kwargs)\u001B[0m\n\u001B[1;32m    177\u001B[0m     context_manager \u001B[38;5;241m=\u001B[39m torch\u001B[38;5;241m.\u001B[39mno_grad\n\u001B[1;32m    178\u001B[0m \u001B[38;5;28;01mwith\u001B[39;00m context_manager():\n\u001B[0;32m--> 179\u001B[0m     \u001B[38;5;28;01mreturn\u001B[39;00m loop_run(\u001B[38;5;28mself\u001B[39m, \u001B[38;5;241m*\u001B[39margs, \u001B[38;5;241m*\u001B[39m\u001B[38;5;241m*\u001B[39mkwargs)\n",
      "File \u001B[0;32m~/miniconda3/envs/cph-200b/lib/python3.11/site-packages/pytorch_lightning/loops/evaluation_loop.py:123\u001B[0m, in \u001B[0;36m_EvaluationLoop.run\u001B[0;34m(self)\u001B[0m\n\u001B[1;32m    121\u001B[0m     \u001B[38;5;28;01mreturn\u001B[39;00m []\n\u001B[1;32m    122\u001B[0m \u001B[38;5;28mself\u001B[39m\u001B[38;5;241m.\u001B[39mreset()\n\u001B[0;32m--> 123\u001B[0m \u001B[38;5;28mself\u001B[39m\u001B[38;5;241m.\u001B[39mon_run_start()\n\u001B[1;32m    124\u001B[0m data_fetcher \u001B[38;5;241m=\u001B[39m \u001B[38;5;28mself\u001B[39m\u001B[38;5;241m.\u001B[39m_data_fetcher\n\u001B[1;32m    125\u001B[0m \u001B[38;5;28;01massert\u001B[39;00m data_fetcher \u001B[38;5;129;01mis\u001B[39;00m \u001B[38;5;129;01mnot\u001B[39;00m \u001B[38;5;28;01mNone\u001B[39;00m\n",
      "File \u001B[0;32m~/miniconda3/envs/cph-200b/lib/python3.11/site-packages/pytorch_lightning/loops/evaluation_loop.py:282\u001B[0m, in \u001B[0;36m_EvaluationLoop.on_run_start\u001B[0;34m(self)\u001B[0m\n\u001B[1;32m    280\u001B[0m \u001B[38;5;28mself\u001B[39m\u001B[38;5;241m.\u001B[39m_on_evaluation_model_eval()\n\u001B[1;32m    281\u001B[0m \u001B[38;5;28mself\u001B[39m\u001B[38;5;241m.\u001B[39m_on_evaluation_start()\n\u001B[0;32m--> 282\u001B[0m \u001B[38;5;28mself\u001B[39m\u001B[38;5;241m.\u001B[39m_on_evaluation_epoch_start()\n",
      "File \u001B[0;32m~/miniconda3/envs/cph-200b/lib/python3.11/site-packages/pytorch_lightning/loops/evaluation_loop.py:363\u001B[0m, in \u001B[0;36m_EvaluationLoop._on_evaluation_epoch_start\u001B[0;34m(self, *args, **kwargs)\u001B[0m\n\u001B[1;32m    361\u001B[0m hook_name \u001B[38;5;241m=\u001B[39m \u001B[38;5;124m\"\u001B[39m\u001B[38;5;124mon_test_epoch_start\u001B[39m\u001B[38;5;124m\"\u001B[39m \u001B[38;5;28;01mif\u001B[39;00m trainer\u001B[38;5;241m.\u001B[39mtesting \u001B[38;5;28;01melse\u001B[39;00m \u001B[38;5;124m\"\u001B[39m\u001B[38;5;124mon_validation_epoch_start\u001B[39m\u001B[38;5;124m\"\u001B[39m\n\u001B[1;32m    362\u001B[0m call\u001B[38;5;241m.\u001B[39m_call_callback_hooks(trainer, hook_name, \u001B[38;5;241m*\u001B[39margs, \u001B[38;5;241m*\u001B[39m\u001B[38;5;241m*\u001B[39mkwargs)\n\u001B[0;32m--> 363\u001B[0m call\u001B[38;5;241m.\u001B[39m_call_lightning_module_hook(trainer, hook_name, \u001B[38;5;241m*\u001B[39margs, \u001B[38;5;241m*\u001B[39m\u001B[38;5;241m*\u001B[39mkwargs)\n",
      "File \u001B[0;32m~/miniconda3/envs/cph-200b/lib/python3.11/site-packages/pytorch_lightning/trainer/call.py:171\u001B[0m, in \u001B[0;36m_call_lightning_module_hook\u001B[0;34m(trainer, hook_name, pl_module, *args, **kwargs)\u001B[0m\n\u001B[1;32m    168\u001B[0m pl_module\u001B[38;5;241m.\u001B[39m_current_fx_name \u001B[38;5;241m=\u001B[39m hook_name\n\u001B[1;32m    170\u001B[0m \u001B[38;5;28;01mwith\u001B[39;00m trainer\u001B[38;5;241m.\u001B[39mprofiler\u001B[38;5;241m.\u001B[39mprofile(\u001B[38;5;124mf\u001B[39m\u001B[38;5;124m\"\u001B[39m\u001B[38;5;124m[LightningModule]\u001B[39m\u001B[38;5;132;01m{\u001B[39;00mpl_module\u001B[38;5;241m.\u001B[39m\u001B[38;5;18m__class__\u001B[39m\u001B[38;5;241m.\u001B[39m\u001B[38;5;18m__name__\u001B[39m\u001B[38;5;132;01m}\u001B[39;00m\u001B[38;5;124m.\u001B[39m\u001B[38;5;132;01m{\u001B[39;00mhook_name\u001B[38;5;132;01m}\u001B[39;00m\u001B[38;5;124m\"\u001B[39m):\n\u001B[0;32m--> 171\u001B[0m     output \u001B[38;5;241m=\u001B[39m fn(\u001B[38;5;241m*\u001B[39margs, \u001B[38;5;241m*\u001B[39m\u001B[38;5;241m*\u001B[39mkwargs)\n\u001B[1;32m    173\u001B[0m \u001B[38;5;66;03m# restore current_fx when nested context\u001B[39;00m\n\u001B[1;32m    174\u001B[0m pl_module\u001B[38;5;241m.\u001B[39m_current_fx_name \u001B[38;5;241m=\u001B[39m prev_fx_name\n",
      "File \u001B[0;32m~/PycharmProjects/cph-200b/src/lightning.py:298\u001B[0m, in \u001B[0;36mCoxRiskLightning.on_validation_epoch_start\u001B[0;34m(self)\u001B[0m\n\u001B[1;32m    297\u001B[0m \u001B[38;5;28;01mdef\u001B[39;00m \u001B[38;5;21mon_validation_epoch_start\u001B[39m(\u001B[38;5;28mself\u001B[39m):\n\u001B[0;32m--> 298\u001B[0m     \u001B[38;5;28mself\u001B[39m\u001B[38;5;241m.\u001B[39mon_epoch_start(\u001B[38;5;124m'\u001B[39m\u001B[38;5;124mval\u001B[39m\u001B[38;5;124m'\u001B[39m)\n",
      "File \u001B[0;32m~/miniconda3/envs/cph-200b/lib/python3.11/site-packages/torch/nn/modules/module.py:1931\u001B[0m, in \u001B[0;36mModule.__getattr__\u001B[0;34m(self, name)\u001B[0m\n\u001B[1;32m   1929\u001B[0m     \u001B[38;5;28;01mif\u001B[39;00m name \u001B[38;5;129;01min\u001B[39;00m modules:\n\u001B[1;32m   1930\u001B[0m         \u001B[38;5;28;01mreturn\u001B[39;00m modules[name]\n\u001B[0;32m-> 1931\u001B[0m \u001B[38;5;28;01mraise\u001B[39;00m \u001B[38;5;167;01mAttributeError\u001B[39;00m(\n\u001B[1;32m   1932\u001B[0m     \u001B[38;5;124mf\u001B[39m\u001B[38;5;124m\"\u001B[39m\u001B[38;5;124m'\u001B[39m\u001B[38;5;132;01m{\u001B[39;00m\u001B[38;5;28mtype\u001B[39m(\u001B[38;5;28mself\u001B[39m)\u001B[38;5;241m.\u001B[39m\u001B[38;5;18m__name__\u001B[39m\u001B[38;5;132;01m}\u001B[39;00m\u001B[38;5;124m'\u001B[39m\u001B[38;5;124m object has no attribute \u001B[39m\u001B[38;5;124m'\u001B[39m\u001B[38;5;132;01m{\u001B[39;00mname\u001B[38;5;132;01m}\u001B[39;00m\u001B[38;5;124m'\u001B[39m\u001B[38;5;124m\"\u001B[39m\n\u001B[1;32m   1933\u001B[0m )\n",
      "\u001B[0;31mAttributeError\u001B[0m: 'CoxRiskLightning' object has no attribute 'on_epoch_start'"
     ]
    }
   ],
   "execution_count": 16
  },
  {
   "metadata": {},
   "cell_type": "code",
   "source": [
    "model_coefficients = model.model.risk.weight.squeeze().detach().numpy()\n",
    "# print(pd.DataFrame(model_coefficients, index=feature_config[dataset_name], columns=['Model coefficients']))\n",
    "\n",
    "feature_of_interest = 'age'\n",
    "idx = model.feature_names.index(feature_of_interest)\n",
    "effect_of_increment = np.exp(model_coefficients[idx])\n",
    "print(f'\\nHazard Ratio of 1-year increment of {feature_of_interest} on risk:', effect_of_increment)"
   ],
   "id": "bda30a89a2b03722",
   "outputs": [],
   "execution_count": null
  },
  {
   "metadata": {},
   "cell_type": "markdown",
   "source": "### Task 1.2.2",
   "id": "5ebf42d758c600a7"
  },
  {
   "metadata": {},
   "cell_type": "code",
   "source": [
    "# run train set through model\n",
    "predict_trainer = get_trainer(model_name, checkpoint_callback)\n",
    "_ = predict_trainer.predict(model, datamodule)\n",
    "metrics = model.metric_dict\n",
    "print('C-index on train set:', metrics['predict']['predict_cindex'])"
   ],
   "id": "c5745795cf5936cd",
   "outputs": [],
   "execution_count": null
  },
  {
   "metadata": {},
   "cell_type": "markdown",
   "source": "### Task 1.2.3",
   "id": "68490f1247a3e468"
  },
  {
   "metadata": {
    "ExecuteTime": {
     "end_time": "2025-01-17T23:51:54.975447Z",
     "start_time": "2025-01-17T23:51:54.889331Z"
    }
   },
   "cell_type": "code",
   "source": [
    "from src.dataset import merge_batches\n",
    "from src.data_dict import feature_config\n",
    "from src.lightning import CoxRiskLightning, get_trainer, get_checkpoint_callback, get_log_dir_path\n",
    "from src.dataset import SurvivalDataModule"
   ],
   "id": "77d5b77aa9232ec5",
   "outputs": [
    {
     "name": "stderr",
     "output_type": "stream",
     "text": [
      "Seed set to 40\n"
     ]
    }
   ],
   "execution_count": 19
  },
  {
   "metadata": {
    "ExecuteTime": {
     "end_time": "2025-01-17T23:51:56.259359Z",
     "start_time": "2025-01-17T23:51:55.222648Z"
    }
   },
   "cell_type": "code",
   "source": [
    "time_col = 'time'\n",
    "event_col = 'DEATH_EVENT'\n",
    "dataset_name = 'faisalabad'\n",
    "\n",
    "# set up datamodule\n",
    "datamodule = SurvivalDataModule(\n",
    "    dataset_name=dataset_name,\n",
    "    input_features=feature_config[dataset_name],\n",
    "    time_col=time_col,\n",
    "    event_col=event_col\n",
    ")\n",
    "\n",
    "# set up model \n",
    "model = CoxRiskLightning(\n",
    "    dataset_name=dataset_name,\n",
    "    clinical_features=feature_config[dataset_name],\n",
    "    interaction_features=[('age', 'sex')],\n",
    "    time_col=time_col,\n",
    "    event_col=event_col\n",
    ")\n",
    "\n",
    "# get log dir\n",
    "model_name = 'cox_age_sex'\n",
    "log_dir_path = get_log_dir_path(model_name)\n",
    "\n",
    "# get checkpoint callback\n",
    "checkpoint_callback = get_checkpoint_callback(model_name, log_dir_path)\n",
    "\n",
    "# get trainer\n",
    "trainer = get_trainer(model_name, checkpoint_callback)\n",
    "\n",
    "print(\"Training model\")\n",
    "trainer.fit(model, datamodule)"
   ],
   "id": "3ff1506d7af866bd",
   "outputs": [
    {
     "name": "stderr",
     "output_type": "stream",
     "text": [
      "Using bfloat16 Automatic Mixed Precision (AMP)\n",
      "GPU available: False, used: False\n",
      "TPU available: False, using: 0 TPU cores\n",
      "HPU available: False, using: 0 HPUs\n"
     ]
    },
    {
     "name": "stdout",
     "output_type": "stream",
     "text": [
      "Training model\n"
     ]
    },
    {
     "name": "stderr",
     "output_type": "stream",
     "text": [
      "Processing faisalabad Dataset: 299it [00:00, 27959.53it/s]\n",
      "/home/hentipapai/miniconda3/envs/cph-200b/lib/python3.11/site-packages/pytorch_lightning/callbacks/model_checkpoint.py:654: Checkpoint directory /home/hentipapai/PycharmProjects/cph-200b/logs/cox_age_sex/version_10 exists and is not empty.\n",
      "\n",
      "  | Name  | Type         | Params | Mode \n",
      "-----------------------------------------------\n",
      "0 | model | CoxRiskTorch | 13     | train\n",
      "-----------------------------------------------\n",
      "13        Trainable params\n",
      "0         Non-trainable params\n",
      "13        Total params\n",
      "0.000     Total estimated model params size (MB)\n",
      "2         Modules in train mode\n",
      "0         Modules in eval mode\n"
     ]
    },
    {
     "data": {
      "text/plain": [
       "Sanity Checking: |          | 0/? [00:00<?, ?it/s]"
      ],
      "application/vnd.jupyter.widget-view+json": {
       "version_major": 2,
       "version_minor": 0,
       "model_id": "af55ebd338ed4e96a6d1e4398311e0e0"
      }
     },
     "metadata": {},
     "output_type": "display_data"
    },
    {
     "ename": "AttributeError",
     "evalue": "'CoxRiskLightning' object has no attribute 'on_epoch_start'",
     "output_type": "error",
     "traceback": [
      "\u001B[0;31m---------------------------------------------------------------------------\u001B[0m",
      "\u001B[0;31mAttributeError\u001B[0m                            Traceback (most recent call last)",
      "Cell \u001B[0;32mIn[20], line 33\u001B[0m\n\u001B[1;32m     30\u001B[0m trainer \u001B[38;5;241m=\u001B[39m get_trainer(model_name, checkpoint_callback)\n\u001B[1;32m     32\u001B[0m \u001B[38;5;28mprint\u001B[39m(\u001B[38;5;124m\"\u001B[39m\u001B[38;5;124mTraining model\u001B[39m\u001B[38;5;124m\"\u001B[39m)\n\u001B[0;32m---> 33\u001B[0m trainer\u001B[38;5;241m.\u001B[39mfit(model, datamodule)\n",
      "File \u001B[0;32m~/miniconda3/envs/cph-200b/lib/python3.11/site-packages/pytorch_lightning/trainer/trainer.py:539\u001B[0m, in \u001B[0;36mTrainer.fit\u001B[0;34m(self, model, train_dataloaders, val_dataloaders, datamodule, ckpt_path)\u001B[0m\n\u001B[1;32m    537\u001B[0m \u001B[38;5;28mself\u001B[39m\u001B[38;5;241m.\u001B[39mstate\u001B[38;5;241m.\u001B[39mstatus \u001B[38;5;241m=\u001B[39m TrainerStatus\u001B[38;5;241m.\u001B[39mRUNNING\n\u001B[1;32m    538\u001B[0m \u001B[38;5;28mself\u001B[39m\u001B[38;5;241m.\u001B[39mtraining \u001B[38;5;241m=\u001B[39m \u001B[38;5;28;01mTrue\u001B[39;00m\n\u001B[0;32m--> 539\u001B[0m call\u001B[38;5;241m.\u001B[39m_call_and_handle_interrupt(\n\u001B[1;32m    540\u001B[0m     \u001B[38;5;28mself\u001B[39m, \u001B[38;5;28mself\u001B[39m\u001B[38;5;241m.\u001B[39m_fit_impl, model, train_dataloaders, val_dataloaders, datamodule, ckpt_path\n\u001B[1;32m    541\u001B[0m )\n",
      "File \u001B[0;32m~/miniconda3/envs/cph-200b/lib/python3.11/site-packages/pytorch_lightning/trainer/call.py:47\u001B[0m, in \u001B[0;36m_call_and_handle_interrupt\u001B[0;34m(trainer, trainer_fn, *args, **kwargs)\u001B[0m\n\u001B[1;32m     45\u001B[0m     \u001B[38;5;28;01mif\u001B[39;00m trainer\u001B[38;5;241m.\u001B[39mstrategy\u001B[38;5;241m.\u001B[39mlauncher \u001B[38;5;129;01mis\u001B[39;00m \u001B[38;5;129;01mnot\u001B[39;00m \u001B[38;5;28;01mNone\u001B[39;00m:\n\u001B[1;32m     46\u001B[0m         \u001B[38;5;28;01mreturn\u001B[39;00m trainer\u001B[38;5;241m.\u001B[39mstrategy\u001B[38;5;241m.\u001B[39mlauncher\u001B[38;5;241m.\u001B[39mlaunch(trainer_fn, \u001B[38;5;241m*\u001B[39margs, trainer\u001B[38;5;241m=\u001B[39mtrainer, \u001B[38;5;241m*\u001B[39m\u001B[38;5;241m*\u001B[39mkwargs)\n\u001B[0;32m---> 47\u001B[0m     \u001B[38;5;28;01mreturn\u001B[39;00m trainer_fn(\u001B[38;5;241m*\u001B[39margs, \u001B[38;5;241m*\u001B[39m\u001B[38;5;241m*\u001B[39mkwargs)\n\u001B[1;32m     49\u001B[0m \u001B[38;5;28;01mexcept\u001B[39;00m _TunerExitException:\n\u001B[1;32m     50\u001B[0m     _call_teardown_hook(trainer)\n",
      "File \u001B[0;32m~/miniconda3/envs/cph-200b/lib/python3.11/site-packages/pytorch_lightning/trainer/trainer.py:575\u001B[0m, in \u001B[0;36mTrainer._fit_impl\u001B[0;34m(self, model, train_dataloaders, val_dataloaders, datamodule, ckpt_path)\u001B[0m\n\u001B[1;32m    568\u001B[0m \u001B[38;5;28;01massert\u001B[39;00m \u001B[38;5;28mself\u001B[39m\u001B[38;5;241m.\u001B[39mstate\u001B[38;5;241m.\u001B[39mfn \u001B[38;5;129;01mis\u001B[39;00m \u001B[38;5;129;01mnot\u001B[39;00m \u001B[38;5;28;01mNone\u001B[39;00m\n\u001B[1;32m    569\u001B[0m ckpt_path \u001B[38;5;241m=\u001B[39m \u001B[38;5;28mself\u001B[39m\u001B[38;5;241m.\u001B[39m_checkpoint_connector\u001B[38;5;241m.\u001B[39m_select_ckpt_path(\n\u001B[1;32m    570\u001B[0m     \u001B[38;5;28mself\u001B[39m\u001B[38;5;241m.\u001B[39mstate\u001B[38;5;241m.\u001B[39mfn,\n\u001B[1;32m    571\u001B[0m     ckpt_path,\n\u001B[1;32m    572\u001B[0m     model_provided\u001B[38;5;241m=\u001B[39m\u001B[38;5;28;01mTrue\u001B[39;00m,\n\u001B[1;32m    573\u001B[0m     model_connected\u001B[38;5;241m=\u001B[39m\u001B[38;5;28mself\u001B[39m\u001B[38;5;241m.\u001B[39mlightning_module \u001B[38;5;129;01mis\u001B[39;00m \u001B[38;5;129;01mnot\u001B[39;00m \u001B[38;5;28;01mNone\u001B[39;00m,\n\u001B[1;32m    574\u001B[0m )\n\u001B[0;32m--> 575\u001B[0m \u001B[38;5;28mself\u001B[39m\u001B[38;5;241m.\u001B[39m_run(model, ckpt_path\u001B[38;5;241m=\u001B[39mckpt_path)\n\u001B[1;32m    577\u001B[0m \u001B[38;5;28;01massert\u001B[39;00m \u001B[38;5;28mself\u001B[39m\u001B[38;5;241m.\u001B[39mstate\u001B[38;5;241m.\u001B[39mstopped\n\u001B[1;32m    578\u001B[0m \u001B[38;5;28mself\u001B[39m\u001B[38;5;241m.\u001B[39mtraining \u001B[38;5;241m=\u001B[39m \u001B[38;5;28;01mFalse\u001B[39;00m\n",
      "File \u001B[0;32m~/miniconda3/envs/cph-200b/lib/python3.11/site-packages/pytorch_lightning/trainer/trainer.py:982\u001B[0m, in \u001B[0;36mTrainer._run\u001B[0;34m(self, model, ckpt_path)\u001B[0m\n\u001B[1;32m    977\u001B[0m \u001B[38;5;28mself\u001B[39m\u001B[38;5;241m.\u001B[39m_signal_connector\u001B[38;5;241m.\u001B[39mregister_signal_handlers()\n\u001B[1;32m    979\u001B[0m \u001B[38;5;66;03m# ----------------------------\u001B[39;00m\n\u001B[1;32m    980\u001B[0m \u001B[38;5;66;03m# RUN THE TRAINER\u001B[39;00m\n\u001B[1;32m    981\u001B[0m \u001B[38;5;66;03m# ----------------------------\u001B[39;00m\n\u001B[0;32m--> 982\u001B[0m results \u001B[38;5;241m=\u001B[39m \u001B[38;5;28mself\u001B[39m\u001B[38;5;241m.\u001B[39m_run_stage()\n\u001B[1;32m    984\u001B[0m \u001B[38;5;66;03m# ----------------------------\u001B[39;00m\n\u001B[1;32m    985\u001B[0m \u001B[38;5;66;03m# POST-Training CLEAN UP\u001B[39;00m\n\u001B[1;32m    986\u001B[0m \u001B[38;5;66;03m# ----------------------------\u001B[39;00m\n\u001B[1;32m    987\u001B[0m log\u001B[38;5;241m.\u001B[39mdebug(\u001B[38;5;124mf\u001B[39m\u001B[38;5;124m\"\u001B[39m\u001B[38;5;132;01m{\u001B[39;00m\u001B[38;5;28mself\u001B[39m\u001B[38;5;241m.\u001B[39m\u001B[38;5;18m__class__\u001B[39m\u001B[38;5;241m.\u001B[39m\u001B[38;5;18m__name__\u001B[39m\u001B[38;5;132;01m}\u001B[39;00m\u001B[38;5;124m: trainer tearing down\u001B[39m\u001B[38;5;124m\"\u001B[39m)\n",
      "File \u001B[0;32m~/miniconda3/envs/cph-200b/lib/python3.11/site-packages/pytorch_lightning/trainer/trainer.py:1024\u001B[0m, in \u001B[0;36mTrainer._run_stage\u001B[0;34m(self)\u001B[0m\n\u001B[1;32m   1022\u001B[0m \u001B[38;5;28;01mif\u001B[39;00m \u001B[38;5;28mself\u001B[39m\u001B[38;5;241m.\u001B[39mtraining:\n\u001B[1;32m   1023\u001B[0m     \u001B[38;5;28;01mwith\u001B[39;00m isolate_rng():\n\u001B[0;32m-> 1024\u001B[0m         \u001B[38;5;28mself\u001B[39m\u001B[38;5;241m.\u001B[39m_run_sanity_check()\n\u001B[1;32m   1025\u001B[0m     \u001B[38;5;28;01mwith\u001B[39;00m torch\u001B[38;5;241m.\u001B[39mautograd\u001B[38;5;241m.\u001B[39mset_detect_anomaly(\u001B[38;5;28mself\u001B[39m\u001B[38;5;241m.\u001B[39m_detect_anomaly):\n\u001B[1;32m   1026\u001B[0m         \u001B[38;5;28mself\u001B[39m\u001B[38;5;241m.\u001B[39mfit_loop\u001B[38;5;241m.\u001B[39mrun()\n",
      "File \u001B[0;32m~/miniconda3/envs/cph-200b/lib/python3.11/site-packages/pytorch_lightning/trainer/trainer.py:1053\u001B[0m, in \u001B[0;36mTrainer._run_sanity_check\u001B[0;34m(self)\u001B[0m\n\u001B[1;32m   1050\u001B[0m call\u001B[38;5;241m.\u001B[39m_call_callback_hooks(\u001B[38;5;28mself\u001B[39m, \u001B[38;5;124m\"\u001B[39m\u001B[38;5;124mon_sanity_check_start\u001B[39m\u001B[38;5;124m\"\u001B[39m)\n\u001B[1;32m   1052\u001B[0m \u001B[38;5;66;03m# run eval step\u001B[39;00m\n\u001B[0;32m-> 1053\u001B[0m val_loop\u001B[38;5;241m.\u001B[39mrun()\n\u001B[1;32m   1055\u001B[0m call\u001B[38;5;241m.\u001B[39m_call_callback_hooks(\u001B[38;5;28mself\u001B[39m, \u001B[38;5;124m\"\u001B[39m\u001B[38;5;124mon_sanity_check_end\u001B[39m\u001B[38;5;124m\"\u001B[39m)\n\u001B[1;32m   1057\u001B[0m \u001B[38;5;66;03m# reset logger connector\u001B[39;00m\n",
      "File \u001B[0;32m~/miniconda3/envs/cph-200b/lib/python3.11/site-packages/pytorch_lightning/loops/utilities.py:179\u001B[0m, in \u001B[0;36m_no_grad_context.<locals>._decorator\u001B[0;34m(self, *args, **kwargs)\u001B[0m\n\u001B[1;32m    177\u001B[0m     context_manager \u001B[38;5;241m=\u001B[39m torch\u001B[38;5;241m.\u001B[39mno_grad\n\u001B[1;32m    178\u001B[0m \u001B[38;5;28;01mwith\u001B[39;00m context_manager():\n\u001B[0;32m--> 179\u001B[0m     \u001B[38;5;28;01mreturn\u001B[39;00m loop_run(\u001B[38;5;28mself\u001B[39m, \u001B[38;5;241m*\u001B[39margs, \u001B[38;5;241m*\u001B[39m\u001B[38;5;241m*\u001B[39mkwargs)\n",
      "File \u001B[0;32m~/miniconda3/envs/cph-200b/lib/python3.11/site-packages/pytorch_lightning/loops/evaluation_loop.py:123\u001B[0m, in \u001B[0;36m_EvaluationLoop.run\u001B[0;34m(self)\u001B[0m\n\u001B[1;32m    121\u001B[0m     \u001B[38;5;28;01mreturn\u001B[39;00m []\n\u001B[1;32m    122\u001B[0m \u001B[38;5;28mself\u001B[39m\u001B[38;5;241m.\u001B[39mreset()\n\u001B[0;32m--> 123\u001B[0m \u001B[38;5;28mself\u001B[39m\u001B[38;5;241m.\u001B[39mon_run_start()\n\u001B[1;32m    124\u001B[0m data_fetcher \u001B[38;5;241m=\u001B[39m \u001B[38;5;28mself\u001B[39m\u001B[38;5;241m.\u001B[39m_data_fetcher\n\u001B[1;32m    125\u001B[0m \u001B[38;5;28;01massert\u001B[39;00m data_fetcher \u001B[38;5;129;01mis\u001B[39;00m \u001B[38;5;129;01mnot\u001B[39;00m \u001B[38;5;28;01mNone\u001B[39;00m\n",
      "File \u001B[0;32m~/miniconda3/envs/cph-200b/lib/python3.11/site-packages/pytorch_lightning/loops/evaluation_loop.py:282\u001B[0m, in \u001B[0;36m_EvaluationLoop.on_run_start\u001B[0;34m(self)\u001B[0m\n\u001B[1;32m    280\u001B[0m \u001B[38;5;28mself\u001B[39m\u001B[38;5;241m.\u001B[39m_on_evaluation_model_eval()\n\u001B[1;32m    281\u001B[0m \u001B[38;5;28mself\u001B[39m\u001B[38;5;241m.\u001B[39m_on_evaluation_start()\n\u001B[0;32m--> 282\u001B[0m \u001B[38;5;28mself\u001B[39m\u001B[38;5;241m.\u001B[39m_on_evaluation_epoch_start()\n",
      "File \u001B[0;32m~/miniconda3/envs/cph-200b/lib/python3.11/site-packages/pytorch_lightning/loops/evaluation_loop.py:363\u001B[0m, in \u001B[0;36m_EvaluationLoop._on_evaluation_epoch_start\u001B[0;34m(self, *args, **kwargs)\u001B[0m\n\u001B[1;32m    361\u001B[0m hook_name \u001B[38;5;241m=\u001B[39m \u001B[38;5;124m\"\u001B[39m\u001B[38;5;124mon_test_epoch_start\u001B[39m\u001B[38;5;124m\"\u001B[39m \u001B[38;5;28;01mif\u001B[39;00m trainer\u001B[38;5;241m.\u001B[39mtesting \u001B[38;5;28;01melse\u001B[39;00m \u001B[38;5;124m\"\u001B[39m\u001B[38;5;124mon_validation_epoch_start\u001B[39m\u001B[38;5;124m\"\u001B[39m\n\u001B[1;32m    362\u001B[0m call\u001B[38;5;241m.\u001B[39m_call_callback_hooks(trainer, hook_name, \u001B[38;5;241m*\u001B[39margs, \u001B[38;5;241m*\u001B[39m\u001B[38;5;241m*\u001B[39mkwargs)\n\u001B[0;32m--> 363\u001B[0m call\u001B[38;5;241m.\u001B[39m_call_lightning_module_hook(trainer, hook_name, \u001B[38;5;241m*\u001B[39margs, \u001B[38;5;241m*\u001B[39m\u001B[38;5;241m*\u001B[39mkwargs)\n",
      "File \u001B[0;32m~/miniconda3/envs/cph-200b/lib/python3.11/site-packages/pytorch_lightning/trainer/call.py:171\u001B[0m, in \u001B[0;36m_call_lightning_module_hook\u001B[0;34m(trainer, hook_name, pl_module, *args, **kwargs)\u001B[0m\n\u001B[1;32m    168\u001B[0m pl_module\u001B[38;5;241m.\u001B[39m_current_fx_name \u001B[38;5;241m=\u001B[39m hook_name\n\u001B[1;32m    170\u001B[0m \u001B[38;5;28;01mwith\u001B[39;00m trainer\u001B[38;5;241m.\u001B[39mprofiler\u001B[38;5;241m.\u001B[39mprofile(\u001B[38;5;124mf\u001B[39m\u001B[38;5;124m\"\u001B[39m\u001B[38;5;124m[LightningModule]\u001B[39m\u001B[38;5;132;01m{\u001B[39;00mpl_module\u001B[38;5;241m.\u001B[39m\u001B[38;5;18m__class__\u001B[39m\u001B[38;5;241m.\u001B[39m\u001B[38;5;18m__name__\u001B[39m\u001B[38;5;132;01m}\u001B[39;00m\u001B[38;5;124m.\u001B[39m\u001B[38;5;132;01m{\u001B[39;00mhook_name\u001B[38;5;132;01m}\u001B[39;00m\u001B[38;5;124m\"\u001B[39m):\n\u001B[0;32m--> 171\u001B[0m     output \u001B[38;5;241m=\u001B[39m fn(\u001B[38;5;241m*\u001B[39margs, \u001B[38;5;241m*\u001B[39m\u001B[38;5;241m*\u001B[39mkwargs)\n\u001B[1;32m    173\u001B[0m \u001B[38;5;66;03m# restore current_fx when nested context\u001B[39;00m\n\u001B[1;32m    174\u001B[0m pl_module\u001B[38;5;241m.\u001B[39m_current_fx_name \u001B[38;5;241m=\u001B[39m prev_fx_name\n",
      "File \u001B[0;32m~/PycharmProjects/cph-200b/src/lightning.py:298\u001B[0m, in \u001B[0;36mCoxRiskLightning.on_validation_epoch_start\u001B[0;34m(self)\u001B[0m\n\u001B[1;32m    297\u001B[0m \u001B[38;5;28;01mdef\u001B[39;00m \u001B[38;5;21mon_validation_epoch_start\u001B[39m(\u001B[38;5;28mself\u001B[39m):\n\u001B[0;32m--> 298\u001B[0m     \u001B[38;5;28mself\u001B[39m\u001B[38;5;241m.\u001B[39mon_epoch_start(\u001B[38;5;124m'\u001B[39m\u001B[38;5;124mval\u001B[39m\u001B[38;5;124m'\u001B[39m)\n",
      "File \u001B[0;32m~/miniconda3/envs/cph-200b/lib/python3.11/site-packages/torch/nn/modules/module.py:1931\u001B[0m, in \u001B[0;36mModule.__getattr__\u001B[0;34m(self, name)\u001B[0m\n\u001B[1;32m   1929\u001B[0m     \u001B[38;5;28;01mif\u001B[39;00m name \u001B[38;5;129;01min\u001B[39;00m modules:\n\u001B[1;32m   1930\u001B[0m         \u001B[38;5;28;01mreturn\u001B[39;00m modules[name]\n\u001B[0;32m-> 1931\u001B[0m \u001B[38;5;28;01mraise\u001B[39;00m \u001B[38;5;167;01mAttributeError\u001B[39;00m(\n\u001B[1;32m   1932\u001B[0m     \u001B[38;5;124mf\u001B[39m\u001B[38;5;124m\"\u001B[39m\u001B[38;5;124m'\u001B[39m\u001B[38;5;132;01m{\u001B[39;00m\u001B[38;5;28mtype\u001B[39m(\u001B[38;5;28mself\u001B[39m)\u001B[38;5;241m.\u001B[39m\u001B[38;5;18m__name__\u001B[39m\u001B[38;5;132;01m}\u001B[39;00m\u001B[38;5;124m'\u001B[39m\u001B[38;5;124m object has no attribute \u001B[39m\u001B[38;5;124m'\u001B[39m\u001B[38;5;132;01m{\u001B[39;00mname\u001B[38;5;132;01m}\u001B[39;00m\u001B[38;5;124m'\u001B[39m\u001B[38;5;124m\"\u001B[39m\n\u001B[1;32m   1933\u001B[0m )\n",
      "\u001B[0;31mAttributeError\u001B[0m: 'CoxRiskLightning' object has no attribute 'on_epoch_start'"
     ]
    }
   ],
   "execution_count": 20
  },
  {
   "metadata": {
    "ExecuteTime": {
     "end_time": "2025-01-17T23:52:27.519003Z",
     "start_time": "2025-01-17T23:52:27.212391Z"
    }
   },
   "cell_type": "code",
   "source": [
    "X = merge_batches(datamodule.train_dataloader())\n",
    "X, _, _ = model.get_xtc(X)"
   ],
   "id": "f266ed6b2cc93bcb",
   "outputs": [],
   "execution_count": 22
  },
  {
   "metadata": {
    "ExecuteTime": {
     "end_time": "2025-01-17T23:53:33.332990Z",
     "start_time": "2025-01-17T23:52:32.543019Z"
    }
   },
   "cell_type": "code",
   "source": [
    "# get model coefficient pvalues\n",
    "model.get_coefficient_pvals(X)"
   ],
   "id": "54a85b3ecaa3cac6",
   "outputs": [
    {
     "data": {
      "text/plain": [
       "{'pval_age': 0.6968496919721492,\n",
       " 'pval_anaemia': 0.6928888486674383,\n",
       " 'pval_creatinine_phosphokinase': 0.9848046878047869,\n",
       " 'pval_diabetes': 0.4730997356477584,\n",
       " 'pval_ejection_fraction': 0.6987425108222518,\n",
       " 'pval_high_blood_pressure': 0.7089876199283931,\n",
       " 'pval_platelets': 0.6293207066282165,\n",
       " 'pval_serum_creatinine': 0.7042044902824582,\n",
       " 'pval_serum_sodium': 0.7161065466305034,\n",
       " 'pval_sex': 0.5219455177377539,\n",
       " 'pval_smoking': 0.49266602037857066,\n",
       " \"pval_('age', 'sex')\": 0.8809173048979793}"
      ]
     },
     "execution_count": 27,
     "metadata": {},
     "output_type": "execute_result"
    }
   ],
   "execution_count": 27
  },
  {
   "cell_type": "markdown",
   "id": "0cc70b2d-cc66-42d0-8b37-8251f9e66636",
   "metadata": {
    "id": "0cc70b2d-cc66-42d0-8b37-8251f9e66636"
   },
   "source": [
    "## Task 1.3: Deep Survival Prediction for Heart Transplantation [8 pts]"
   ]
  },
  {
   "cell_type": "markdown",
   "id": "36d97445-e2aa-4429-9655-5c25041b2c67",
   "metadata": {
    "id": "36d97445-e2aa-4429-9655-5c25041b2c67"
   },
   "source": [
    "####  Setup and Dataset\n",
    "\n",
    "For this task, we will use data collected by the United Network for Organ Sharing (UNOS) [2], a non-profit organization that administers the only Organ Procurement and Transplantation Network (OPTN) in the US. UNOS is involved in many aspects of the organ transplant and donation process in the US, including data collection and maintenance, providing assitance to patients and care takers, and informing policy makers on the best use of the limited supply of organs and give all patients a fair chance at receiving the organ they need. UNOS manages the heart transplant waiting list, i.e., the list of terminally-ill patients waiting for donor heart. In order to determine the order of priority for receipt of a donor heart, individuals are classified by degrees of severity for a donor heart, blood type, body weight, and geographic location.\n",
    "\n",
    "This Task will focus on the cohort of terminally-ill patients who are enrolled in the wait-list for heart transplantation. In this setup, our goal is to predict the patients who are less likely to survive in order to prioritize them for receiving donated organs. The UNOS data covers 30 years of heart transplantation data in the US, spanning the years from 1985 to 2015. We will use data for patients who were on the wait-list for heart transplantation in the US from 1985 to 2010 (27,926 patients) to train an ML-based model for predicting individual-level survival. A held-out test set of 8,403 patients enrolled in the wait-list between 2010 and 2015 will be used by the instructor to evaluate your model. You can load the UNOS data in pandas as follows."
   ]
  },
  {
   "metadata": {},
   "cell_type": "code",
   "source": [
    "import pandas as pd\n",
    "from src.directory import csv_paths"
   ],
   "id": "a8ba14399b5fda90",
   "outputs": [],
   "execution_count": null
  },
  {
   "cell_type": "code",
   "id": "e147b2a3-26d5-4bbc-8266-61f71ca8be9d",
   "metadata": {
    "id": "e147b2a3-26d5-4bbc-8266-61f71ca8be9d"
   },
   "source": "UNOS_data = pd.read_csv(csv_paths['unos'])",
   "outputs": [],
   "execution_count": null
  },
  {
   "metadata": {},
   "cell_type": "code",
   "source": "UNOS_data",
   "id": "4a3188984f40bca7",
   "outputs": [],
   "execution_count": null
  },
  {
   "metadata": {},
   "cell_type": "code",
   "source": "UNOS_data.describe()",
   "id": "69f65a78610cfb8b",
   "outputs": [],
   "execution_count": null
  },
  {
   "metadata": {},
   "cell_type": "code",
   "source": "print(f'NA Count by Variable : {UNOS_data.isna().sum(axis=0)[UNOS_data.isna().sum(axis=0) > 0]}')",
   "id": "52750ffcdc41b64a",
   "outputs": [],
   "execution_count": null
  },
  {
   "cell_type": "markdown",
   "id": "a2c649f9-08b6-4496-8bf3-31ae2106c0fd",
   "metadata": {
    "id": "a2c649f9-08b6-4496-8bf3-31ae2106c0fd"
   },
   "source": [
    "#### Feature Dictionary\n",
    "\n",
    "Each patient's record in the UNOS database is associated with the following variables:"
   ]
  },
  {
   "cell_type": "code",
   "id": "21caaba9-5f43-4c70-8265-afce7e77782d",
   "metadata": {
    "id": "21caaba9-5f43-4c70-8265-afce7e77782d"
   },
   "source": [
    "patient_variables   = [\"init_age\", \"gender\", \"hgt_cm_tcr\", \"wgt_kg_tcr\", \"diab\", \"ventilator_tcr\",\n",
    "                       \"ecmo_tcr\", \"most_rcnt_creat\", \"abo_A\", \"abo_B\", \"abo_O\", \"vad_while_listed\",\n",
    "                       \"days_stat1\", \"days_stat1a\", \"days_stat2\", \"days_stat1b\", \"iabp_tcr\",\n",
    "                       \"init_bmi_calc\", \"tah\", \"inotropic\", \"Censor (Censor = 1)\", \"Survival Time\"]"
   ],
   "outputs": [],
   "execution_count": null
  },
  {
   "cell_type": "markdown",
   "id": "224d7db7-36fa-4285-8dc1-fb202b608f7a",
   "metadata": {
    "id": "224d7db7-36fa-4285-8dc1-fb202b608f7a"
   },
   "source": [
    "The interpretation of each variable is provided below:\n",
    "\n",
    "- \"init_age\": Patient's age at time of enrolling in the wait-list\n",
    "- \"gender\": Patient's biological sex\n",
    "- \"hgt_cm_tcr\": Patient's height in cm\n",
    "- \"wgt_kg_tcr\": Patient's weight in kgs\n",
    "- \"diab\": Indication on whether or not the patient is diabetic\n",
    "- \"abo_A\": Indication on whether patient's blood type is A\n",
    "- \"abo_B\": Indication on whether patient's blood type is B\n",
    "- \"abo_O\": Indication on whether patient's blood type is O\n",
    "- \"ventilator_tcr\": Indication on whether the patient was dependent on a ventilator at time of enrollment in the wait-list\n",
    "- \"ecmo_tcr\": Indication on whether the patient was treated with ECMO (extracorporeal membrane oxygenation) by the time they where enrolled in the wait-list. ECMO is an artificial life support that continuously pumps blood out of the patient's body and sends it through a series of devices that add oxygen and remove carbon dioxide, pumping the blood back to the patient. It is used for a patient whose heart and lungs are not functioning properly.  \n",
    "- \"most_rcnt_creat\": Creatinine level in the patient's most recent blood test before enrolling in wait-list.\n",
    "- \"vad_while_listed\": Whether the patient was on ventricular assist device (VAD) support when listed for a heart transplant. VAD is a mechanical pump used to restore cardiac function by pumping blood from the lower chambers of the heart to the rest of the body.\n",
    "- \"iabp_tcr\": Whether the patient was on Intra-Aortic Balloon Pump (IABP) Therapy. This is a therapeutic device used to improve blood flow when the heart is unable to pump enough blood for your body.\n",
    "- \"init_bmi_calc\": Patient's Body Mass Index at time of enrollment in the wait-list.\n",
    "- \"tah\": Whether the patient underwent a total artificial heart (TAH) surgery. This is a mechanical pump that replaces the heart when it is not working as it should.\n",
    "- \"inotropic\": Whether the patient was on an Inotropic drug at time of enrollment in wait-list. These are medicines that change the force of the heart's contractions.\n",
    "- \"days_stat1\", \"days_stat1a\", \"days_stat1b\", \"days_stat2\": UNOS has an internal system for classifying the priority of patients for receiving a heart transplant. Individuals classified as Status 1A have the highest priority on the heart transplant waiting list. Status 1A are individuals who must stay in the hospital as in-patients and require high doses of intravenous drugs, require a VAD for survival, are dependent on a ventilator or have a life expectancy of a week or less without a transplant. Individuals classified as Status 1B are generally not required to stay in the hospital as in-patients. All other candidates for the transplant are listed under Status 2. These variables indicate the number of days a patient spends in each status during the time between their enrollment in the wait-list and death or reception of a transplant.\n",
    "- \"Censor (Censor = 1)\": Indication of censoring\n",
    "- \"Survival Time\": Time between enrollment in wait-list and death"
   ]
  },
  {
   "cell_type": "markdown",
   "id": "481eae55-45ef-46b9-9d45-a0a63f1da3d8",
   "metadata": {
    "id": "481eae55-45ef-46b9-9d45-a0a63f1da3d8"
   },
   "source": "### Task 1.3.2"
  },
  {
   "metadata": {
    "ExecuteTime": {
     "end_time": "2025-01-17T23:44:27.850737Z",
     "start_time": "2025-01-17T23:44:26.592201Z"
    }
   },
   "cell_type": "code",
   "source": [
    "import numpy as np\n",
    "import pandas as pd\n",
    "from src.data_dict import feature_config\n",
    "from src.directory import csv_paths, deep_survival_model_path\n",
    "from src.torch import DeepSurvival\n",
    "from lifelines import KaplanMeierFitter\n",
    "import matplotlib.pyplot as plt\n",
    "from sklearn.model_selection import train_test_split"
   ],
   "id": "392a9b1f33fdadc4",
   "outputs": [],
   "execution_count": 1
  },
  {
   "metadata": {
    "ExecuteTime": {
     "end_time": "2025-01-17T23:50:23.746826Z",
     "start_time": "2025-01-17T23:50:23.691724Z"
    }
   },
   "cell_type": "code",
   "source": [
    "event_col = \"Censor (Censor = 1)\"\n",
    "time_col = \"Survival Time\"\n",
    "\n",
    "UNOS_data = pd.read_csv(csv_paths['unos'])\n",
    "X = UNOS_data[feature_config['unos']].to_numpy()\n",
    "T = UNOS_data[time_col].to_numpy()\n",
    "C = UNOS_data[event_col].to_numpy()\n",
    "n_features = X.shape[1]\n",
    "\n",
    "X_train, X_test, T_train, T_test, C_train, C_test = train_test_split(X, T, C, test_size=.2, random_state=40)"
   ],
   "id": "e1b0a28238dbcecf",
   "outputs": [],
   "execution_count": 13
  },
  {
   "cell_type": "code",
   "id": "afa53cdd-d1af-4c4e-99ad-cea20184c547",
   "metadata": {
    "id": "afa53cdd-d1af-4c4e-99ad-cea20184c547",
    "ExecuteTime": {
     "end_time": "2025-01-17T23:50:36.915697Z",
     "start_time": "2025-01-17T23:50:24.232193Z"
    }
   },
   "source": [
    "model = DeepSurvival(input_dim=n_features, save_path=deep_survival_model_path)\n",
    "model.fit(X_train, T_train, C_train)"
   ],
   "outputs": [
    {
     "name": "stdout",
     "output_type": "stream",
     "text": [
      "11 negative time samples found. Adjusting by setting t == 0.\n"
     ]
    },
    {
     "name": "stderr",
     "output_type": "stream",
     "text": [
      "Training DeepSurvival, epoch 18/1000, val_loss:tensor([[5.6725]], dtype=torch.float64), train_loss:tensor([[5.6230]], dtype=torch.float64, grad_fn=<DivBackward0>):   2%|▏         | 18/1000 [00:12<11:31,  1.42it/s]"
     ]
    },
    {
     "name": "stdout",
     "output_type": "stream",
     "text": [
      "Early stopping triggered at epoch 19\n"
     ]
    },
    {
     "name": "stderr",
     "output_type": "stream",
     "text": [
      "\n"
     ]
    }
   ],
   "execution_count": 14
  },
  {
   "metadata": {
    "ExecuteTime": {
     "end_time": "2025-01-17T23:50:40.688244Z",
     "start_time": "2025-01-17T23:50:40.102916Z"
    }
   },
   "cell_type": "code",
   "source": [
    "# check test c_index\n",
    "cindex = model.get_cindex(X_test, T_test, C_test)\n",
    "print('C-index on test set:', cindex.item())"
   ],
   "id": "6ef333a0a87585be",
   "outputs": [
    {
     "name": "stdout",
     "output_type": "stream",
     "text": [
      "C-index on test set: 0.626783592227546\n"
     ]
    }
   ],
   "execution_count": 15
  },
  {
   "metadata": {
    "ExecuteTime": {
     "end_time": "2025-01-17T23:50:41.841257Z",
     "start_time": "2025-01-17T23:50:41.820567Z"
    }
   },
   "cell_type": "code",
   "source": "predictions = model.predict(X, max_years=10)",
   "id": "8e2bc4a61ed30ce3",
   "outputs": [],
   "execution_count": 16
  },
  {
   "metadata": {
    "ExecuteTime": {
     "end_time": "2025-01-17T23:50:49.372050Z",
     "start_time": "2025-01-17T23:50:49.285784Z"
    }
   },
   "cell_type": "code",
   "source": [
    "# plot mean survival curve\n",
    "plt.plot(predictions.mean(axis=0), label='DeepSurvival')\n",
    "\n",
    "# plot KM survival curve\n",
    "kmf = KaplanMeierFitter()\n",
    "kmf.fit(UNOS_data[time_col]/365, event_observed=UNOS_data[event_col])\n",
    "kmf.plot_survival_function(label='Lifelines KM')\n",
    "\n",
    "# adjust plot\n",
    "plt.xlim((-0.5, 10))\n",
    "plt.ylim((0,1.05))\n",
    "plt.xlabel(\"Years\")\n",
    "plt.ylabel(\"Survival Probability\")\n",
    "plt.legend()\n",
    "plt.show()"
   ],
   "id": "270bab68b937ea8a",
   "outputs": [
    {
     "data": {
      "text/plain": [
       "<Figure size 640x480 with 1 Axes>"
      ],
      "image/png": "[encoded data removed]"
     },
     "metadata": {},
     "output_type": "display_data"
    }
   ],
   "execution_count": 18
  },
  {
   "cell_type": "markdown",
   "source": [
    "## Task 1.4: Handling Informative Censoring via Domain Adaptation [8 pts]"
   ],
   "metadata": {
    "id": "34zzM6FhbUud"
   },
   "id": "34zzM6FhbUud"
  },
  {
   "cell_type": "code",
   "source": [
    "# >> Write your code here <<"
   ],
   "metadata": {
    "id": "XuwUXwAEbPSN"
   },
   "id": "XuwUXwAEbPSN",
   "outputs": [],
   "execution_count": null
  },
  {
   "cell_type": "markdown",
   "id": "cdafc12b-0755-4289-aa17-6fe5e254df45",
   "metadata": {
    "id": "cdafc12b-0755-4289-aa17-6fe5e254df45"
   },
   "source": [
    "## References\n",
    "\n",
    "[1] Chicco, Davide, and Giuseppe Jurman. “Machine learning can predict survival of patients with heart failure from serum creatinine and ejection fraction alone.” BMC Medical Informatics and Decision Making, vol.\n",
    "20, no. 1 (2020): 1-16.\n",
    "\n",
    "[2] Weiss, Eric S., Lois U. Nwakanma, Stuart B. Russell, John V. Conte, and Ashish S. Shah. “Outcomes in\n",
    "bicaval versus biatrial techniques in heart transplantation: an analysis of the UNOS database.” The Journal\n",
    "of heart and lung transplantation, vol. 27, no. 2 (2008): 178-183."
   ]
  }
 ],
 "metadata": {
  "kernelspec": {
   "display_name": "Python 3 (ipykernel)",
   "language": "python",
   "name": "python3"
  },
  "language_info": {
   "codemirror_mode": {
    "name": "ipython",
    "version": 3
   },
   "file_extension": ".py",
   "mimetype": "text/x-python",
   "name": "python",
   "nbconvert_exporter": "python",
   "pygments_lexer": "ipython3",
   "version": "3.11.2"
  },
  "colab": {
   "provenance": []
  }
 },
 "nbformat": 4,
 "nbformat_minor": 5
}
