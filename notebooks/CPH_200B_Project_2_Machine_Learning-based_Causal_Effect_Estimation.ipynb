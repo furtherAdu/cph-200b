{
 "cells": [
  {
   "cell_type": "code",
   "execution_count": 1,
   "metadata": {},
   "outputs": [],
   "source": [
    "%reload_ext autoreload\n",
    "%autoreload 2\n",
    "\n",
    "import sys\n",
    "import os\n",
    "\n",
    "path_to_project = os.path.abspath(os.path.join(os.getcwd(), '../'))    \n",
    "sys.path.insert(1, os.path.join(path_to_project))"
   ]
  },
  {
   "cell_type": "markdown",
   "metadata": {},
   "source": [
    "## 2.1 Warm-up Exercise: Hypothesis Testing & Confounding [6 pts]"
   ]
  },
  {
   "cell_type": "markdown",
   "metadata": {},
   "source": [
    "Task 2.1.1 [1 pts]. Implement the Log-Rank test from scratch in Python. Using the UNOS dataset, apply\n",
    "your implemented test to check whether the survival outcomes of patients on ventricular assist device (VAD)\n",
    "support differ from those of patients without VAD support."
   ]
  },
  {
   "cell_type": "code",
   "execution_count": null,
   "metadata": {},
   "outputs": [],
   "source": [
    "import pandas as pd\n",
    "from src.directory import dataset_paths\n",
    "from src.metrics import log_rank_test"
   ]
  },
  {
   "cell_type": "code",
   "execution_count": null,
   "metadata": {},
   "outputs": [],
   "source": [
    "UNOS_data = pd.read_csv(dataset_paths['unos'])\n",
    "event_col = \"Censor (Censor = 1)\"\n",
    "time_col = \"Survival Time\""
   ]
  },
  {
   "cell_type": "code",
   "execution_count": 4,
   "metadata": {},
   "outputs": [
    {
     "data": {
      "text/plain": [
       "(-8.955531156690666, 0.005532614903659416)"
      ]
     },
     "execution_count": 4,
     "metadata": {},
     "output_type": "execute_result"
    }
   ],
   "source": [
    "log_rank_results = log_rank_test(UNOS_data, \n",
    "                                event_col=\"Censor (Censor = 1)\", \n",
    "                                time_col=\"Survival Time\",\n",
    "                                group_col=\"vad_while_listed\")\n",
    "Z, p_value = log_rank_results\n",
    "Z, p_value"
   ]
  },
  {
   "cell_type": "markdown",
   "metadata": {},
   "source": [
    "Task 2.1.2 [1 pts]. Propose a method to determine if there are confounders in the UNOS dataset for the ef-\n",
    "fect of VAD support on survival outcomes. List all detected confounders."
   ]
  },
  {
   "cell_type": "code",
   "execution_count": 5,
   "metadata": {},
   "outputs": [],
   "source": [
    "from src.data_dict import feature_config\n",
    "from src.utils import test_unconfoundedness_by_feature"
   ]
  },
  {
   "cell_type": "code",
   "execution_count": 6,
   "metadata": {},
   "outputs": [],
   "source": [
    "vad_col = \"vad_while_listed\"\n",
    "feature_cols = list(set(feature_config['unos']) - set([vad_col]))"
   ]
  },
  {
   "cell_type": "code",
   "execution_count": 7,
   "metadata": {},
   "outputs": [
    {
     "data": {
      "text/html": [
       "<div>\n",
       "<style scoped>\n",
       "    .dataframe tbody tr th:only-of-type {\n",
       "        vertical-align: middle;\n",
       "    }\n",
       "\n",
       "    .dataframe tbody tr th {\n",
       "        vertical-align: top;\n",
       "    }\n",
       "\n",
       "    .dataframe thead th {\n",
       "        text-align: right;\n",
       "    }\n",
       "</style>\n",
       "<table border=\"1\" class=\"dataframe\">\n",
       "  <thead>\n",
       "    <tr style=\"text-align: right;\">\n",
       "      <th></th>\n",
       "      <th>corr</th>\n",
       "      <th>p_value</th>\n",
       "      <th>confounder</th>\n",
       "    </tr>\n",
       "    <tr>\n",
       "      <th>feature</th>\n",
       "      <th></th>\n",
       "      <th></th>\n",
       "      <th></th>\n",
       "    </tr>\n",
       "  </thead>\n",
       "  <tbody>\n",
       "    <tr>\n",
       "      <th>init_bmi_calc</th>\n",
       "      <td>0.231843</td>\n",
       "      <td>0.0</td>\n",
       "      <td>True</td>\n",
       "    </tr>\n",
       "    <tr>\n",
       "      <th>gender</th>\n",
       "      <td>-0.037045</td>\n",
       "      <td>0.005622</td>\n",
       "      <td>True</td>\n",
       "    </tr>\n",
       "    <tr>\n",
       "      <th>abo_A</th>\n",
       "      <td>0.048125</td>\n",
       "      <td>0.000321</td>\n",
       "      <td>True</td>\n",
       "    </tr>\n",
       "    <tr>\n",
       "      <th>inotropic</th>\n",
       "      <td>0.150174</td>\n",
       "      <td>0.0</td>\n",
       "      <td>True</td>\n",
       "    </tr>\n",
       "    <tr>\n",
       "      <th>ventilator_tcr</th>\n",
       "      <td>0.258398</td>\n",
       "      <td>0.0</td>\n",
       "      <td>True</td>\n",
       "    </tr>\n",
       "    <tr>\n",
       "      <th>hgt_cm_tcr</th>\n",
       "      <td>0.161952</td>\n",
       "      <td>0.0</td>\n",
       "      <td>True</td>\n",
       "    </tr>\n",
       "    <tr>\n",
       "      <th>init_age</th>\n",
       "      <td>0.132576</td>\n",
       "      <td>0.0</td>\n",
       "      <td>True</td>\n",
       "    </tr>\n",
       "    <tr>\n",
       "      <th>abo_B</th>\n",
       "      <td>0.058546</td>\n",
       "      <td>0.000012</td>\n",
       "      <td>True</td>\n",
       "    </tr>\n",
       "    <tr>\n",
       "      <th>diab</th>\n",
       "      <td>0.036893</td>\n",
       "      <td>0.005821</td>\n",
       "      <td>True</td>\n",
       "    </tr>\n",
       "    <tr>\n",
       "      <th>wgt_kg_tcr</th>\n",
       "      <td>0.243293</td>\n",
       "      <td>0.0</td>\n",
       "      <td>True</td>\n",
       "    </tr>\n",
       "    <tr>\n",
       "      <th>iabp_tcr</th>\n",
       "      <td>-0.144937</td>\n",
       "      <td>0.0</td>\n",
       "      <td>True</td>\n",
       "    </tr>\n",
       "    <tr>\n",
       "      <th>most_rcnt_creat</th>\n",
       "      <td>0.03106</td>\n",
       "      <td>0.020262</td>\n",
       "      <td>True</td>\n",
       "    </tr>\n",
       "    <tr>\n",
       "      <th>tah</th>\n",
       "      <td>0.031514</td>\n",
       "      <td>0.018502</td>\n",
       "      <td>True</td>\n",
       "    </tr>\n",
       "    <tr>\n",
       "      <th>abo_O</th>\n",
       "      <td>0.102527</td>\n",
       "      <td>0.0</td>\n",
       "      <td>True</td>\n",
       "    </tr>\n",
       "    <tr>\n",
       "      <th>ecmo_tcr</th>\n",
       "      <td>0.1949</td>\n",
       "      <td>0.0</td>\n",
       "      <td>True</td>\n",
       "    </tr>\n",
       "  </tbody>\n",
       "</table>\n",
       "</div>"
      ],
      "text/plain": [
       "                     corr   p_value  confounder\n",
       "feature                                        \n",
       "init_bmi_calc    0.231843       0.0        True\n",
       "gender          -0.037045  0.005622        True\n",
       "abo_A            0.048125  0.000321        True\n",
       "inotropic        0.150174       0.0        True\n",
       "ventilator_tcr   0.258398       0.0        True\n",
       "hgt_cm_tcr       0.161952       0.0        True\n",
       "init_age         0.132576       0.0        True\n",
       "abo_B            0.058546  0.000012        True\n",
       "diab             0.036893  0.005821        True\n",
       "wgt_kg_tcr       0.243293       0.0        True\n",
       "iabp_tcr        -0.144937       0.0        True\n",
       "most_rcnt_creat   0.03106  0.020262        True\n",
       "tah              0.031514  0.018502        True\n",
       "abo_O            0.102527       0.0        True\n",
       "ecmo_tcr           0.1949       0.0        True"
      ]
     },
     "execution_count": 7,
     "metadata": {},
     "output_type": "execute_result"
    }
   ],
   "source": [
    "# test unconfoundedness/conditional ignorability\n",
    "confounders = test_unconfoundedness_by_feature(UNOS_data, \n",
    "                                               outcome_col=time_col,\n",
    "                                               conditional_col=vad_col,\n",
    "                                               feature_cols=feature_cols)\n",
    "confounders"
   ]
  },
  {
   "cell_type": "markdown",
   "metadata": {},
   "source": [
    "Task 2.1.3 [2 pts]. For the comparison of survival curves to have a causal interpretation, we need to adjust\n",
    "for confounding variables that may cause the patient groups being compared to have different clinical features. Propose a propensity-weighted version of the Kaplan-Meier estimator you implemented in Project 1 that ad-\n",
    "justs for confounding. Plot the propensity-weighted Kaplan-Meier curves in patients with and without VAD.\n",
    "Compare this plot with the survival curves of both groups using the standard Kaplan-Meier estimators."
   ]
  },
  {
   "cell_type": "code",
   "execution_count": null,
   "metadata": {},
   "outputs": [],
   "source": [
    "from copy import deepcopy\n",
    "from lifelines import KaplanMeierFitter\n",
    "import matplotlib.pyplot as plt\n",
    "import seaborn as sns\n",
    "from src.estimators import kaplan_meier\n",
    "from src.utils import get_propensity_scores\n"
   ]
  },
  {
   "cell_type": "code",
   "execution_count": 9,
   "metadata": {},
   "outputs": [],
   "source": [
    "# get propensity scores\n",
    "propensity_col = 'propensity_vad'\n",
    "propensity_score = get_propensity_scores(UNOS_data, T_col=vad_col, X_cols=feature_cols)\n",
    "propensity_df = deepcopy(UNOS_data)\n",
    "propensity_df[propensity_col] = propensity_score"
   ]
  },
  {
   "cell_type": "code",
   "execution_count": 10,
   "metadata": {},
   "outputs": [
    {
     "data": {
      "image/png": "[encoded data removed]",
      "text/plain": [
       "<Figure size 640x480 with 2 Axes>"
      ]
     },
     "metadata": {},
     "output_type": "display_data"
    }
   ],
   "source": [
    "# set CI alpha\n",
    "alpha = 0.05\n",
    "\n",
    "# create figure\n",
    "nrows = 2\n",
    "fig, axs = plt.subplots(nrows=nrows, sharex=True)\n",
    "axs = axs.ravel()\n",
    "colors = sns.color_palette()\n",
    "\n",
    "for i, group in enumerate([0,1]):\n",
    "    ax = axs[i]\n",
    "\n",
    "    # get group data\n",
    "    group_data = propensity_df.query(f'{vad_col}=={group}')\n",
    "\n",
    "    # plot lifelines KM\n",
    "    kmf = KaplanMeierFitter(alpha=alpha)\n",
    "    kmf.fit(group_data[time_col], event_observed=group_data[event_col])\n",
    "    kmf.plot_survival_function(label=f'Unadjusted', ax=ax, c=colors[0])\n",
    "\n",
    "    # get propensity-weighted KM estimate from scratch\n",
    "    km_df = kaplan_meier(group_data, time_col, event_col, \n",
    "                         propensity_col=propensity_col, \n",
    "                         alpha=alpha)\n",
    "    sns.lineplot(data=km_df, x='time', y='survival_prob',\n",
    "                 drawstyle='steps-pre', ax=ax, label='Propensity-weighted', legend=True, c=colors[1])\n",
    "    ax.fill_between(km_df['time'], km_df['ci_lower'], km_df['ci_upper'], alpha=0.3, color=colors[1])\n",
    "\n",
    "    ax.set_title(f'VAD=={group}')\n",
    "    ax.set_ylim([0, 1])\n",
    "    ax.set_xlim([0, UNOS_data[time_col].max()])\n",
    "\n",
    "plt.suptitle(fr'Kaplan-Meier Estimates, CI $\\alpha$ ={alpha}')\n",
    "plt.show()"
   ]
  },
  {
   "cell_type": "markdown",
   "metadata": {},
   "source": [
    "Task 2.1.4 [2 pts]. Propose a propensity-weighted version of the Long-Rank test. Apply this test to check\n",
    "whether the survival outcomes of patients on VAD support differ from those of patients without VAD. Com-\n",
    "pare the result of this test with the unadjusted test you implemented in Task 2.1.1. Comment on the results."
   ]
  },
  {
   "cell_type": "code",
   "execution_count": 11,
   "metadata": {},
   "outputs": [
    {
     "data": {
      "text/plain": [
       "(-1.134692377210382, 0.5735533100601058)"
      ]
     },
     "execution_count": 11,
     "metadata": {},
     "output_type": "execute_result"
    }
   ],
   "source": [
    "log_rank_results = log_rank_test(propensity_df,\n",
    "                                event_col=\"Censor (Censor = 1)\", \n",
    "                                time_col=\"Survival Time\",\n",
    "                                group_col=\"vad_while_listed\",\n",
    "                                propensity_col=propensity_col)\n",
    "Z, p_value = log_rank_results\n",
    "Z, p_value"
   ]
  },
  {
   "cell_type": "markdown",
   "metadata": {},
   "source": [
    "## 2.2 ML-based Estimation of Average Treatment Effects [6 pts]"
   ]
  },
  {
   "cell_type": "markdown",
   "metadata": {},
   "source": [
    "Estimate the average effect of aspirin and heparin on 14-day mortality using the following estimators. Com-\n",
    "pare your estimates with those of the original trial and provide commentary on the results"
   ]
  },
  {
   "cell_type": "markdown",
   "metadata": {},
   "source": [
    "Task 2.2.1 [1 pts]. A standard difference-in-means estimator.<br />\n",
    "Task 2.2.2 [1 pts]. An inverse propensity weighting (IPW) estimator using a Gradient Boosting model for\n",
    "the propensity scores.<br />\n",
    "Task 2.2.3 [2 pts]. A covariate adjustment estimator using a Gradient Boosting model with T-learner, S-\n",
    "learner, and X-learner architectures.<br />\n",
    "Task 2.2.4 [2 pts]. An augmented IPW (doubly-robust) estimator that combines the propensity model from\n",
    "Task 2.2.2 and an outcomes model based on the S-learner in Task 2.2.3."
   ]
  },
  {
   "cell_type": "code",
   "execution_count": 1,
   "metadata": {},
   "outputs": [],
   "source": [
    "%reload_ext autoreload\n",
    "%autoreload 2\n",
    "\n",
    "import sys\n",
    "import os\n",
    "\n",
    "path_to_project = os.path.abspath(os.path.join(os.getcwd(), '../'))    \n",
    "sys.path.insert(1, os.path.join(path_to_project))"
   ]
  },
  {
   "cell_type": "code",
   "execution_count": null,
   "metadata": {},
   "outputs": [],
   "source": [
    "from itertools import product\n",
    "import pandas as pd\n",
    "from src.directory import dataset_paths\n",
    "from src.data_dict import feature_config\n",
    "from src.utils import preprocess_ist\n",
    "from src.estimators import unadjusted_DM_estimator, ipw_estimator, t_learner, s_learner, x_learner, aipw_estimator"
   ]
  },
  {
   "cell_type": "code",
   "execution_count": 3,
   "metadata": {},
   "outputs": [],
   "source": [
    "# event censoring\n",
    "event_col = 'SET14D'\n",
    "\n",
    "# time to event\n",
    "time_col = 'TD'\n",
    "\n",
    "# outcomes \n",
    "mortality14_col = 'ID14'\n",
    "\n",
    "# predictions\n",
    "exp_mortality14_col = 'EXPD14'\n",
    "\n",
    "# treatments\n",
    "asp_col = 'DASP14'\n",
    "low_dose_hep_col = 'DLH14'\n",
    "med_dose_hep_cols = ['DMH14', 'DHH14']\n",
    "heparin_cols = [low_dose_hep_col, *med_dose_hep_cols]\n",
    "combined_hep_col = 'DH14'\n",
    "\n",
    "# features\n",
    "ist_feature_cols = feature_config['ist']\n",
    "\n",
    "# columns to read in\n",
    "select_ist_cols = [event_col, time_col, mortality14_col, exp_mortality14_col, asp_col, *heparin_cols, *ist_feature_cols]\n",
    "\n",
    "# columns not to transform\n",
    "untransformed_cols = [x for x in select_ist_cols if x in [event_col, time_col, mortality14_col, exp_mortality14_col, asp_col]]"
   ]
  },
  {
   "cell_type": "code",
   "execution_count": 4,
   "metadata": {},
   "outputs": [
    {
     "name": "stderr",
     "output_type": "stream",
     "text": [
      "/tmp/ipykernel_526798/892560532.py:2: DtypeWarning: Columns (31) have mixed types. Specify dtype option on import or set low_memory=False.\n",
      "  ist_corrected = pd.read_csv(dataset_paths['ist_corrected'], sep='\\t', encoding='utf-16', usecols=select_ist_cols) # corrected\n"
     ]
    }
   ],
   "source": [
    "# read in data\n",
    "ist_corrected = pd.read_csv(dataset_paths['ist_corrected'], sep='\\t', encoding='utf-16', usecols=select_ist_cols) # corrected\n",
    "ist_original = pd.read_csv(dataset_paths['ist_original'], usecols=select_ist_cols) # observational"
   ]
  },
  {
   "cell_type": "code",
   "execution_count": 5,
   "metadata": {},
   "outputs": [
    {
     "name": "stderr",
     "output_type": "stream",
     "text": [
      "/home/hentipapai/PycharmProjects/cph-200b/src/utils.py:141: FutureWarning: Downcasting behavior in `replace` is deprecated and will be removed in a future version. To retain the old behavior, explicitly call `result.infer_objects(copy=False)`. To opt-in to the future behavior, set `pd.set_option('future.no_silent_downcasting', True)`\n",
      "  data = data.replace({'Y':1, 'y':1, 'N':0, 'n':0, 'C':float('nan'), 'U': float('nan')})\n",
      "/home/hentipapai/PycharmProjects/cph-200b/src/utils.py:141: FutureWarning: Downcasting behavior in `replace` is deprecated and will be removed in a future version. To retain the old behavior, explicitly call `result.infer_objects(copy=False)`. To opt-in to the future behavior, set `pd.set_option('future.no_silent_downcasting', True)`\n",
      "  data = data.replace({'Y':1, 'y':1, 'N':0, 'n':0, 'C':float('nan'), 'U': float('nan')})\n"
     ]
    }
   ],
   "source": [
    "ist_corrected, covariates = preprocess_ist(ist_corrected, \n",
    "                                           feature_cols=ist_feature_cols,\n",
    "                                           untransformed_cols=untransformed_cols,\n",
    "                                           heparin_cols=heparin_cols,\n",
    "                                           combined_hep_col=combined_hep_col)\n",
    "ist_corrected.name = 'ist_corrected'\n",
    "\n",
    "ist_original, _ = preprocess_ist(ist_original, \n",
    "                                feature_cols=ist_feature_cols,\n",
    "                                untransformed_cols=untransformed_cols,\n",
    "                                heparin_cols=heparin_cols,\n",
    "                                combined_hep_col=combined_hep_col)\n",
    "ist_original.name = 'ist_original'"
   ]
  },
  {
   "cell_type": "code",
   "execution_count": 6,
   "metadata": {},
   "outputs": [],
   "source": [
    "# set up results dataframe\n",
    "estimators = [unadjusted_DM_estimator, ipw_estimator, t_learner, s_learner, x_learner, aipw_estimator]\n",
    "ist_datasets = [ist_original, ist_corrected]\n",
    "\n",
    "estimator_names = [x.__name__ for x in estimators]\n",
    "dataset_names = [x.name for x in ist_datasets]\n",
    "\n",
    "index = pd.MultiIndex.from_product([dataset_names, estimator_names], names=['dataset', 'estimator'])\n",
    "tau_results = pd.DataFrame(index=index, columns=[asp_col, combined_hep_col])"
   ]
  },
  {
   "cell_type": "code",
   "execution_count": 7,
   "metadata": {},
   "outputs": [
    {
     "name": "stdout",
     "output_type": "stream",
     "text": [
      "ist_original unadjusted_DM_estimator, avg. effect for DASP14: -0.03498893363044499\n",
      "ist_original unadjusted_DM_estimator, avg. effect for DH14: -0.0033441506096889423\n",
      "ist_original ipw_estimator, avg. effect for DASP14: -0.013505366708275379\n",
      "ist_original ipw_estimator, avg. effect for DH14: -0.002651827430883226\n",
      "ist_original t_learner, avg. effect for DASP14: 0.010928961748633878\n",
      "ist_original t_learner, avg. effect for DH14: 0.004198152812762382\n",
      "ist_original s_learner, avg. effect for DASP14: -0.0014712063892391748\n",
      "ist_original s_learner, avg. effect for DH14: 0.0\n",
      "ist_original x_learner, avg. effect for DASP14: 0.0440041463522333\n",
      "ist_original x_learner, avg. effect for DH14: 0.007708126557640407\n",
      "ist_original aipw_estimator, avg. effect for DASP14: 0.17582557228895285\n",
      "ist_original aipw_estimator, avg. effect for DH14: 0.18349423595978082\n",
      "ist_corrected unadjusted_DM_estimator, avg. effect for DASP14: -0.012013646271336456\n",
      "ist_corrected unadjusted_DM_estimator, avg. effect for DH14: -0.005129427847479398\n",
      "ist_corrected ipw_estimator, avg. effect for DASP14: -0.00939731499574887\n",
      "ist_corrected ipw_estimator, avg. effect for DH14: -0.0038172778981488496\n",
      "ist_corrected t_learner, avg. effect for DASP14: -0.0009278828805608531\n",
      "ist_corrected t_learner, avg. effect for DH14: -0.0030357602263956767\n",
      "ist_corrected s_learner, avg. effect for DASP14: -0.0016495695654415183\n",
      "ist_corrected s_learner, avg. effect for DH14: -0.00041162850527399\n",
      "ist_corrected x_learner, avg. effect for DASP14: 0.0011345061441110904\n",
      "ist_corrected x_learner, avg. effect for DH14: 0.00491683730617092\n",
      "ist_corrected aipw_estimator, avg. effect for DASP14: 0.15414378282161506\n",
      "ist_corrected aipw_estimator, avg. effect for DH14: 0.1570761890895748\n"
     ]
    }
   ],
   "source": [
    "for data, tau_estimator, treatment in product(ist_datasets, estimators, [asp_col, combined_hep_col]):\n",
    "    estimator_name = tau_estimator.__name__\n",
    "    dataset_name = data.name\n",
    "    treatment_observed = ~data[treatment].isna()\n",
    "    tau = tau_estimator(data[treatment_observed], treatment_var=treatment, outcome_var=mortality14_col, covariates=covariates)\n",
    "    tau_results.loc[(dataset_name, estimator_name), treatment] = tau\n",
    "    print(f\"{dataset_name} {estimator_name}, avg. effect for {treatment}: {tau}\")"
   ]
  },
  {
   "cell_type": "code",
   "execution_count": 8,
   "metadata": {},
   "outputs": [
    {
     "data": {
      "text/html": [
       "<div>\n",
       "<style scoped>\n",
       "    .dataframe tbody tr th:only-of-type {\n",
       "        vertical-align: middle;\n",
       "    }\n",
       "\n",
       "    .dataframe tbody tr th {\n",
       "        vertical-align: top;\n",
       "    }\n",
       "\n",
       "    .dataframe thead th {\n",
       "        text-align: right;\n",
       "    }\n",
       "</style>\n",
       "<table border=\"1\" class=\"dataframe\">\n",
       "  <thead>\n",
       "    <tr style=\"text-align: right;\">\n",
       "      <th></th>\n",
       "      <th></th>\n",
       "      <th>DASP14</th>\n",
       "      <th>DH14</th>\n",
       "    </tr>\n",
       "    <tr>\n",
       "      <th>dataset</th>\n",
       "      <th>estimator</th>\n",
       "      <th></th>\n",
       "      <th></th>\n",
       "    </tr>\n",
       "  </thead>\n",
       "  <tbody>\n",
       "    <tr>\n",
       "      <th rowspan=\"6\" valign=\"top\">ist_original</th>\n",
       "      <th>unadjusted_DM_estimator</th>\n",
       "      <td>-0.034989</td>\n",
       "      <td>-0.003344</td>\n",
       "    </tr>\n",
       "    <tr>\n",
       "      <th>ipw_estimator</th>\n",
       "      <td>-0.013505</td>\n",
       "      <td>-0.002652</td>\n",
       "    </tr>\n",
       "    <tr>\n",
       "      <th>t_learner</th>\n",
       "      <td>0.010929</td>\n",
       "      <td>0.004198</td>\n",
       "    </tr>\n",
       "    <tr>\n",
       "      <th>s_learner</th>\n",
       "      <td>-0.001471</td>\n",
       "      <td>0.0</td>\n",
       "    </tr>\n",
       "    <tr>\n",
       "      <th>x_learner</th>\n",
       "      <td>0.044004</td>\n",
       "      <td>0.007708</td>\n",
       "    </tr>\n",
       "    <tr>\n",
       "      <th>aipw_estimator</th>\n",
       "      <td>0.175826</td>\n",
       "      <td>0.183494</td>\n",
       "    </tr>\n",
       "    <tr>\n",
       "      <th rowspan=\"6\" valign=\"top\">ist_corrected</th>\n",
       "      <th>unadjusted_DM_estimator</th>\n",
       "      <td>-0.012014</td>\n",
       "      <td>-0.005129</td>\n",
       "    </tr>\n",
       "    <tr>\n",
       "      <th>ipw_estimator</th>\n",
       "      <td>-0.009397</td>\n",
       "      <td>-0.003817</td>\n",
       "    </tr>\n",
       "    <tr>\n",
       "      <th>t_learner</th>\n",
       "      <td>-0.000928</td>\n",
       "      <td>-0.003036</td>\n",
       "    </tr>\n",
       "    <tr>\n",
       "      <th>s_learner</th>\n",
       "      <td>-0.00165</td>\n",
       "      <td>-0.000412</td>\n",
       "    </tr>\n",
       "    <tr>\n",
       "      <th>x_learner</th>\n",
       "      <td>0.001135</td>\n",
       "      <td>0.004917</td>\n",
       "    </tr>\n",
       "    <tr>\n",
       "      <th>aipw_estimator</th>\n",
       "      <td>0.154144</td>\n",
       "      <td>0.157076</td>\n",
       "    </tr>\n",
       "  </tbody>\n",
       "</table>\n",
       "</div>"
      ],
      "text/plain": [
       "                                         DASP14      DH14\n",
       "dataset       estimator                                  \n",
       "ist_original  unadjusted_DM_estimator -0.034989 -0.003344\n",
       "              ipw_estimator           -0.013505 -0.002652\n",
       "              t_learner                0.010929  0.004198\n",
       "              s_learner               -0.001471       0.0\n",
       "              x_learner                0.044004  0.007708\n",
       "              aipw_estimator           0.175826  0.183494\n",
       "ist_corrected unadjusted_DM_estimator -0.012014 -0.005129\n",
       "              ipw_estimator           -0.009397 -0.003817\n",
       "              t_learner               -0.000928 -0.003036\n",
       "              s_learner                -0.00165 -0.000412\n",
       "              x_learner                0.001135  0.004917\n",
       "              aipw_estimator           0.154144  0.157076"
      ]
     },
     "execution_count": 8,
     "metadata": {},
     "output_type": "execute_result"
    }
   ],
   "source": [
    "tau_results"
   ]
  },
  {
   "cell_type": "code",
   "execution_count": 10,
   "metadata": {},
   "outputs": [
    {
     "data": {
      "text/html": [
       "<div>\n",
       "<style scoped>\n",
       "    .dataframe tbody tr th:only-of-type {\n",
       "        vertical-align: middle;\n",
       "    }\n",
       "\n",
       "    .dataframe tbody tr th {\n",
       "        vertical-align: top;\n",
       "    }\n",
       "\n",
       "    .dataframe thead th {\n",
       "        text-align: right;\n",
       "    }\n",
       "</style>\n",
       "<table border=\"1\" class=\"dataframe\">\n",
       "  <thead>\n",
       "    <tr style=\"text-align: right;\">\n",
       "      <th></th>\n",
       "      <th>DASP14</th>\n",
       "      <th>DH14</th>\n",
       "    </tr>\n",
       "    <tr>\n",
       "      <th>estimator</th>\n",
       "      <th></th>\n",
       "      <th></th>\n",
       "    </tr>\n",
       "  </thead>\n",
       "  <tbody>\n",
       "    <tr>\n",
       "      <th>unadjusted_DM_estimator</th>\n",
       "      <td>-0.022975</td>\n",
       "      <td>0.001785</td>\n",
       "    </tr>\n",
       "    <tr>\n",
       "      <th>ipw_estimator</th>\n",
       "      <td>-0.004108</td>\n",
       "      <td>0.001165</td>\n",
       "    </tr>\n",
       "    <tr>\n",
       "      <th>t_learner</th>\n",
       "      <td>0.011857</td>\n",
       "      <td>0.007234</td>\n",
       "    </tr>\n",
       "    <tr>\n",
       "      <th>s_learner</th>\n",
       "      <td>0.000178</td>\n",
       "      <td>0.000412</td>\n",
       "    </tr>\n",
       "    <tr>\n",
       "      <th>x_learner</th>\n",
       "      <td>0.04287</td>\n",
       "      <td>0.002791</td>\n",
       "    </tr>\n",
       "    <tr>\n",
       "      <th>aipw_estimator</th>\n",
       "      <td>0.021682</td>\n",
       "      <td>0.026418</td>\n",
       "    </tr>\n",
       "  </tbody>\n",
       "</table>\n",
       "</div>"
      ],
      "text/plain": [
       "                           DASP14      DH14\n",
       "estimator                                  \n",
       "unadjusted_DM_estimator -0.022975  0.001785\n",
       "ipw_estimator           -0.004108  0.001165\n",
       "t_learner                0.011857  0.007234\n",
       "s_learner                0.000178  0.000412\n",
       "x_learner                 0.04287  0.002791\n",
       "aipw_estimator           0.021682  0.026418"
      ]
     },
     "execution_count": 10,
     "metadata": {},
     "output_type": "execute_result"
    }
   ],
   "source": [
    "# get difference of estimates\n",
    "diff_in_estimates = tau_results.query('dataset==\"ist_original\"').droplevel('dataset') \\\n",
    "    - tau_results.query('dataset==\"ist_corrected\"').droplevel('dataset')\n",
    "\n",
    "diff_in_estimates"
   ]
  },
  {
   "cell_type": "code",
   "execution_count": null,
   "metadata": {},
   "outputs": [],
   "source": []
  }
 ],
 "metadata": {
  "kernelspec": {
   "display_name": "cph-200b",
   "language": "python",
   "name": "python3"
  },
  "language_info": {
   "codemirror_mode": {
    "name": "ipython",
    "version": 3
   },
   "file_extension": ".py",
   "mimetype": "text/x-python",
   "name": "python",
   "nbconvert_exporter": "python",
   "pygments_lexer": "ipython3",
   "version": "3.11.11"
  }
 },
 "nbformat": 4,
 "nbformat_minor": 2
}
